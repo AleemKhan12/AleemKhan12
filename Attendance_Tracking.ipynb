{
  "nbformat": 4,
  "nbformat_minor": 0,
  "metadata": {
    "colab": {
      "name": "Attendance_Tracking",
      "provenance": [],
      "collapsed_sections": [],
      "toc_visible": true,
      "include_colab_link": true
    },
    "kernelspec": {
      "name": "python3",
      "display_name": "Python 3"
    },
    "language_info": {
      "name": "python"
    }
  },
  "cells": [
    {
      "cell_type": "markdown",
      "metadata": {
        "id": "view-in-github",
        "colab_type": "text"
      },
      "source": [
        "<a href=\"https://colab.research.google.com/github/AleemKhan12/AleemKhan12/blob/schema-2/Attendance_Tracking.ipynb\" target=\"_parent\"><img src=\"https://colab.research.google.com/assets/colab-badge.svg\" alt=\"Open In Colab\"/></a>"
      ]
    },
    {
      "cell_type": "code",
      "execution_count": 344,
      "metadata": {
        "id": "3bZwK5KysB9X",
        "colab": {
          "base_uri": "https://localhost:8080/",
          "height": 35
        },
        "outputId": "4bd6587c-2eef-4cdf-b0e3-d12294753372"
      },
      "outputs": [
        {
          "output_type": "execute_result",
          "data": {
            "application/vnd.google.colaboratory.intrinsic+json": {
              "type": "string"
            },
            "text/plain": [
              "'\\nISSUES\\n1. Schema 1 not suitable for visualization. Create dataframe with another schema (Schema 2) for easier visualization\\n\\n'"
            ]
          },
          "metadata": {},
          "execution_count": 344
        }
      ],
      "source": [
        "#Revision notes V0.7: Changed filter criteria from mentor name to mentor email to guarantee unique identifiers for each mentor\n",
        "\n",
        "'''\n",
        "ISSUES\n",
        "1. Schema 1 not suitable for visualization. Create dataframe with another schema (Schema 2) for easier visualization\n",
        "\n",
        "'''\n"
      ]
    },
    {
      "cell_type": "markdown",
      "source": [
        "# CONNECTING TO GOOGLE DRIVE"
      ],
      "metadata": {
        "id": "-e30JtYkfes_"
      }
    },
    {
      "cell_type": "code",
      "source": [
        "#connect colab to drive\n",
        "\n",
        "from google.colab import drive\n",
        "from oauth2client.client import GoogleCredentials\n",
        "from google.colab import auth\n",
        "import gspread\n",
        "drive.mount('/content/gdrive')\n",
        "auth.authenticate_user()\n",
        "gc = gspread.authorize(GoogleCredentials.get_application_default())\n"
      ],
      "metadata": {
        "colab": {
          "base_uri": "https://localhost:8080/"
        },
        "id": "kSWZfJ6tsNA6",
        "outputId": "e57f8023-208f-4a8d-e4d6-fbbd1605049f"
      },
      "execution_count": 345,
      "outputs": [
        {
          "output_type": "stream",
          "name": "stdout",
          "text": [
            "Drive already mounted at /content/gdrive; to attempt to forcibly remount, call drive.mount(\"/content/gdrive\", force_remount=True).\n"
          ]
        }
      ]
    },
    {
      "cell_type": "code",
      "source": [
        "#Imports\n",
        "import pandas as pd\n",
        "from datetime import date, timedelta\n",
        "import pytz\n",
        "from numpy.core.numeric import NaN\n",
        "import datetime\n",
        "import math\n",
        "\n"
      ],
      "metadata": {
        "id": "WhFJN5LatFdd"
      },
      "execution_count": 346,
      "outputs": []
    },
    {
      "cell_type": "markdown",
      "source": [
        "#IMPORTANT GLOBAL VARIABLES"
      ],
      "metadata": {
        "id": "JxViOjjIYCAK"
      }
    },
    {
      "cell_type": "code",
      "source": [
        "mentor_email = 'mentor@villagebookbuilders.org' #Mentor program email address\n",
        "oracle_data       = 0                           #Data read from Oracle Database SQL Query\n",
        "google_data       = 0                           #Data read from Google Audit Log\n",
        "active_sessions   = 0                           #Active sessions recorded in Oracle db based on end date\n",
        "total_mentors     = 0                           #List of all mentors names in oracle db\n",
        "oracle_mentor_emails = []                       #list of all mentor emails in oracle db\n",
        "active_mentors    = 0                           #Mentor names that joined at least one session \n",
        "active_mentor_emails = []                       #List of mentor emails that joined at least one session\n",
        "mentor_programs   = []                          #Names of all mentor programs stored in oracle database\n",
        "mentors_not_registered = []                     #Names of all active mentors not logged in oracle database\n",
        "time_zone = 'America/Port_of_Spain'             #google_data['Date'][1][len(google_data['Date'][1])-3:] #TODO: change this hard coded time zone\n",
        "start = 0                                       #start date\n",
        "end = 0                                         #end date\n",
        "program_director_name = ['adeiso ghana', 'ahero kenya', 'biwi, malawi vbb mentor program', 'charity centre, zambia vbb mentor program', 'chebosi kenya', 'kadzakalowa malawi', 'maragoli kenya', 'mukono uganda', 'vima ghana'] #Actor names of program director accounts"
      ],
      "metadata": {
        "id": "l3A_o3ChYGG2"
      },
      "execution_count": 347,
      "outputs": []
    },
    {
      "cell_type": "markdown",
      "source": [
        "# READING DATA SOURCES"
      ],
      "metadata": {
        "id": "B1NVU9iPfnsp"
      }
    },
    {
      "cell_type": "code",
      "source": [
        "#Read Data Sources as pandas data frames\n",
        "\n",
        "#Oracle Data\n",
        "oracle_path = '/content/gdrive/MyDrive/Projects/Mentor_Dashboard_V2/3. Execution/SRC Code/Data/export (1).csv' \n",
        "oracle_data = pd.read_csv(oracle_path)\n",
        "\n",
        "#Google Data\n",
        "#google_path = '/content/gdrive/MyDrive/Projects/Mentor_Dashboard_V2/3. Execution/SRC Code/Data/Google Audit Log/Jan 2022/Copy of meet_logs_1643126905783 - meet_logs_1643126905783.csv'\n",
        "google_path = '/content/gdrive/MyDrive/Projects/Mentor_Dashboard_V2/3. Execution/SRC Code/Data/Google Audit Log/Feb 2022/2 22 2022.csv'\n",
        "google_data = pd.read_csv(google_path)\n",
        "\n",
        "\n",
        "#Mentee Computer Emails\n",
        "mentee_email_path = '/content/gdrive/MyDrive/Projects/Mentor_Dashboard_V2/3. Execution/SRC Code/Data/mentee email/Copy of Village Library Information - computer email.csv'\n",
        "mentee_computer_emails = pd.read_csv(mentee_email_path)\n",
        "\n",
        "\n"
      ],
      "metadata": {
        "id": "ti3RqFW5uRou"
      },
      "execution_count": 348,
      "outputs": []
    },
    {
      "cell_type": "markdown",
      "source": [
        "\n",
        "# CLEANING DATA"
      ],
      "metadata": {
        "id": "dx1dhULnfsJF"
      }
    },
    {
      "cell_type": "code",
      "source": [
        "\n",
        "#Oracle Data\n",
        "oracle_data = oracle_data.dropna(subset=['HANGOUTS_LINK', 'FIRST_NAME', 'VBB_EMAIL']) #remove all empty sessions\n",
        "oracle_data = oracle_data[oracle_data['VBB_EMAIL'].str.contains(r'[^@]+@[^@]+\\.[^@]+')] #remove all nonvalid emails\n",
        "\n",
        "#Google Data\n",
        "google_data = google_data.dropna(subset=['Date', 'Meeting code', 'Participant Identifier', 'Organizer email', 'Duration', 'Actor name']) #clean google data\n",
        "google_data = google_data[google_data['Duration'] != 0] #drop all calls with 0 duration\n",
        "google_data = google_data[google_data['Organizer email'] == mentor_email] #only consider mentor sessions\n",
        "google_data = google_data[google_data['Actor name'] != 'Mentor Program'] #drop all entries for mentor program\n",
        "\n",
        "#Mentee Email data\n",
        "mentee_computer_emails = mentee_computer_emails.dropna()"
      ],
      "metadata": {
        "id": "ZV2uWWJafEtR"
      },
      "execution_count": 349,
      "outputs": []
    },
    {
      "cell_type": "code",
      "source": [
        "print(google_data.shape, oracle_data.shape)"
      ],
      "metadata": {
        "colab": {
          "base_uri": "https://localhost:8080/"
        },
        "id": "hZ6eWiC9kK7a",
        "outputId": "3531b1eb-f2aa-41fd-c9fb-491b515b3824"
      },
      "execution_count": 350,
      "outputs": [
        {
          "output_type": "stream",
          "name": "stdout",
          "text": [
            "(9542, 64) (343, 49)\n"
          ]
        }
      ]
    },
    {
      "cell_type": "code",
      "source": [
        "#DATE CONVERSIONS\n",
        "#Only run this once. Running more times will cause an error. To fix re-read data sources\n",
        "def conv_to_datetime(a):\n",
        "  if isinstance(a, datetime.date):\n",
        "    return a\n",
        "  try:\n",
        "    date = datetime.datetime.strptime(a, '%m/%d/%Y %H:%M')\n",
        "    date = date.replace(tzinfo = pytz.timezone('utc'))\n",
        "    return date\n",
        "  except:\n",
        "    try:\n",
        "      utc_timezone = pytz.timezone(\"utc\")\n",
        "      date = datetime.datetime.strptime(a, '%b %d, %Y, %I:%M:%S %p')\n",
        "      date = date.replace(tzinfo = pytz.timezone(time_zone)) \n",
        "      date = date.astimezone(utc_timezone) #convert all times to UTC\n",
        "      return  date\n",
        "    except:\n",
        "      date = datetime.datetime.strptime('', '')\n",
        "      date = date.replace(tzinfo = pytz.timezone('utc'))\n",
        "      return date\n",
        "\n"
      ],
      "metadata": {
        "id": "_dfBR_DQcLEG"
      },
      "execution_count": null,
      "outputs": []
    },
    {
      "cell_type": "code",
      "source": [
        "#converting oracle dates to datetime objs\n",
        "oracle_data['END_DATE'] = oracle_data['END_DATE'].apply(conv_to_datetime)\n",
        "oracle_data['START_DATE'] = oracle_data['START_DATE'].apply(conv_to_datetime)\n",
        "\n"
      ],
      "metadata": {
        "id": "Z6ZxJul9orkg"
      },
      "execution_count": null,
      "outputs": []
    },
    {
      "cell_type": "code",
      "source": [
        "#Convert google dates to datetime UTC\n",
        "google_data['Date'] = google_data['Date'].apply(lambda x: x[:len(x)-4]) #remove time zone\n",
        "google_data['Date'] = google_data['Date'].apply(conv_to_datetime)"
      ],
      "metadata": {
        "id": "uKItSRAvj47X"
      },
      "execution_count": 352,
      "outputs": []
    },
    {
      "cell_type": "code",
      "source": [
        "#Create new column with just dates\n",
        "google_data['String_Date'] = google_data['Date'].apply(lambda x: str(x)[0:10])"
      ],
      "metadata": {
        "id": "CF2vCaz8j4Vl"
      },
      "execution_count": 353,
      "outputs": []
    },
    {
      "cell_type": "code",
      "source": [
        "#Total active sessions\n",
        "# today_date = datetime.datetime.today()\n",
        "# today_date = today_date.replace(tzinfo = pytz.timezone(time_zone))\n",
        "# active_sessions = oracle_data.loc[(oracle_data['HANGOUTS_LINK'] == oracle_data['HANGOUTS_LINK']) & (oracle_data['END_DATE'] >= today_date)] #could use dropna() function to get rid of NaN's\n",
        "# active_sessions.shape\n",
        "\n",
        "#oracle_data['HANGOUTS_LINK'][1]\n"
      ],
      "metadata": {
        "id": "8h6z3x1POxZr"
      },
      "execution_count": 354,
      "outputs": []
    },
    {
      "cell_type": "code",
      "source": [
        "#Get oracle db Mentor Full Name\n",
        "\n",
        "#active_sessions['Actor name'] = active_sessions['FIRST_NAME'] +' '+ active_sessions['LAST_NAME']\n",
        "oracle_data['Actor name'] = oracle_data['FIRST_NAME'] +' '+ oracle_data['LAST_NAME']\n",
        "total_mentors = sorted(oracle_data['Actor name'].unique().astype(str))\n",
        "total_mentors = [x.lower().strip() for x in total_mentors]\n"
      ],
      "metadata": {
        "id": "e83QZDL05n3O"
      },
      "execution_count": 355,
      "outputs": []
    },
    {
      "cell_type": "code",
      "source": [
        "#Get list of oracle db mentor emails\n",
        "oracle_mentor_emails = oracle_data['VBB_EMAIL'].unique().tolist()\n",
        "oracle_mentor_emails = [x.lower().strip() for x in oracle_mentor_emails]"
      ],
      "metadata": {
        "id": "QcWH1fG7ghaY"
      },
      "execution_count": 356,
      "outputs": []
    },
    {
      "cell_type": "code",
      "source": [
        "#get all mentors that joined atleast one meet\n",
        "active_mentors = sorted(google_data['Actor name'].unique())\n",
        "active_mentors = [participant.lower().strip() for participant in active_mentors]\n",
        "#active_mentors #ordered LIST of mentor names"
      ],
      "metadata": {
        "id": "hvPii_Qj6i1V"
      },
      "execution_count": 357,
      "outputs": []
    },
    {
      "cell_type": "code",
      "source": [
        "#Get emails of all active mentors\n",
        "active_mentor_emails = sorted(google_data['Participant Identifier'].unique())\n",
        "active_mentor_emails = [x.lower().strip() for x in active_mentor_emails]\n",
        "len(active_mentor_emails)"
      ],
      "metadata": {
        "colab": {
          "base_uri": "https://localhost:8080/"
        },
        "id": "iHN_8z8lhnmP",
        "outputId": "53ea274e-413d-46f4-9b7b-540baaa8a226"
      },
      "execution_count": 358,
      "outputs": [
        {
          "output_type": "execute_result",
          "data": {
            "text/plain": [
              "466"
            ]
          },
          "metadata": {},
          "execution_count": 358
        }
      ]
    },
    {
      "cell_type": "code",
      "source": [
        "#Convering MSM to Weekday and time  UTC\n",
        "\n",
        "def conv_to_weekday(a):\n",
        "  weekdays = ['Monday', 'Tuesday', 'Wednesday', 'Thursday', 'Friday', 'Saturday', 'Sunday']\n",
        "  try:\n",
        "    a = int(a)\n",
        "    #day_of_week = weekdays[int(a/(60*24))] + ' ' + str(int((a%(60*24))/60)) + ':' + str((a%(60*24))%60) + ' UTC'\n",
        "    day_of_week = int(a/(60*24))\n",
        "    return day_of_week\n",
        "  except: \n",
        "    pass\n",
        "\n",
        "#MSM = active_sessions['MSM']\n",
        "#active_sessions['SESSION_DATE'] = active_sessions['MSM'].apply(conv_to_weekday)\n",
        "oracle_data['SESSION_DATE'] = oracle_data['MSM'].apply(conv_to_weekday)"
      ],
      "metadata": {
        "id": "hvS9lTOxfWVT"
      },
      "execution_count": 359,
      "outputs": []
    },
    {
      "cell_type": "code",
      "source": [
        "#lower Actor name in Google Audit Log Data for accurate comparisons\n",
        "google_data['Actor name'] = google_data['Actor name'].apply(lambda x: x.lower())\n",
        "google_data['Participant Identifier'] = google_data['Participant Identifier'].apply(lambda x: x.lower())\n",
        "oracle_data['Actor name'] = oracle_data['Actor name'].astype(str) #convert NaN's to string\n",
        "oracle_data['NAME'] = oracle_data['NAME'].astype(str) #convert NaN's to string\n",
        "oracle_data['Actor name'] = oracle_data['Actor name'].apply(lambda x: x.lower())\n",
        "oracle_data['NAME'] = oracle_data['NAME'].apply(lambda x: x.lower())\n",
        "oracle_data['VBB_EMAIL'] = oracle_data['VBB_EMAIL'].apply(lambda x: x.lower())"
      ],
      "metadata": {
        "id": "z-QA2l-kcGGa"
      },
      "execution_count": 360,
      "outputs": []
    },
    {
      "cell_type": "markdown",
      "source": [
        "#STAT TRACKING SCHEMA 1 (MENTORS IN DATABASE)"
      ],
      "metadata": {
        "id": "NS6R-QbVbruy"
      }
    },
    {
      "cell_type": "code",
      "source": [
        "#Get start, end dates and today's date\n",
        "dates_list = sorted(google_data['Date'].tolist())\n",
        "#start, end = dates_list[0], dates_list[-1]\n",
        "end, start = datetime.datetime(2022, 2, 19).astimezone(pytz.timezone(\"utc\")), datetime.datetime(2022, 2, 13).astimezone(pytz.timezone(\"utc\"))\n",
        "today_date = datetime.datetime.today().replace(tzinfo = pytz.timezone(time_zone))\n"
      ],
      "metadata": {
        "id": "Y55mCcMGrw_B"
      },
      "execution_count": 361,
      "outputs": []
    },
    {
      "cell_type": "code",
      "source": [
        "count = 0 #how many mentor to print. Mainly for testing purposes\n",
        "#start, end = datetime.datetime(2021, 7, 29, tzinfo = pytz.timezone(time_zone)), datetime.datetime(2022, 1, 25, tzinfo = pytz.timezone(time_zone))\n",
        "\n",
        "#get number of weeks in start and end dates\n",
        "max_size = 0\n",
        "for i in range(0, 7):\n",
        "  days = (start + timedelta(days=i) for i in range((end - start).days + 1))\n",
        "  l = [d.strftime(\"%Y-%m-%d\") for d in days if d.weekday() in [0, 1, 2, 3, 4, 5, 6]]\n",
        "  if len(l)>max_size:\n",
        "    max_size = len(l)\n"
      ],
      "metadata": {
        "id": "R4WOfIpSkF7T"
      },
      "execution_count": 362,
      "outputs": []
    },
    {
      "cell_type": "code",
      "source": [
        "sorted(oracle_mentor_emails)"
      ],
      "metadata": {
        "id": "x_36yY_7pCAF"
      },
      "execution_count": null,
      "outputs": []
    },
    {
      "cell_type": "code",
      "source": [
        "#Get attendance of each mentor in oracle database\n",
        "\n",
        "attendance_data = []\n",
        "duration_data = []\n",
        "\n",
        "for email in oracle_mentor_emails:\n",
        "  # if count == 1000:\n",
        "  #   break\n",
        "  # count += 1\n",
        "\n",
        "  #Get participant oracle data \n",
        "  participant_oracle_data = oracle_data.loc[oracle_data['VBB_EMAIL']  == email] #read oracle data for participant\n",
        "  \n",
        "\n",
        "  #Check attendance and duration for each session in oracle database\n",
        "  for num, row in participant_oracle_data.iterrows():\n",
        "    meeting_code = row['HANGOUTS_LINK'][-12:].replace('-','').upper()\n",
        "\n",
        "    #Get google data\n",
        "    participant_google_data = google_data.loc[(google_data['Participant Identifier'] == email) & (google_data['Meeting code'] == meeting_code)]  #read google data for participant\n",
        "\n",
        "    #Get list of dates that they joined sessions\n",
        "    #participant_google_data['String_Date'] = participant_google_data['Date'].apply(lambda x: str(x)[0:10])\n",
        "    google_dates = participant_google_data.drop_duplicates(subset=['String_Date'])['String_Date'].tolist()#days mentor joined\n",
        "\n",
        "    #Check attendance \n",
        "    days = (start + timedelta(days=i) for i in range((end - start).days + 1))\n",
        "    SESSION_DATE = int(row['SESSION_DATE'])\n",
        "    l = [d.strftime(\"%Y-%m-%d\") for d in days] #if d.weekday() in [0, 1, 2, 3, 4, 5, 6]]\n",
        "    attendance_list = [0] * max_size #every array will be the same size regarless of the day of week that sessions are held\n",
        "    duration_list = [0] * max_size\n",
        "    index = 0;\n",
        "    for date in l:\n",
        "      if(date in google_dates):\n",
        "        #Record attendance\n",
        "        attendance_list[index] = 1\n",
        "\n",
        "        #Record total time spent in meeting\n",
        "        duration = 0\n",
        "        duration = participant_google_data.loc[participant_google_data['String_Date'] == date]['Duration'].sum() #this will sum total duration on given day\n",
        "        duration_list[index] = duration\n",
        "\n",
        "      #increment index\n",
        "      index = index+1\n",
        "\n",
        "    #Calculating attendance and duration Stats\n",
        "    attendance_stats = (sum(attendance_list)/len(attendance_list))*100\n",
        "    duration_stats = sum(duration_list)\n",
        "    attendance_list.append(attendance_stats)\n",
        "    duration_list.append(duration_stats)\n",
        "\n",
        "    #Insert meta data into lists\n",
        "    weekdays = ['Monday', 'Tuesday', 'Wednesday', 'Thursday', 'Friday', 'Saturday', 'Sunday']\n",
        "\n",
        "    #attendance list\n",
        "    attendance_list.insert(0, row['Actor name'])\n",
        "    attendance_list.insert(1, row['NAME'].lower())\n",
        "    attendance_list.insert(2, ('Y' if row['END_DATE'] < today_date else 'N'))\n",
        "    attendance_list.insert(3, weekdays[row['SESSION_DATE']])\n",
        "    attendance_list.insert(4, row['HANGOUTS_LINK'][-12:].replace('-','').upper())\n",
        "    attendance_list.insert(5, row['VBB_EMAIL'])\n",
        "    attendance_list.insert(6, 'Mentor')\n",
        "\n",
        "    #duration list\n",
        "    duration_list.insert(0, row['Actor name'])\n",
        "    duration_list.insert(1, row['NAME'].lower())\n",
        "    duration_list.insert(2, ('Y' if row['END_DATE'] < today_date else 'N'))\n",
        "    duration_list.insert(3, weekdays[row['SESSION_DATE']])\n",
        "    duration_list.insert(4, meeting_code)\n",
        "    duration_list.insert(5, row['VBB_EMAIL'])\n",
        "    duration_list.insert(6, 'Mentor')\n",
        "\n",
        "    #append mentor attendance data to general list for dataframe generation\n",
        "    attendance_data.append(attendance_list)\n",
        "    duration_data.append(duration_list)\n",
        "  "
      ],
      "metadata": {
        "id": "t8plgJwrduVV"
      },
      "execution_count": 364,
      "outputs": []
    },
    {
      "cell_type": "code",
      "source": [
        "print(len(attendance_data), len(duration_data))"
      ],
      "metadata": {
        "colab": {
          "base_uri": "https://localhost:8080/"
        },
        "id": "qJZGfl24vLBF",
        "outputId": "b8689be6-19b0-4c41-9baf-8ff23a852937"
      },
      "execution_count": 365,
      "outputs": [
        {
          "output_type": "stream",
          "name": "stdout",
          "text": [
            "343 343\n"
          ]
        }
      ]
    },
    {
      "cell_type": "markdown",
      "source": [
        "#STAT TRACKING SCHEMA 2 (MENTORS IN DATABASE)"
      ],
      "metadata": {
        "id": "akG7_t1kZL5a"
      }
    },
    {
      "cell_type": "code",
      "source": [
        "#Start and end dates:\n",
        "print(start, end)"
      ],
      "metadata": {
        "colab": {
          "base_uri": "https://localhost:8080/"
        },
        "id": "GbRFSDYRZO4m",
        "outputId": "e340dbce-5ba6-4173-8a3c-da980e2104d4"
      },
      "execution_count": 366,
      "outputs": [
        {
          "output_type": "stream",
          "name": "stdout",
          "text": [
            "2022-02-13 00:00:00+00:00 2022-02-19 00:00:00+00:00\n"
          ]
        }
      ]
    },
    {
      "cell_type": "code",
      "source": [
        "oracle_data.head()"
      ],
      "metadata": {
        "colab": {
          "base_uri": "https://localhost:8080/",
          "height": 426
        },
        "id": "yZn2xZoeaKD3",
        "outputId": "115d9f4c-394b-43fd-dd4e-8d6c54da4bb7"
      },
      "execution_count": 367,
      "outputs": [
        {
          "output_type": "execute_result",
          "data": {
            "text/html": [
              "\n",
              "  <div id=\"df-ae2fd4f9-6fee-4e04-afea-2b4ea81b60d9\">\n",
              "    <div class=\"colab-df-container\">\n",
              "      <div>\n",
              "<style scoped>\n",
              "    .dataframe tbody tr th:only-of-type {\n",
              "        vertical-align: middle;\n",
              "    }\n",
              "\n",
              "    .dataframe tbody tr th {\n",
              "        vertical-align: top;\n",
              "    }\n",
              "\n",
              "    .dataframe thead th {\n",
              "        text-align: right;\n",
              "    }\n",
              "</style>\n",
              "<table border=\"1\" class=\"dataframe\">\n",
              "  <thead>\n",
              "    <tr style=\"text-align: right;\">\n",
              "      <th></th>\n",
              "      <th>ID</th>\n",
              "      <th>START_DATE</th>\n",
              "      <th>END_DATE</th>\n",
              "      <th>EVENT_ID</th>\n",
              "      <th>MENTOR_NOTES</th>\n",
              "      <th>LANGUAGE_ID</th>\n",
              "      <th>MENTEE_COMPUTER_ID</th>\n",
              "      <th>MENTOR_ID</th>\n",
              "      <th>MSM</th>\n",
              "      <th>HANGOUTS_LINK</th>\n",
              "      <th>ID.1</th>\n",
              "      <th>COMPUTER_EMAIL</th>\n",
              "      <th>LANGUAGE_ID.1</th>\n",
              "      <th>LIBRARY_ID</th>\n",
              "      <th>ROOM_ID</th>\n",
              "      <th>COMPUTER_NUMBER</th>\n",
              "      <th>ID.2</th>\n",
              "      <th>NAME</th>\n",
              "      <th>TIME_ZONE</th>\n",
              "      <th>CALENDAR_ID</th>\n",
              "      <th>ANNOUNCEMENTS_GROUP</th>\n",
              "      <th>COLLABORATION_GROUP</th>\n",
              "      <th>PROGRAM_DIRECTOR_EMAIL</th>\n",
              "      <th>PROGRAM_DIRECTOR_NAME</th>\n",
              "      <th>PROGRAM_DIRECTOR_PHONE</th>\n",
              "      <th>WHATSAPP_GROUP</th>\n",
              "      <th>ID.3</th>\n",
              "      <th>TIME_ZONE.1</th>\n",
              "      <th>PHONE</th>\n",
              "      <th>OCCUPATION</th>\n",
              "      <th>USER_ID</th>\n",
              "      <th>PERSONAL_EMAIL</th>\n",
              "      <th>VBB_EMAIL</th>\n",
              "      <th>FIRST_NAME</th>\n",
              "      <th>LAST_NAME</th>\n",
              "      <th>AFFILIATION</th>\n",
              "      <th>ADVISOR_NOTES</th>\n",
              "      <th>INITIALS</th>\n",
              "      <th>ADULT</th>\n",
              "      <th>CITY</th>\n",
              "      <th>LANGUAGES</th>\n",
              "      <th>VBB_CHAPTER</th>\n",
              "      <th>DESIRED_INVOLVEMENT</th>\n",
              "      <th>REFERRAL_SOURCE</th>\n",
              "      <th>CHARGED</th>\n",
              "      <th>ISVERIFIED</th>\n",
              "      <th>Unnamed: 46</th>\n",
              "      <th>Unnamed: 47</th>\n",
              "      <th>Unnamed: 48</th>\n",
              "      <th>Actor name</th>\n",
              "      <th>SESSION_DATE</th>\n",
              "    </tr>\n",
              "  </thead>\n",
              "  <tbody>\n",
              "    <tr>\n",
              "      <th>4</th>\n",
              "      <td>166</td>\n",
              "      <td>2020-11-14 00:00:00+00:00</td>\n",
              "      <td>2021-03-13 00:00:00+00:00</td>\n",
              "      <td>nfrad438i7ehie4q6b823gbmo4</td>\n",
              "      <td>NaN</td>\n",
              "      <td>1</td>\n",
              "      <td>2</td>\n",
              "      <td>2351</td>\n",
              "      <td>6360</td>\n",
              "      <td>https://meet.google.com/epi-bsdw-rog</td>\n",
              "      <td>2</td>\n",
              "      <td>hightech2@villagebookbuilders.org</td>\n",
              "      <td>1</td>\n",
              "      <td>1</td>\n",
              "      <td>c_188dj4uo0oo1sh78ikpbj7l695lmc4gnepkmor31ctim...</td>\n",
              "      <td>2</td>\n",
              "      <td>1</td>\n",
              "      <td>high tech, uganda</td>\n",
              "      <td>Africa/Kampala</td>\n",
              "      <td>c_9jnrusfdfhn8f5k3ultlt0oihk@group.calendar.go...</td>\n",
              "      <td>hightech.announcements@villagebookbuilders.org</td>\n",
              "      <td>hightech.collaboration@villagebookbuilders.org</td>\n",
              "      <td>mphightech@villagebookbuilders.org</td>\n",
              "      <td>Paul Kizza</td>\n",
              "      <td>2.56754E+11</td>\n",
              "      <td>https://chat.whatsapp.com/CsyoR8Zl0MN57VaBmjzhbE</td>\n",
              "      <td>1978</td>\n",
              "      <td>America/New_York</td>\n",
              "      <td>4074563151</td>\n",
              "      <td>Working Professional</td>\n",
              "      <td>2351</td>\n",
              "      <td>steve.montgomerie@oracle.com</td>\n",
              "      <td>steve.montgomerie@villagementors.org</td>\n",
              "      <td>Steve</td>\n",
              "      <td>Montgomerie</td>\n",
              "      <td>Oracle</td>\n",
              "      <td>NaN</td>\n",
              "      <td>SMM</td>\n",
              "      <td>Yes</td>\n",
              "      <td>Orlando, FL</td>\n",
              "      <td>English</td>\n",
              "      <td>NaN</td>\n",
              "      <td>Other</td>\n",
              "      <td>Through my organization/school</td>\n",
              "      <td>Driving while intoxicated - 1999</td>\n",
              "      <td>0</td>\n",
              "      <td>NaN</td>\n",
              "      <td>NaN</td>\n",
              "      <td>NaN</td>\n",
              "      <td>steve montgomerie</td>\n",
              "      <td>4</td>\n",
              "    </tr>\n",
              "    <tr>\n",
              "      <th>7</th>\n",
              "      <td>464</td>\n",
              "      <td>2021-08-31 00:00:00+00:00</td>\n",
              "      <td>2021-12-28 00:00:00+00:00</td>\n",
              "      <td>g1ieeu8vu97ssg3k62nqb460qc</td>\n",
              "      <td>NaN</td>\n",
              "      <td>1</td>\n",
              "      <td>28</td>\n",
              "      <td>616</td>\n",
              "      <td>2280</td>\n",
              "      <td>https://meet.google.com/rnk-ztax-suq</td>\n",
              "      <td>28</td>\n",
              "      <td>mukono2@villagebookbuilders.org</td>\n",
              "      <td>1</td>\n",
              "      <td>22</td>\n",
              "      <td>c_1884s2bh7itg4i53l36gvgbfbuvoq4gnepkmor31ctim...</td>\n",
              "      <td>2</td>\n",
              "      <td>22</td>\n",
              "      <td>mukono, uganda</td>\n",
              "      <td>Africa/Kampala</td>\n",
              "      <td>c_p5g2a4n50jgvjjjn24lad2ftbo@group.calendar.go...</td>\n",
              "      <td>mukono.announcements@villagebookbuilders.org</td>\n",
              "      <td>mukono.collaboration@villagebookbuilders.org</td>\n",
              "      <td>mpmukono@villagementors.org</td>\n",
              "      <td>Kasifa</td>\n",
              "      <td>2.56754E+11</td>\n",
              "      <td>https://chat.whatsapp.com/BcIP7HJDzsCChtBV9vOSB2</td>\n",
              "      <td>553</td>\n",
              "      <td>America/New_York</td>\n",
              "      <td>8046058067</td>\n",
              "      <td>College_Student</td>\n",
              "      <td>616</td>\n",
              "      <td>aimanhanif1404@gmail.com</td>\n",
              "      <td>aiman.hanif@villagementors.org</td>\n",
              "      <td>Aiman</td>\n",
              "      <td>Hanif</td>\n",
              "      <td>VCU Medical Journal Club</td>\n",
              "      <td>NaN</td>\n",
              "      <td>MH</td>\n",
              "      <td>No</td>\n",
              "      <td>South Chesterfield, VA</td>\n",
              "      <td>Urdu, English</td>\n",
              "      <td>Yes</td>\n",
              "      <td>Fundraiser</td>\n",
              "      <td>Through my organization/school</td>\n",
              "      <td>No</td>\n",
              "      <td>1</td>\n",
              "      <td>NaN</td>\n",
              "      <td>NaN</td>\n",
              "      <td>NaN</td>\n",
              "      <td>aiman hanif</td>\n",
              "      <td>1</td>\n",
              "    </tr>\n",
              "    <tr>\n",
              "      <th>10</th>\n",
              "      <td>465</td>\n",
              "      <td>2022-02-01 00:00:00+00:00</td>\n",
              "      <td>2022-05-31 00:00:00+00:00</td>\n",
              "      <td>pdfp3b86f21kbrfc8dsehljeh0</td>\n",
              "      <td>NaN</td>\n",
              "      <td>1</td>\n",
              "      <td>27</td>\n",
              "      <td>7447</td>\n",
              "      <td>2280</td>\n",
              "      <td>https://meet.google.com/pkq-jedk-aju</td>\n",
              "      <td>27</td>\n",
              "      <td>mukono1@villagebookbuilders.org</td>\n",
              "      <td>1</td>\n",
              "      <td>22</td>\n",
              "      <td>c_1888ehi1rtu9uibuk4rbbecmaglbu4gnepkmor31ctim...</td>\n",
              "      <td>1</td>\n",
              "      <td>22</td>\n",
              "      <td>mukono, uganda</td>\n",
              "      <td>Africa/Kampala</td>\n",
              "      <td>c_p5g2a4n50jgvjjjn24lad2ftbo@group.calendar.go...</td>\n",
              "      <td>mukono.announcements@villagebookbuilders.org</td>\n",
              "      <td>mukono.collaboration@villagebookbuilders.org</td>\n",
              "      <td>mpmukono@villagementors.org</td>\n",
              "      <td>Kasifa</td>\n",
              "      <td>2.56754E+11</td>\n",
              "      <td>https://chat.whatsapp.com/BcIP7HJDzsCChtBV9vOSB2</td>\n",
              "      <td>5116</td>\n",
              "      <td>America/New_York</td>\n",
              "      <td>4012251261</td>\n",
              "      <td>Other</td>\n",
              "      <td>7447</td>\n",
              "      <td>rgarakani9@gmail.com</td>\n",
              "      <td>romina.garakani@villagementors.org</td>\n",
              "      <td>Romina</td>\n",
              "      <td>Garakani</td>\n",
              "      <td>NaN</td>\n",
              "      <td>NaN</td>\n",
              "      <td>RG</td>\n",
              "      <td>Yes</td>\n",
              "      <td>Philadelphia, PA</td>\n",
              "      <td>English, Farsi</td>\n",
              "      <td>NaN</td>\n",
              "      <td>NaN</td>\n",
              "      <td>Other</td>\n",
              "      <td>No</td>\n",
              "      <td>1</td>\n",
              "      <td>NaN</td>\n",
              "      <td>NaN</td>\n",
              "      <td>NaN</td>\n",
              "      <td>romina garakani</td>\n",
              "      <td>1</td>\n",
              "    </tr>\n",
              "    <tr>\n",
              "      <th>24</th>\n",
              "      <td>467</td>\n",
              "      <td>2021-07-13 00:00:00+00:00</td>\n",
              "      <td>2021-11-09 00:00:00+00:00</td>\n",
              "      <td>48lc9l5ujsbv2k1flur5npi684</td>\n",
              "      <td>NaN</td>\n",
              "      <td>1</td>\n",
              "      <td>27</td>\n",
              "      <td>5717</td>\n",
              "      <td>2220</td>\n",
              "      <td>https://meet.google.com/omk-siye-zfe</td>\n",
              "      <td>27</td>\n",
              "      <td>mukono1@villagebookbuilders.org</td>\n",
              "      <td>1</td>\n",
              "      <td>22</td>\n",
              "      <td>c_1888ehi1rtu9uibuk4rbbecmaglbu4gnepkmor31ctim...</td>\n",
              "      <td>1</td>\n",
              "      <td>22</td>\n",
              "      <td>mukono, uganda</td>\n",
              "      <td>Africa/Kampala</td>\n",
              "      <td>c_p5g2a4n50jgvjjjn24lad2ftbo@group.calendar.go...</td>\n",
              "      <td>mukono.announcements@villagebookbuilders.org</td>\n",
              "      <td>mukono.collaboration@villagebookbuilders.org</td>\n",
              "      <td>mpmukono@villagementors.org</td>\n",
              "      <td>Kasifa</td>\n",
              "      <td>2.56754E+11</td>\n",
              "      <td>https://chat.whatsapp.com/BcIP7HJDzsCChtBV9vOSB2</td>\n",
              "      <td>3821</td>\n",
              "      <td>America/New_York</td>\n",
              "      <td>5713317612</td>\n",
              "      <td>College_Student</td>\n",
              "      <td>5717</td>\n",
              "      <td>fugarek@vcu.edu</td>\n",
              "      <td>edzordzinam.fugar@villagementors.org</td>\n",
              "      <td>Edzordzinam</td>\n",
              "      <td>Fugar</td>\n",
              "      <td>VCU</td>\n",
              "      <td>NaN</td>\n",
              "      <td>EKF</td>\n",
              "      <td>Yes</td>\n",
              "      <td>Ashburn, Virginia</td>\n",
              "      <td>English</td>\n",
              "      <td>Yes</td>\n",
              "      <td>NaN</td>\n",
              "      <td>Through my organization/school</td>\n",
              "      <td>No</td>\n",
              "      <td>1</td>\n",
              "      <td>NaN</td>\n",
              "      <td>NaN</td>\n",
              "      <td>NaN</td>\n",
              "      <td>edzordzinam fugar</td>\n",
              "      <td>1</td>\n",
              "    </tr>\n",
              "    <tr>\n",
              "      <th>30</th>\n",
              "      <td>475</td>\n",
              "      <td>2021-10-11 00:00:00+00:00</td>\n",
              "      <td>2022-02-07 00:00:00+00:00</td>\n",
              "      <td>gtopivogkle25q0sd9ebta7m80</td>\n",
              "      <td>NaN</td>\n",
              "      <td>1</td>\n",
              "      <td>27</td>\n",
              "      <td>7080</td>\n",
              "      <td>840</td>\n",
              "      <td>https://meet.google.com/bno-dxjt-gqt</td>\n",
              "      <td>27</td>\n",
              "      <td>mukono1@villagebookbuilders.org</td>\n",
              "      <td>1</td>\n",
              "      <td>22</td>\n",
              "      <td>c_1888ehi1rtu9uibuk4rbbecmaglbu4gnepkmor31ctim...</td>\n",
              "      <td>1</td>\n",
              "      <td>22</td>\n",
              "      <td>mukono, uganda</td>\n",
              "      <td>Africa/Kampala</td>\n",
              "      <td>c_p5g2a4n50jgvjjjn24lad2ftbo@group.calendar.go...</td>\n",
              "      <td>mukono.announcements@villagebookbuilders.org</td>\n",
              "      <td>mukono.collaboration@villagebookbuilders.org</td>\n",
              "      <td>mpmukono@villagementors.org</td>\n",
              "      <td>Kasifa</td>\n",
              "      <td>2.56754E+11</td>\n",
              "      <td>https://chat.whatsapp.com/BcIP7HJDzsCChtBV9vOSB2</td>\n",
              "      <td>4748</td>\n",
              "      <td>America/Toronto</td>\n",
              "      <td>6477469017</td>\n",
              "      <td>Working Professional</td>\n",
              "      <td>7080</td>\n",
              "      <td>tina.chow52@gmail.com</td>\n",
              "      <td>tina.chow@villagementors.org</td>\n",
              "      <td>Tina</td>\n",
              "      <td>Chow</td>\n",
              "      <td>Federal Government</td>\n",
              "      <td>NaN</td>\n",
              "      <td>TC</td>\n",
              "      <td>Yes</td>\n",
              "      <td>Toronto</td>\n",
              "      <td>English</td>\n",
              "      <td>NaN</td>\n",
              "      <td>NaN</td>\n",
              "      <td>Google</td>\n",
              "      <td>No</td>\n",
              "      <td>1</td>\n",
              "      <td>NaN</td>\n",
              "      <td>NaN</td>\n",
              "      <td>NaN</td>\n",
              "      <td>tina chow</td>\n",
              "      <td>0</td>\n",
              "    </tr>\n",
              "  </tbody>\n",
              "</table>\n",
              "</div>\n",
              "      <button class=\"colab-df-convert\" onclick=\"convertToInteractive('df-ae2fd4f9-6fee-4e04-afea-2b4ea81b60d9')\"\n",
              "              title=\"Convert this dataframe to an interactive table.\"\n",
              "              style=\"display:none;\">\n",
              "        \n",
              "  <svg xmlns=\"http://www.w3.org/2000/svg\" height=\"24px\"viewBox=\"0 0 24 24\"\n",
              "       width=\"24px\">\n",
              "    <path d=\"M0 0h24v24H0V0z\" fill=\"none\"/>\n",
              "    <path d=\"M18.56 5.44l.94 2.06.94-2.06 2.06-.94-2.06-.94-.94-2.06-.94 2.06-2.06.94zm-11 1L8.5 8.5l.94-2.06 2.06-.94-2.06-.94L8.5 2.5l-.94 2.06-2.06.94zm10 10l.94 2.06.94-2.06 2.06-.94-2.06-.94-.94-2.06-.94 2.06-2.06.94z\"/><path d=\"M17.41 7.96l-1.37-1.37c-.4-.4-.92-.59-1.43-.59-.52 0-1.04.2-1.43.59L10.3 9.45l-7.72 7.72c-.78.78-.78 2.05 0 2.83L4 21.41c.39.39.9.59 1.41.59.51 0 1.02-.2 1.41-.59l7.78-7.78 2.81-2.81c.8-.78.8-2.07 0-2.86zM5.41 20L4 18.59l7.72-7.72 1.47 1.35L5.41 20z\"/>\n",
              "  </svg>\n",
              "      </button>\n",
              "      \n",
              "  <style>\n",
              "    .colab-df-container {\n",
              "      display:flex;\n",
              "      flex-wrap:wrap;\n",
              "      gap: 12px;\n",
              "    }\n",
              "\n",
              "    .colab-df-convert {\n",
              "      background-color: #E8F0FE;\n",
              "      border: none;\n",
              "      border-radius: 50%;\n",
              "      cursor: pointer;\n",
              "      display: none;\n",
              "      fill: #1967D2;\n",
              "      height: 32px;\n",
              "      padding: 0 0 0 0;\n",
              "      width: 32px;\n",
              "    }\n",
              "\n",
              "    .colab-df-convert:hover {\n",
              "      background-color: #E2EBFA;\n",
              "      box-shadow: 0px 1px 2px rgba(60, 64, 67, 0.3), 0px 1px 3px 1px rgba(60, 64, 67, 0.15);\n",
              "      fill: #174EA6;\n",
              "    }\n",
              "\n",
              "    [theme=dark] .colab-df-convert {\n",
              "      background-color: #3B4455;\n",
              "      fill: #D2E3FC;\n",
              "    }\n",
              "\n",
              "    [theme=dark] .colab-df-convert:hover {\n",
              "      background-color: #434B5C;\n",
              "      box-shadow: 0px 1px 3px 1px rgba(0, 0, 0, 0.15);\n",
              "      filter: drop-shadow(0px 1px 2px rgba(0, 0, 0, 0.3));\n",
              "      fill: #FFFFFF;\n",
              "    }\n",
              "  </style>\n",
              "\n",
              "      <script>\n",
              "        const buttonEl =\n",
              "          document.querySelector('#df-ae2fd4f9-6fee-4e04-afea-2b4ea81b60d9 button.colab-df-convert');\n",
              "        buttonEl.style.display =\n",
              "          google.colab.kernel.accessAllowed ? 'block' : 'none';\n",
              "\n",
              "        async function convertToInteractive(key) {\n",
              "          const element = document.querySelector('#df-ae2fd4f9-6fee-4e04-afea-2b4ea81b60d9');\n",
              "          const dataTable =\n",
              "            await google.colab.kernel.invokeFunction('convertToInteractive',\n",
              "                                                     [key], {});\n",
              "          if (!dataTable) return;\n",
              "\n",
              "          const docLinkHtml = 'Like what you see? Visit the ' +\n",
              "            '<a target=\"_blank\" href=https://colab.research.google.com/notebooks/data_table.ipynb>data table notebook</a>'\n",
              "            + ' to learn more about interactive tables.';\n",
              "          element.innerHTML = '';\n",
              "          dataTable['output_type'] = 'display_data';\n",
              "          await google.colab.output.renderOutput(dataTable, element);\n",
              "          const docLink = document.createElement('div');\n",
              "          docLink.innerHTML = docLinkHtml;\n",
              "          element.appendChild(docLink);\n",
              "        }\n",
              "      </script>\n",
              "    </div>\n",
              "  </div>\n",
              "  "
            ],
            "text/plain": [
              "     ID                START_DATE  ...         Actor name SESSION_DATE\n",
              "4   166 2020-11-14 00:00:00+00:00  ...  steve montgomerie            4\n",
              "7   464 2021-08-31 00:00:00+00:00  ...        aiman hanif            1\n",
              "10  465 2022-02-01 00:00:00+00:00  ...    romina garakani            1\n",
              "24  467 2021-07-13 00:00:00+00:00  ...  edzordzinam fugar            1\n",
              "30  475 2021-10-11 00:00:00+00:00  ...          tina chow            0\n",
              "\n",
              "[5 rows x 51 columns]"
            ]
          },
          "metadata": {},
          "execution_count": 367
        }
      ]
    },
    {
      "cell_type": "code",
      "source": [
        "print(oracle_data.shape)"
      ],
      "metadata": {
        "colab": {
          "base_uri": "https://localhost:8080/"
        },
        "id": "TcCOOMJracH4",
        "outputId": "b14fabda-a7eb-47ab-d80c-1cb509a90ab0"
      },
      "execution_count": 368,
      "outputs": [
        {
          "output_type": "stream",
          "name": "stdout",
          "text": [
            "(343, 51)\n"
          ]
        }
      ]
    },
    {
      "cell_type": "code",
      "source": [
        "#Get mentors for each day of the week\n",
        "mentors_for_day = [0]*7\n",
        "for i in range(7):\n",
        "  #for each day get the mentors for that day\n",
        "  mentors_for_day[i] = oracle_data[oracle_data['SESSION_DATE'] == i]['VBB_EMAIL'].unique().tolist()\n"
      ],
      "metadata": {
        "id": "CfpFNQ7uZUfF"
      },
      "execution_count": 369,
      "outputs": []
    },
    {
      "cell_type": "code",
      "source": [
        "#Get days in between start and end dates\n",
        "days = (start + timedelta(days=i) for i in range((end - start).days + 1))\n",
        "\n",
        "#initiate df list\n",
        "data_frame = []\n",
        "\n",
        "#for each day itterate over each mentor for that day and get their attendance for all their sessions\n",
        "for day in days:  \n",
        "  #print(day.weekday())\n",
        "\n",
        "  for mentor_email in mentors_for_day[day.weekday()]:\n",
        "    \n",
        "    #print(mentor_email)\n",
        "\n",
        "    for index, session in oracle_data[oracle_data['VBB_EMAIL'] == mentor_email].iterrows():\n",
        "\n",
        "      meeting_code = session['HANGOUTS_LINK'][-12:].replace('-','').upper()\n",
        "\n",
        "      #Convert date time to date\n",
        "      date = day.strftime(\"%Y-%m-%d\")\n",
        "      #Get all days participant joined this session\n",
        "      google_dates = google_data[(google_data['Participant Identifier'] == mentor_email) & (google_data['Meeting code'] == meeting_code)]['String_Date'].tolist()\n",
        "      #Get total time spend in this session for givend day \n",
        "      duration = google_data[(google_data['Participant Identifier'] == mentor_email) & (google_data['Meeting code'] == meeting_code) & (google_data['String_Date'] == date)]['Duration'].sum()\n",
        "\n",
        "      #Create row of data frame\n",
        "      row = [date, session['Actor name'], session['NAME'].lower(), mentor_email, 'Mentor', meeting_code, 1 if date in google_dates else 0, duration]\n",
        "      data_frame.append(row)\n",
        "  \n",
        "df = pd.DataFrame(data_frame)"
      ],
      "metadata": {
        "id": "_SvkVcXJcY8O"
      },
      "execution_count": null,
      "outputs": []
    },
    {
      "cell_type": "code",
      "source": [
        "df.head"
      ],
      "metadata": {
        "colab": {
          "base_uri": "https://localhost:8080/"
        },
        "id": "THxx860ajHhm",
        "outputId": "57db0dde-63f8-442f-e2fa-ea2ac30484a0"
      },
      "execution_count": 398,
      "outputs": [
        {
          "output_type": "execute_result",
          "data": {
            "text/plain": [
              "<bound method NDFrame.head of               0                      1  ...  6       7\n",
              "0    2022-02-13            haesol park  ...  0     0.0\n",
              "1    2022-02-13            haesol park  ...  0     0.0\n",
              "2    2022-02-13    prethivika vimalraj  ...  1  2361.0\n",
              "3    2022-02-13  mahalakshmi jagadesan  ...  0     0.0\n",
              "4    2022-02-13            avi agarwal  ...  1  2942.0\n",
              "..          ...                    ...  ... ..     ...\n",
              "370  2022-02-19      gabriela sarbello  ...  1  3683.0\n",
              "371  2022-02-19              kent feng  ...  1  3594.0\n",
              "372  2022-02-19       alexandria smith  ...  1  3816.0\n",
              "373  2022-02-19       andrew creighton  ...  0     0.0\n",
              "374  2022-02-19         mahiya agarwal  ...  0     0.0\n",
              "\n",
              "[375 rows x 8 columns]>"
            ]
          },
          "metadata": {},
          "execution_count": 398
        }
      ]
    },
    {
      "cell_type": "markdown",
      "source": [
        "#STAT TRACKING SCHEMA 1 (MENTORS NOT IN DATABASE)"
      ],
      "metadata": {
        "id": "cwUde-hSKwIQ"
      }
    },
    {
      "cell_type": "code",
      "source": [
        "#Get list of active mentors not in database\n",
        "s1 = oracle_data['Actor name']\n",
        "s2 = google_data['Actor name']\n",
        "mentors_not_registered = sorted(s2[~s2.isin(s1)].unique())"
      ],
      "metadata": {
        "id": "mU-nrl4ZK8aU"
      },
      "execution_count": 372,
      "outputs": []
    },
    {
      "cell_type": "code",
      "source": [
        "mentor_emails_not_registered = [x for x in active_mentor_emails if x not in oracle_mentor_emails]"
      ],
      "metadata": {
        "id": "9m2N3v6ii3hA"
      },
      "execution_count": 373,
      "outputs": []
    },
    {
      "cell_type": "code",
      "source": [
        "print(len(s1), len(s2), len(mentor_emails_not_registered))"
      ],
      "metadata": {
        "colab": {
          "base_uri": "https://localhost:8080/"
        },
        "id": "nGooldmdjAeX",
        "outputId": "b33304b1-f89a-4f2c-f989-2e069a1800d5"
      },
      "execution_count": 374,
      "outputs": [
        {
          "output_type": "stream",
          "name": "stdout",
          "text": [
            "343 9542 204\n"
          ]
        }
      ]
    },
    {
      "cell_type": "code",
      "source": [
        "#Remove program director actor names\n",
        "#mentors_not_registered = [x for x in mentors_not_registered if x not in program_director_name]"
      ],
      "metadata": {
        "id": "oWmjp4blx_7j"
      },
      "execution_count": 375,
      "outputs": []
    },
    {
      "cell_type": "code",
      "source": [
        "len(mentors_not_registered)"
      ],
      "metadata": {
        "colab": {
          "base_uri": "https://localhost:8080/"
        },
        "id": "HX2b2qJ0q063",
        "outputId": "29f2c554-5dbc-4e73-c216-4643657648a0"
      },
      "execution_count": 376,
      "outputs": [
        {
          "output_type": "execute_result",
          "data": {
            "text/plain": [
              "184"
            ]
          },
          "metadata": {},
          "execution_count": 376
        }
      ]
    },
    {
      "cell_type": "code",
      "source": [
        "#Get list of all mentor programs\n",
        "mentor_programs = sorted(oracle_data['NAME'].unique())\n",
        "mentor_programs = [x.lower() for x in mentor_programs]\n",
        "mentor_programs"
      ],
      "metadata": {
        "id": "dY7csZkqdD1l",
        "colab": {
          "base_uri": "https://localhost:8080/"
        },
        "outputId": "1a25e004-7485-4f93-df92-59703d595a54"
      },
      "execution_count": 377,
      "outputs": [
        {
          "output_type": "execute_result",
          "data": {
            "text/plain": [
              "['adeiso, ghana',\n",
              " 'ahero, kenya',\n",
              " 'biwi, malawi',\n",
              " 'charity centre, zambia',\n",
              " 'high tech, uganda',\n",
              " 'jolly land, uganda',\n",
              " 'kadzakalowa, malawi',\n",
              " 'maragoli, kenya',\n",
              " 'mukono, uganda',\n",
              " 'vima, ghana']"
            ]
          },
          "metadata": {},
          "execution_count": 377
        }
      ]
    },
    {
      "cell_type": "code",
      "source": [
        "#clear lists for testing\n",
        "# attendance_data = []\n",
        "# duration_data = []"
      ],
      "metadata": {
        "id": "2Bxm6d5iAs1U"
      },
      "execution_count": 378,
      "outputs": []
    },
    {
      "cell_type": "code",
      "source": [
        "#getting attendance data for mentors not in orable database\n",
        "#attendance_data = []\n",
        "\n",
        "#Get participant name\n",
        "for email in mentor_emails_not_registered:\n",
        "  participant_google_data = google_data.loc[google_data['Participant Identifier'] == email]\n",
        "  participant_name = participant_google_data['Actor name'].tolist()[0]\n",
        "  #print(participant_name)\n",
        "\n",
        "  #Get session info\n",
        "  #participant_google_data['String_Date'] = participant_google_data['Date'].apply(lambda x: str(x)[0:10])\n",
        "  #participant_google_data = participant_google_data.drop_duplicates(subset=['String_Date', 'Meeting code'])\n",
        "\n",
        "  #Get mentor session info\n",
        "  session_info = participant_google_data[['Meeting code', 'Date']].drop_duplicates(subset=['Meeting code'])\n",
        "  session_info['Date'] = session_info['Date'].apply(lambda x: x.weekday())\n",
        "  #print(session_info)\n",
        "\n",
        "  #mentee emails \n",
        "  mentee_emails = mentee_computer_emails['COMPUTER_EMAIL'].tolist()\n",
        "\n",
        "  #Find stats for each session\n",
        "  for num, session in session_info.iterrows():\n",
        "    #get meeting code\n",
        "    meeting_code = session['Meeting code']\n",
        "\n",
        "    #Get dates they joined this session\n",
        "    google_dates = participant_google_data[google_data['Meeting code'] == meeting_code]['String_Date'].tolist()\n",
        "\n",
        "    #print(day)\n",
        "    days = (start + timedelta(days=i) for i in range((end - start).days + 1))\n",
        "    l = [d.strftime(\"%Y-%m-%d\") for d in days] #if d.weekday() in [session['Date']]]\n",
        "    attendance_list = [0] * max_size #every array will be the same size regarless of the day of week that sessions are held\n",
        "    duration_list = [0] * max_size\n",
        "    index = 0;\n",
        "    for date in l:\n",
        "      if(date in google_dates):\n",
        "        #track attendance\n",
        "        attendance_list[index] = 1\n",
        "\n",
        "        #Track duration\n",
        "        duration = 0\n",
        "        duration = participant_google_data.loc[(participant_google_data['String_Date'] == date) & (participant_google_data['Meeting code'] == session['Meeting code'])]['Duration'].sum() #this will sum total duration on given day regardless of meeting code\n",
        "        duration_list[index] = duration\n",
        "\n",
        "      index = index+1\n",
        "    \n",
        "    #Calculating attendance Stats\n",
        "    attendance_stats = (sum(attendance_list)/len(attendance_list))*100\n",
        "    duration_stats = sum(duration_list)\n",
        "    attendance_list.append(attendance_stats)\n",
        "    duration_list.append(duration_stats)\n",
        "\n",
        "    \n",
        "    \n",
        "    \n",
        "    #print(meeting_code)\n",
        "\n",
        "    #get participants that have this meeting code\n",
        "    mentee_info = sorted(google_data.loc[google_data['Meeting code'] == meeting_code]['Participant Identifier'].unique()) #will always return an array of at least 1\n",
        "    #print(mentee_info)\n",
        "\n",
        "    #Get program info from participant identifiers\n",
        "    mentor_program = NaN\n",
        "    for i in range(0, len(mentee_info)):\n",
        "      if ((mentee_info) and (mentee_info[i] in mentee_emails)):\n",
        "        mentor_program = mentee_computer_emails.loc[mentee_computer_emails['COMPUTER_EMAIL'] == mentee_info[i]]['PROGRAM_NAME'].tolist()[0]\n",
        "        break\n",
        "    #print(mentor_program)\n",
        "\n",
        "    #Add meta data to data frame\n",
        "    weekdays = ['Monday', 'Tuesday', 'Wednesday', 'Thursday', 'Friday', 'Saturday', 'Sunday']\n",
        "\n",
        "    #Attendance list\n",
        "    attendance_list.insert(0, participant_name)\n",
        "    attendance_list.insert(1, mentor_program)\n",
        "    attendance_list.insert(2, 'N')\n",
        "    attendance_list.insert(3, weekdays[session['Date']])\n",
        "    attendance_list.insert(4, session['Meeting code']) #add column for meeting code\n",
        "    \n",
        "    #Get participant email\n",
        "    attendance_list.insert(5, email)\n",
        "    attendance_list.insert(6, ('Mentee' if email in mentee_computer_emails['COMPUTER_EMAIL'].tolist() else 'Mentor'))\n",
        "\n",
        "    #Duration list\n",
        "    duration_list.insert(0, participant_name)\n",
        "    duration_list.insert(1, mentor_program)\n",
        "    duration_list.insert(2, 'N')\n",
        "    duration_list.insert(3, weekdays[session['Date']])\n",
        "    duration_list.insert(4, session['Meeting code']) #add column for meeting code\n",
        "    duration_list.insert(5, email)\n",
        "    duration_list.insert(6, ('Mentee' if email in mentee_computer_emails['COMPUTER_EMAIL'].tolist() else 'Mentor'))\n",
        "    \n",
        "    \n",
        "    attendance_data.append(attendance_list)\n",
        "    duration_data.append(duration_list)"
      ],
      "metadata": {
        "id": "cJLWYjpwE5gr",
        "colab": {
          "base_uri": "https://localhost:8080/"
        },
        "outputId": "27bb69ea-e229-46ea-cb39-c5d59014bc26"
      },
      "execution_count": 379,
      "outputs": [
        {
          "output_type": "stream",
          "name": "stderr",
          "text": [
            "/usr/local/lib/python3.7/dist-packages/ipykernel_launcher.py:28: UserWarning: Boolean Series key will be reindexed to match DataFrame index.\n"
          ]
        }
      ]
    },
    {
      "cell_type": "code",
      "source": [
        "print(len(attendance_data), len(duration_data))"
      ],
      "metadata": {
        "colab": {
          "base_uri": "https://localhost:8080/"
        },
        "id": "B692rPfIHSCF",
        "outputId": "934b6b3c-339d-4c26-8d4b-ce6eaacfe871"
      },
      "execution_count": 380,
      "outputs": [
        {
          "output_type": "stream",
          "name": "stdout",
          "text": [
            "1200 1200\n"
          ]
        }
      ]
    },
    {
      "cell_type": "markdown",
      "source": [
        "#CREATING DATAFRAME AND STORING ATTENDANCE DATA"
      ],
      "metadata": {
        "id": "9gGDqJYpxrYJ"
      }
    },
    {
      "cell_type": "code",
      "source": [
        "print(start, end, max_size)"
      ],
      "metadata": {
        "colab": {
          "base_uri": "https://localhost:8080/"
        },
        "id": "wKgdrtYZ0hw3",
        "outputId": "f7ebacbd-ae3c-485b-c143-6000bb612a0c"
      },
      "execution_count": 381,
      "outputs": [
        {
          "output_type": "stream",
          "name": "stdout",
          "text": [
            "2022-02-13 00:00:00+00:00 2022-02-19 00:00:00+00:00 7\n"
          ]
        }
      ]
    },
    {
      "cell_type": "code",
      "source": [
        "days = (start + timedelta(days = i) for i in range(int((end - start).days/7) + 1))\n",
        "l = [d.strftime(\"%V\") for d in days]\n",
        "unique_list = []\n",
        "  # traverse for all elements\n",
        "for x in l:\n",
        "    # check if exists in unique_list or not\n",
        "    if x not in unique_list:\n",
        "        unique_list.append(x)\n",
        "\n",
        "l = unique_list[:max_size]\n",
        "print(l)"
      ],
      "metadata": {
        "colab": {
          "base_uri": "https://localhost:8080/"
        },
        "id": "HJj6snSK0K4y",
        "outputId": "ac3dfac4-25c2-4683-d3eb-95b06b7829c7"
      },
      "execution_count": 382,
      "outputs": [
        {
          "output_type": "stream",
          "name": "stdout",
          "text": [
            "['06']\n"
          ]
        }
      ]
    },
    {
      "cell_type": "code",
      "source": [
        "#Generate dataframe column names\n",
        "days = (start + timedelta(days=i) for i in range((end - start).days + 1))\n",
        "column_names = [d.strftime(\"%Y-%m-%d\") for d in days]\n",
        "column_names.insert(0, 'Mentor Name')\n",
        "column_names.insert(1, 'Program Name')\n",
        "column_names.insert(2, 'Is Expired')\n",
        "column_names.insert(3, 'Session Day')\n",
        "column_names.insert(4, 'Meet Code')\n",
        "column_names.insert(5, 'Participant Email')\n",
        "column_names.insert(6, 'Participant Type')\n",
        "column_names.append('Attendance Stats')\n",
        "\n",
        "#create dataframes\n",
        "\n",
        "attendance_df = pd.DataFrame(attendance_data, columns=column_names)\n",
        "\n",
        "#change column name\n",
        "column_names[-1] = 'Duration Stats'\n",
        "duration_df = pd.DataFrame(duration_data, columns=column_names)"
      ],
      "metadata": {
        "id": "94VwV-IiPV3u"
      },
      "execution_count": 383,
      "outputs": []
    },
    {
      "cell_type": "code",
      "source": [
        "print(attendance_df.shape, duration_df.shape)"
      ],
      "metadata": {
        "colab": {
          "base_uri": "https://localhost:8080/"
        },
        "id": "0bfcRJ8ryWsS",
        "outputId": "0209fd21-9b47-4a19-cb0a-05552762b5af"
      },
      "execution_count": 384,
      "outputs": [
        {
          "output_type": "stream",
          "name": "stdout",
          "text": [
            "(1200, 15) (1200, 15)\n"
          ]
        }
      ]
    },
    {
      "cell_type": "code",
      "source": [
        "#File names\n",
        "attendance_file_name = 'all_mentor_attendance_data.csv'\n",
        "duration_file_name = 'all_mentor_duration_data.csv'\n",
        "\n",
        "#writing dataframes to csv\n",
        "attendance_df.to_csv(attendance_file_name)\n",
        "duration_df.to_csv(duration_file_name)"
      ],
      "metadata": {
        "id": "FiEkRjEbx-GR"
      },
      "execution_count": 385,
      "outputs": []
    },
    {
      "cell_type": "markdown",
      "source": [
        "#MENTORS THAT NEED TO EXTEND THEIR END DATE"
      ],
      "metadata": {
        "id": "HlPj2mEn7L4w"
      }
    },
    {
      "cell_type": "code",
      "source": [
        "#get list of people that need to extend their end date\n",
        "expired_participants = oracle_data.loc[(oracle_data['END_DATE'] < today_date)]\n",
        "s1 = expired_participants['Actor name']\n",
        "#print(oracle_data['Actor name'] in active_mentors)"
      ],
      "metadata": {
        "id": "kBK_1M3fFzDU"
      },
      "execution_count": 386,
      "outputs": []
    },
    {
      "cell_type": "code",
      "source": [
        "s2 = google_data['Actor name']\n",
        "# print(google_data['Actor name'])\n",
        "# print(expired_participants['Actor name'])\n",
        "mentors_to_renew = s1[s1.isin(s2)]\n",
        "mentors_to_renew\n"
      ],
      "metadata": {
        "id": "KB3ApxG0J2r-",
        "colab": {
          "base_uri": "https://localhost:8080/"
        },
        "outputId": "ce9408b7-85e0-44ae-cbb1-4c0034ddaa93"
      },
      "execution_count": 387,
      "outputs": [
        {
          "output_type": "execute_result",
          "data": {
            "text/plain": [
              "7              aiman hanif\n",
              "24       edzordzinam fugar\n",
              "30               tina chow\n",
              "31           nethmi perera\n",
              "34      arshia chakrabarti\n",
              "               ...        \n",
              "1023         rachel mathai\n",
              "1024         sandy granger\n",
              "1045         shreyans shah\n",
              "1049         ashrit ramesh\n",
              "1075         sumaiya hanif\n",
              "Name: Actor name, Length: 181, dtype: object"
            ]
          },
          "metadata": {},
          "execution_count": 387
        }
      ]
    },
    {
      "cell_type": "markdown",
      "source": [
        "# AVAILABLE PROGRAM SLOTS "
      ],
      "metadata": {
        "id": "C4m9t1YBfVDP"
      }
    },
    {
      "cell_type": "code",
      "source": [
        "#get total sessions by program\n",
        "total_sessions = oracle_data['NAME'].value_counts()\n",
        "total_sessions"
      ],
      "metadata": {
        "id": "zGkX6SeLcYyi",
        "colab": {
          "base_uri": "https://localhost:8080/"
        },
        "outputId": "14e888e8-ec63-497b-e3f4-3b5f27124cf5"
      },
      "execution_count": 388,
      "outputs": [
        {
          "output_type": "execute_result",
          "data": {
            "text/plain": [
              "ahero, kenya              100\n",
              "kadzakalowa, malawi        64\n",
              "maragoli, kenya            37\n",
              "charity centre, zambia     36\n",
              "mukono, uganda             32\n",
              "vima, ghana                23\n",
              "adeiso, ghana              21\n",
              "biwi, malawi               13\n",
              "jolly land, uganda         13\n",
              "high tech, uganda           4\n",
              "Name: NAME, dtype: int64"
            ]
          },
          "metadata": {},
          "execution_count": 388
        }
      ]
    },
    {
      "cell_type": "code",
      "source": [
        "#get count of active sessions\n",
        "#taken_sessions = active_sessions['NAME'].value_counts()\n",
        "#taken_sessions"
      ],
      "metadata": {
        "id": "XcJwh_eqbaM7"
      },
      "execution_count": 389,
      "outputs": []
    },
    {
      "cell_type": "code",
      "source": [
        "# available_sessions = total_sessions - taken_sessions\n",
        "# available_sessions"
      ],
      "metadata": {
        "id": "2xym8bYwePs_"
      },
      "execution_count": 390,
      "outputs": []
    }
  ]
}