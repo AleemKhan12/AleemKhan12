{
  "nbformat": 4,
  "nbformat_minor": 0,
  "metadata": {
    "colab": {
      "name": "Attendance_Tracking",
      "provenance": [],
      "collapsed_sections": [],
      "toc_visible": true,
      "include_colab_link": true
    },
    "kernelspec": {
      "name": "python3",
      "display_name": "Python 3"
    },
    "language_info": {
      "name": "python"
    }
  },
  "cells": [
    {
      "cell_type": "markdown",
      "metadata": {
        "id": "view-in-github",
        "colab_type": "text"
      },
      "source": [
        "<a href=\"https://colab.research.google.com/github/AleemKhan12/AleemKhan12/blob/schema-2/Attendance_Tracking.ipynb\" target=\"_parent\"><img src=\"https://colab.research.google.com/assets/colab-badge.svg\" alt=\"Open In Colab\"/></a>"
      ]
    },
    {
      "cell_type": "code",
      "execution_count": 344,
      "metadata": {
        "id": "3bZwK5KysB9X",
        "colab": {
          "base_uri": "https://localhost:8080/",
          "height": 53
        },
        "outputId": "4bd6587c-2eef-4cdf-b0e3-d12294753372"
      },
      "outputs": [
        {
          "output_type": "execute_result",
          "data": {
            "application/vnd.google.colaboratory.intrinsic+json": {
              "type": "string"
            },
            "text/plain": [
              "'\\nISSUES\\n1. Schema 1 not suitable for visualization. Create dataframe with another schema (Schema 2) for easier visualization\\n\\n'"
            ]
          },
          "metadata": {},
          "execution_count": 344
        }
      ],
      "source": [
        "#Revision notes V0.8: Created new schema (Schema 2) for easier visualization \n",
        "\n",
        "'''\n",
        "ISSUES\n",
        "1. Schema 1 not suitable for visualization. Create dataframe with another schema (Schema 2) for easier visualization\n",
        "\n",
        "'''\n"
      ]
    },
    {
      "cell_type": "markdown",
      "source": [
        "# CONNECTING TO GOOGLE DRIVE"
      ],
      "metadata": {
        "id": "-e30JtYkfes_"
      }
    },
    {
      "cell_type": "code",
      "source": [
        "#connect colab to drive\n",
        "\n",
        "from google.colab import drive\n",
        "from oauth2client.client import GoogleCredentials\n",
        "from google.colab import auth\n",
        "import gspread\n",
        "drive.mount('/content/gdrive')\n",
        "auth.authenticate_user()\n",
        "gc = gspread.authorize(GoogleCredentials.get_application_default())\n"
      ],
      "metadata": {
        "colab": {
          "base_uri": "https://localhost:8080/"
        },
        "id": "kSWZfJ6tsNA6",
        "outputId": "e57f8023-208f-4a8d-e4d6-fbbd1605049f"
      },
      "execution_count": 345,
      "outputs": [
        {
          "output_type": "stream",
          "name": "stdout",
          "text": [
            "Drive already mounted at /content/gdrive; to attempt to forcibly remount, call drive.mount(\"/content/gdrive\", force_remount=True).\n"
          ]
        }
      ]
    },
    {
      "cell_type": "code",
      "source": [
        "#Imports\n",
        "import pandas as pd\n",
        "from datetime import date, timedelta\n",
        "import pytz\n",
        "from numpy.core.numeric import NaN\n",
        "import datetime\n",
        "import math\n",
        "\n"
      ],
      "metadata": {
        "id": "WhFJN5LatFdd"
      },
      "execution_count": 346,
      "outputs": []
    },
    {
      "cell_type": "markdown",
      "source": [
        "#IMPORTANT GLOBAL VARIABLES"
      ],
      "metadata": {
        "id": "JxViOjjIYCAK"
      }
    },
    {
      "cell_type": "code",
      "source": [
        "mentor_email = 'mentor@villagebookbuilders.org' #Mentor program email address\n",
        "oracle_data       = 0                           #Data read from Oracle Database SQL Query\n",
        "google_data       = 0                           #Data read from Google Audit Log\n",
        "active_sessions   = 0                           #Active sessions recorded in Oracle db based on end date\n",
        "total_mentors     = 0                           #List of all mentors names in oracle db\n",
        "oracle_mentor_emails = []                       #list of all mentor emails in oracle db\n",
        "active_mentors    = 0                           #Mentor names that joined at least one session \n",
        "active_mentor_emails = []                       #List of mentor emails that joined at least one session\n",
        "mentor_programs   = []                          #Names of all mentor programs stored in oracle database\n",
        "mentors_not_registered = []                     #Names of all active mentors not logged in oracle database\n",
        "time_zone = 'America/Port_of_Spain'             #google_data['Date'][1][len(google_data['Date'][1])-3:] #TODO: change this hard coded time zone\n",
        "start = 0                                       #start date\n",
        "end = 0                                         #end date\n",
        "program_director_name = ['adeiso ghana', 'ahero kenya', 'biwi, malawi vbb mentor program', 'charity centre, zambia vbb mentor program', 'chebosi kenya', 'kadzakalowa malawi', 'maragoli kenya', 'mukono uganda', 'vima ghana'] #Actor names of program director accounts"
      ],
      "metadata": {
        "id": "l3A_o3ChYGG2"
      },
      "execution_count": 347,
      "outputs": []
    },
    {
      "cell_type": "markdown",
      "source": [
        "# READING DATA SOURCES"
      ],
      "metadata": {
        "id": "B1NVU9iPfnsp"
      }
    },
    {
      "cell_type": "code",
      "source": [
        "#Read Data Sources as pandas data frames\n",
        "\n",
        "#Oracle Data\n",
        "oracle_path = '/content/gdrive/MyDrive/Projects/Mentor_Dashboard_V2/3. Execution/SRC Code/Data/export (1).csv' \n",
        "oracle_data = pd.read_csv(oracle_path)\n",
        "\n",
        "#Google Data\n",
        "#google_path = '/content/gdrive/MyDrive/Projects/Mentor_Dashboard_V2/3. Execution/SRC Code/Data/Google Audit Log/Jan 2022/Copy of meet_logs_1643126905783 - meet_logs_1643126905783.csv'\n",
        "google_path = '/content/gdrive/MyDrive/Projects/Mentor_Dashboard_V2/3. Execution/SRC Code/Data/Google Audit Log/Feb 2022/2 22 2022.csv'\n",
        "google_data = pd.read_csv(google_path)\n",
        "\n",
        "\n",
        "#Mentee Computer Emails\n",
        "mentee_email_path = '/content/gdrive/MyDrive/Projects/Mentor_Dashboard_V2/3. Execution/SRC Code/Data/mentee email/Copy of Village Library Information - computer email.csv'\n",
        "mentee_computer_emails = pd.read_csv(mentee_email_path)\n",
        "\n",
        "\n"
      ],
      "metadata": {
        "id": "ti3RqFW5uRou"
      },
      "execution_count": 348,
      "outputs": []
    },
    {
      "cell_type": "markdown",
      "source": [
        "\n",
        "# CLEANING DATA"
      ],
      "metadata": {
        "id": "dx1dhULnfsJF"
      }
    },
    {
      "cell_type": "code",
      "source": [
        "\n",
        "#Oracle Data\n",
        "oracle_data = oracle_data.dropna(subset=['HANGOUTS_LINK', 'FIRST_NAME', 'VBB_EMAIL']) #remove all empty sessions\n",
        "oracle_data = oracle_data[oracle_data['VBB_EMAIL'].str.contains(r'[^@]+@[^@]+\\.[^@]+')] #remove all nonvalid emails\n",
        "\n",
        "#Google Data\n",
        "google_data = google_data.dropna(subset=['Date', 'Meeting code', 'Participant Identifier', 'Organizer email', 'Duration', 'Actor name']) #clean google data\n",
        "google_data = google_data[google_data['Duration'] != 0] #drop all calls with 0 duration\n",
        "google_data = google_data[google_data['Organizer email'] == mentor_email] #only consider mentor sessions\n",
        "google_data = google_data[google_data['Actor name'] != 'Mentor Program'] #drop all entries for mentor program\n",
        "\n",
        "#Mentee Email data\n",
        "mentee_computer_emails = mentee_computer_emails.dropna()"
      ],
      "metadata": {
        "id": "ZV2uWWJafEtR"
      },
      "execution_count": 349,
      "outputs": []
    },
    {
      "cell_type": "code",
      "source": [
        "print(google_data.shape, oracle_data.shape)"
      ],
      "metadata": {
        "colab": {
          "base_uri": "https://localhost:8080/"
        },
        "id": "hZ6eWiC9kK7a",
        "outputId": "3531b1eb-f2aa-41fd-c9fb-491b515b3824"
      },
      "execution_count": 350,
      "outputs": [
        {
          "output_type": "stream",
          "name": "stdout",
          "text": [
            "(9542, 64) (343, 49)\n"
          ]
        }
      ]
    },
    {
      "cell_type": "code",
      "source": [
        "#DATE CONVERSIONS\n",
        "#Only run this once. Running more times will cause an error. To fix re-read data sources\n",
        "def conv_to_datetime(a):\n",
        "  if isinstance(a, datetime.date):\n",
        "    return a\n",
        "  try:\n",
        "    date = datetime.datetime.strptime(a, '%m/%d/%Y %H:%M')\n",
        "    date = date.replace(tzinfo = pytz.timezone('utc'))\n",
        "    return date\n",
        "  except:\n",
        "    try:\n",
        "      utc_timezone = pytz.timezone(\"utc\")\n",
        "      date = datetime.datetime.strptime(a, '%b %d, %Y, %I:%M:%S %p')\n",
        "      date = date.replace(tzinfo = pytz.timezone(time_zone)) \n",
        "      date = date.astimezone(utc_timezone) #convert all times to UTC\n",
        "      return  date\n",
        "    except:\n",
        "      date = datetime.datetime.strptime('', '')\n",
        "      date = date.replace(tzinfo = pytz.timezone('utc'))\n",
        "      return date\n",
        "\n"
      ],
      "metadata": {
        "id": "_dfBR_DQcLEG"
      },
      "execution_count": null,
      "outputs": []
    },
    {
      "cell_type": "code",
      "source": [
        "#converting oracle dates to datetime objs\n",
        "oracle_data['END_DATE'] = oracle_data['END_DATE'].apply(conv_to_datetime)\n",
        "oracle_data['START_DATE'] = oracle_data['START_DATE'].apply(conv_to_datetime)\n",
        "\n"
      ],
      "metadata": {
        "id": "Z6ZxJul9orkg"
      },
      "execution_count": null,
      "outputs": []
    },
    {
      "cell_type": "code",
      "source": [
        "#Convert google dates to datetime UTC\n",
        "google_data['Date'] = google_data['Date'].apply(lambda x: x[:len(x)-4]) #remove time zone\n",
        "google_data['Date'] = google_data['Date'].apply(conv_to_datetime)"
      ],
      "metadata": {
        "id": "uKItSRAvj47X"
      },
      "execution_count": 352,
      "outputs": []
    },
    {
      "cell_type": "code",
      "source": [
        "#Create new column with just dates\n",
        "google_data['String_Date'] = google_data['Date'].apply(lambda x: str(x)[0:10])"
      ],
      "metadata": {
        "id": "CF2vCaz8j4Vl"
      },
      "execution_count": 353,
      "outputs": []
    },
    {
      "cell_type": "code",
      "source": [
        "#Total active sessions\n",
        "# today_date = datetime.datetime.today()\n",
        "# today_date = today_date.replace(tzinfo = pytz.timezone(time_zone))\n",
        "# active_sessions = oracle_data.loc[(oracle_data['HANGOUTS_LINK'] == oracle_data['HANGOUTS_LINK']) & (oracle_data['END_DATE'] >= today_date)] #could use dropna() function to get rid of NaN's\n",
        "# active_sessions.shape\n",
        "\n",
        "#oracle_data['HANGOUTS_LINK'][1]\n"
      ],
      "metadata": {
        "id": "8h6z3x1POxZr"
      },
      "execution_count": 354,
      "outputs": []
    },
    {
      "cell_type": "code",
      "source": [
        "#Get oracle db Mentor Full Name\n",
        "\n",
        "#active_sessions['Actor name'] = active_sessions['FIRST_NAME'] +' '+ active_sessions['LAST_NAME']\n",
        "oracle_data['Actor name'] = oracle_data['FIRST_NAME'] +' '+ oracle_data['LAST_NAME']\n",
        "total_mentors = sorted(oracle_data['Actor name'].unique().astype(str))\n",
        "total_mentors = [x.lower().strip() for x in total_mentors]\n"
      ],
      "metadata": {
        "id": "e83QZDL05n3O"
      },
      "execution_count": 355,
      "outputs": []
    },
    {
      "cell_type": "code",
      "source": [
        "#Get list of oracle db mentor emails\n",
        "oracle_mentor_emails = oracle_data['VBB_EMAIL'].unique().tolist()\n",
        "oracle_mentor_emails = [x.lower().strip() for x in oracle_mentor_emails]"
      ],
      "metadata": {
        "id": "QcWH1fG7ghaY"
      },
      "execution_count": 356,
      "outputs": []
    },
    {
      "cell_type": "code",
      "source": [
        "#get all mentors that joined atleast one meet\n",
        "active_mentors = sorted(google_data['Actor name'].unique())\n",
        "active_mentors = [participant.lower().strip() for participant in active_mentors]\n",
        "#active_mentors #ordered LIST of mentor names"
      ],
      "metadata": {
        "id": "hvPii_Qj6i1V"
      },
      "execution_count": 357,
      "outputs": []
    },
    {
      "cell_type": "code",
      "source": [
        "#Get emails of all active mentors\n",
        "active_mentor_emails = sorted(google_data['Participant Identifier'].unique())\n",
        "active_mentor_emails = [x.lower().strip() for x in active_mentor_emails]\n",
        "len(active_mentor_emails)"
      ],
      "metadata": {
        "colab": {
          "base_uri": "https://localhost:8080/"
        },
        "id": "iHN_8z8lhnmP",
        "outputId": "53ea274e-413d-46f4-9b7b-540baaa8a226"
      },
      "execution_count": 358,
      "outputs": [
        {
          "output_type": "execute_result",
          "data": {
            "text/plain": [
              "466"
            ]
          },
          "metadata": {},
          "execution_count": 358
        }
      ]
    },
    {
      "cell_type": "code",
      "source": [
        "#Convering MSM to Weekday and time  UTC\n",
        "\n",
        "def conv_to_weekday(a):\n",
        "  weekdays = ['Monday', 'Tuesday', 'Wednesday', 'Thursday', 'Friday', 'Saturday', 'Sunday']\n",
        "  try:\n",
        "    a = int(a)\n",
        "    #day_of_week = weekdays[int(a/(60*24))] + ' ' + str(int((a%(60*24))/60)) + ':' + str((a%(60*24))%60) + ' UTC'\n",
        "    day_of_week = int(a/(60*24))\n",
        "    return day_of_week\n",
        "  except: \n",
        "    pass\n",
        "\n",
        "#MSM = active_sessions['MSM']\n",
        "#active_sessions['SESSION_DATE'] = active_sessions['MSM'].apply(conv_to_weekday)\n",
        "oracle_data['SESSION_DATE'] = oracle_data['MSM'].apply(conv_to_weekday)"
      ],
      "metadata": {
        "id": "hvS9lTOxfWVT"
      },
      "execution_count": 359,
      "outputs": []
    },
    {
      "cell_type": "code",
      "source": [
        "#lower Actor name in Google Audit Log Data for accurate comparisons\n",
        "google_data['Actor name'] = google_data['Actor name'].apply(lambda x: x.lower())\n",
        "google_data['Participant Identifier'] = google_data['Participant Identifier'].apply(lambda x: x.lower())\n",
        "oracle_data['Actor name'] = oracle_data['Actor name'].astype(str) #convert NaN's to string\n",
        "oracle_data['NAME'] = oracle_data['NAME'].astype(str) #convert NaN's to string\n",
        "oracle_data['Actor name'] = oracle_data['Actor name'].apply(lambda x: x.lower())\n",
        "oracle_data['NAME'] = oracle_data['NAME'].apply(lambda x: x.lower())\n",
        "oracle_data['VBB_EMAIL'] = oracle_data['VBB_EMAIL'].apply(lambda x: x.lower())"
      ],
      "metadata": {
        "id": "z-QA2l-kcGGa"
      },
      "execution_count": 360,
      "outputs": []
    },
    {
      "cell_type": "markdown",
      "source": [
        "#STAT TRACKING SCHEMA 1 (MENTORS IN DATABASE)"
      ],
      "metadata": {
        "id": "NS6R-QbVbruy"
      }
    },
    {
      "cell_type": "code",
      "source": [
        "#Get start, end dates and today's date\n",
        "dates_list = sorted(google_data['Date'].tolist())\n",
        "#start, end = dates_list[0], dates_list[-1]\n",
        "end, start = datetime.datetime(2022, 2, 19).astimezone(pytz.timezone(\"utc\")), datetime.datetime(2022, 2, 13).astimezone(pytz.timezone(\"utc\"))\n",
        "today_date = datetime.datetime.today().replace(tzinfo = pytz.timezone(time_zone))\n"
      ],
      "metadata": {
        "id": "Y55mCcMGrw_B"
      },
      "execution_count": 361,
      "outputs": []
    },
    {
      "cell_type": "code",
      "source": [
        "count = 0 #how many mentor to print. Mainly for testing purposes\n",
        "#start, end = datetime.datetime(2021, 7, 29, tzinfo = pytz.timezone(time_zone)), datetime.datetime(2022, 1, 25, tzinfo = pytz.timezone(time_zone))\n",
        "\n",
        "#get number of weeks in start and end dates\n",
        "max_size = 0\n",
        "for i in range(0, 7):\n",
        "  days = (start + timedelta(days=i) for i in range((end - start).days + 1))\n",
        "  l = [d.strftime(\"%Y-%m-%d\") for d in days if d.weekday() in [0, 1, 2, 3, 4, 5, 6]]\n",
        "  if len(l)>max_size:\n",
        "    max_size = len(l)\n"
      ],
      "metadata": {
        "id": "R4WOfIpSkF7T"
      },
      "execution_count": 362,
      "outputs": []
    },
    {
      "cell_type": "code",
      "source": [
        "sorted(oracle_mentor_emails)"
      ],
      "metadata": {
        "id": "x_36yY_7pCAF"
      },
      "execution_count": null,
      "outputs": []
    },
    {
      "cell_type": "code",
      "source": [
        "#Get attendance of each mentor in oracle database\n",
        "\n",
        "attendance_data = []\n",
        "duration_data = []\n",
        "\n",
        "for email in oracle_mentor_emails:\n",
        "  # if count == 1000:\n",
        "  #   break\n",
        "  # count += 1\n",
        "\n",
        "  #Get participant oracle data \n",
        "  participant_oracle_data = oracle_data.loc[oracle_data['VBB_EMAIL']  == email] #read oracle data for participant\n",
        "  \n",
        "\n",
        "  #Check attendance and duration for each session in oracle database\n",
        "  for num, row in participant_oracle_data.iterrows():\n",
        "    meeting_code = row['HANGOUTS_LINK'][-12:].replace('-','').upper()\n",
        "\n",
        "    #Get google data\n",
        "    participant_google_data = google_data.loc[(google_data['Participant Identifier'] == email) & (google_data['Meeting code'] == meeting_code)]  #read google data for participant\n",
        "\n",
        "    #Get list of dates that they joined sessions\n",
        "    #participant_google_data['String_Date'] = participant_google_data['Date'].apply(lambda x: str(x)[0:10])\n",
        "    google_dates = participant_google_data.drop_duplicates(subset=['String_Date'])['String_Date'].tolist()#days mentor joined\n",
        "\n",
        "    #Check attendance \n",
        "    days = (start + timedelta(days=i) for i in range((end - start).days + 1))\n",
        "    SESSION_DATE = int(row['SESSION_DATE'])\n",
        "    l = [d.strftime(\"%Y-%m-%d\") for d in days] #if d.weekday() in [0, 1, 2, 3, 4, 5, 6]]\n",
        "    attendance_list = [0] * max_size #every array will be the same size regarless of the day of week that sessions are held\n",
        "    duration_list = [0] * max_size\n",
        "    index = 0;\n",
        "    for date in l:\n",
        "      if(date in google_dates):\n",
        "        #Record attendance\n",
        "        attendance_list[index] = 1\n",
        "\n",
        "        #Record total time spent in meeting\n",
        "        duration = 0\n",
        "        duration = participant_google_data.loc[participant_google_data['String_Date'] == date]['Duration'].sum() #this will sum total duration on given day\n",
        "        duration_list[index] = duration\n",
        "\n",
        "      #increment index\n",
        "      index = index+1\n",
        "\n",
        "    #Calculating attendance and duration Stats\n",
        "    attendance_stats = (sum(attendance_list)/len(attendance_list))*100\n",
        "    duration_stats = sum(duration_list)\n",
        "    attendance_list.append(attendance_stats)\n",
        "    duration_list.append(duration_stats)\n",
        "\n",
        "    #Insert meta data into lists\n",
        "    weekdays = ['Monday', 'Tuesday', 'Wednesday', 'Thursday', 'Friday', 'Saturday', 'Sunday']\n",
        "\n",
        "    #attendance list\n",
        "    attendance_list.insert(0, row['Actor name'])\n",
        "    attendance_list.insert(1, row['NAME'].lower())\n",
        "    attendance_list.insert(2, ('Y' if row['END_DATE'] < today_date else 'N'))\n",
        "    attendance_list.insert(3, weekdays[row['SESSION_DATE']])\n",
        "    attendance_list.insert(4, row['HANGOUTS_LINK'][-12:].replace('-','').upper())\n",
        "    attendance_list.insert(5, row['VBB_EMAIL'])\n",
        "    attendance_list.insert(6, 'Mentor')\n",
        "\n",
        "    #duration list\n",
        "    duration_list.insert(0, row['Actor name'])\n",
        "    duration_list.insert(1, row['NAME'].lower())\n",
        "    duration_list.insert(2, ('Y' if row['END_DATE'] < today_date else 'N'))\n",
        "    duration_list.insert(3, weekdays[row['SESSION_DATE']])\n",
        "    duration_list.insert(4, meeting_code)\n",
        "    duration_list.insert(5, row['VBB_EMAIL'])\n",
        "    duration_list.insert(6, 'Mentor')\n",
        "\n",
        "    #append mentor attendance data to general list for dataframe generation\n",
        "    attendance_data.append(attendance_list)\n",
        "    duration_data.append(duration_list)\n",
        "  "
      ],
      "metadata": {
        "id": "t8plgJwrduVV"
      },
      "execution_count": 406,
      "outputs": []
    },
    {
      "cell_type": "code",
      "source": [
        "print(len(attendance_data), len(duration_data))"
      ],
      "metadata": {
        "colab": {
          "base_uri": "https://localhost:8080/"
        },
        "id": "qJZGfl24vLBF",
        "outputId": "67bc9ee4-ed9e-4b36-b8a8-f266160836a0"
      },
      "execution_count": 408,
      "outputs": [
        {
          "output_type": "stream",
          "name": "stdout",
          "text": [
            "343 343\n"
          ]
        }
      ]
    },
    {
      "cell_type": "markdown",
      "source": [
        "#STAT TRACKING SCHEMA 2 (MENTORS IN DATABASE)"
      ],
      "metadata": {
        "id": "akG7_t1kZL5a"
      }
    },
    {
      "cell_type": "code",
      "source": [
        "#Start and end dates:\n",
        "print(start, end)"
      ],
      "metadata": {
        "colab": {
          "base_uri": "https://localhost:8080/"
        },
        "id": "GbRFSDYRZO4m",
        "outputId": "e340dbce-5ba6-4173-8a3c-da980e2104d4"
      },
      "execution_count": 366,
      "outputs": [
        {
          "output_type": "stream",
          "name": "stdout",
          "text": [
            "2022-02-13 00:00:00+00:00 2022-02-19 00:00:00+00:00\n"
          ]
        }
      ]
    },
    {
      "cell_type": "code",
      "source": [
        "#Get mentors for each day of the week\n",
        "mentors_for_day = [0]*7\n",
        "for i in range(7):\n",
        "  #for each day get the mentors for that day\n",
        "  mentors_for_day[i] = oracle_data[oracle_data['SESSION_DATE'] == i]['VBB_EMAIL'].unique().tolist()\n"
      ],
      "metadata": {
        "id": "CfpFNQ7uZUfF"
      },
      "execution_count": 369,
      "outputs": []
    },
    {
      "cell_type": "code",
      "source": [
        "#Get days in between start and end dates\n",
        "days = (start + timedelta(days=i) for i in range((end - start).days + 1))\n",
        "\n",
        "#initiate df list\n",
        "data_frame = []\n",
        "\n",
        "#for each day itterate over each mentor for that day and get their attendance for all their sessions\n",
        "for day in days:  \n",
        "  #print(day.weekday())\n",
        "\n",
        "  for mentor_email in mentors_for_day[day.weekday()]:\n",
        "    \n",
        "    #print(mentor_email)\n",
        "\n",
        "    for index, session in oracle_data[(oracle_data['VBB_EMAIL'] == mentor_email) & (oracle_data['SESSION_DATE'] == day.weekday())].iterrows():\n",
        "\n",
        "      meeting_code = session['HANGOUTS_LINK'][-12:].replace('-','').upper()\n",
        "\n",
        "      #Convert date time to date\n",
        "      date = day.strftime(\"%Y-%m-%d\")\n",
        "      #Get all days participant joined this session\n",
        "      google_dates = google_data[(google_data['Participant Identifier'] == mentor_email) & (google_data['Meeting code'] == meeting_code)]['String_Date'].tolist()\n",
        "      #Get total time spend in this session for givend day \n",
        "      duration = google_data[(google_data['Participant Identifier'] == mentor_email) & (google_data['Meeting code'] == meeting_code) & (google_data['String_Date'] == date)]['Duration'].sum()\n",
        "\n",
        "      #Create row of data frame\n",
        "      row = [date, session['Actor name'], session['NAME'].lower(), mentor_email, 'Mentor', meeting_code, 1 if date in google_dates else 0, duration]\n",
        "      data_frame.append(row)\n",
        "  \n"
      ],
      "metadata": {
        "id": "_SvkVcXJcY8O"
      },
      "execution_count": 402,
      "outputs": []
    },
    {
      "cell_type": "code",
      "source": [
        "#Create data frame and store\n",
        "file_name = 'attendance_schema_2.csv'\n",
        "df = pd.DataFrame(data_frame, columns =['Date', 'Name', 'Program', 'Email', 'Type', 'Meeting Code', 'Attendance', 'Duration'])\n",
        "df.to_csv(file_name)"
      ],
      "metadata": {
        "id": "1L-_3Hj2zv3x"
      },
      "execution_count": 404,
      "outputs": []
    },
    {
      "cell_type": "code",
      "source": [
        "df.head"
      ],
      "metadata": {
        "colab": {
          "base_uri": "https://localhost:8080/"
        },
        "id": "THxx860ajHhm",
        "outputId": "57db0dde-63f8-442f-e2fa-ea2ac30484a0"
      },
      "execution_count": 398,
      "outputs": [
        {
          "output_type": "execute_result",
          "data": {
            "text/plain": [
              "<bound method NDFrame.head of               0                      1  ...  6       7\n",
              "0    2022-02-13            haesol park  ...  0     0.0\n",
              "1    2022-02-13            haesol park  ...  0     0.0\n",
              "2    2022-02-13    prethivika vimalraj  ...  1  2361.0\n",
              "3    2022-02-13  mahalakshmi jagadesan  ...  0     0.0\n",
              "4    2022-02-13            avi agarwal  ...  1  2942.0\n",
              "..          ...                    ...  ... ..     ...\n",
              "370  2022-02-19      gabriela sarbello  ...  1  3683.0\n",
              "371  2022-02-19              kent feng  ...  1  3594.0\n",
              "372  2022-02-19       alexandria smith  ...  1  3816.0\n",
              "373  2022-02-19       andrew creighton  ...  0     0.0\n",
              "374  2022-02-19         mahiya agarwal  ...  0     0.0\n",
              "\n",
              "[375 rows x 8 columns]>"
            ]
          },
          "metadata": {},
          "execution_count": 398
        }
      ]
    },
    {
      "cell_type": "markdown",
      "source": [
        "#STAT TRACKING SCHEMA 1 (MENTORS NOT IN DATABASE)"
      ],
      "metadata": {
        "id": "cwUde-hSKwIQ"
      }
    },
    {
      "cell_type": "code",
      "source": [
        "#Get list of active mentors not in database\n",
        "s1 = oracle_data['Actor name']\n",
        "s2 = google_data['Actor name']\n",
        "mentors_not_registered = sorted(s2[~s2.isin(s1)].unique())"
      ],
      "metadata": {
        "id": "mU-nrl4ZK8aU"
      },
      "execution_count": 372,
      "outputs": []
    },
    {
      "cell_type": "code",
      "source": [
        "mentor_emails_not_registered = [x for x in active_mentor_emails if x not in oracle_mentor_emails]"
      ],
      "metadata": {
        "id": "9m2N3v6ii3hA"
      },
      "execution_count": 373,
      "outputs": []
    },
    {
      "cell_type": "code",
      "source": [
        "print(len(s1), len(s2), len(mentor_emails_not_registered))"
      ],
      "metadata": {
        "colab": {
          "base_uri": "https://localhost:8080/"
        },
        "id": "nGooldmdjAeX",
        "outputId": "b33304b1-f89a-4f2c-f989-2e069a1800d5"
      },
      "execution_count": 374,
      "outputs": [
        {
          "output_type": "stream",
          "name": "stdout",
          "text": [
            "343 9542 204\n"
          ]
        }
      ]
    },
    {
      "cell_type": "code",
      "source": [
        "#Remove program director actor names\n",
        "#mentors_not_registered = [x for x in mentors_not_registered if x not in program_director_name]"
      ],
      "metadata": {
        "id": "oWmjp4blx_7j"
      },
      "execution_count": 375,
      "outputs": []
    },
    {
      "cell_type": "code",
      "source": [
        "len(mentors_not_registered)"
      ],
      "metadata": {
        "colab": {
          "base_uri": "https://localhost:8080/"
        },
        "id": "HX2b2qJ0q063",
        "outputId": "29f2c554-5dbc-4e73-c216-4643657648a0"
      },
      "execution_count": 376,
      "outputs": [
        {
          "output_type": "execute_result",
          "data": {
            "text/plain": [
              "184"
            ]
          },
          "metadata": {},
          "execution_count": 376
        }
      ]
    },
    {
      "cell_type": "code",
      "source": [
        "#Get list of all mentor programs\n",
        "mentor_programs = sorted(oracle_data['NAME'].unique())\n",
        "mentor_programs = [x.lower() for x in mentor_programs]\n",
        "mentor_programs"
      ],
      "metadata": {
        "id": "dY7csZkqdD1l"
      },
      "execution_count": null,
      "outputs": []
    },
    {
      "cell_type": "code",
      "source": [
        "#clear lists for testing\n",
        "# attendance_data = []\n",
        "# duration_data = []"
      ],
      "metadata": {
        "id": "2Bxm6d5iAs1U"
      },
      "execution_count": 378,
      "outputs": []
    },
    {
      "cell_type": "code",
      "source": [
        "#getting attendance data for mentors not in orable database\n",
        "#attendance_data = []\n",
        "\n",
        "#Get participant name\n",
        "for email in mentor_emails_not_registered:\n",
        "  participant_google_data = google_data.loc[google_data['Participant Identifier'] == email]\n",
        "  participant_name = participant_google_data['Actor name'].tolist()[0]\n",
        "  #print(participant_name)\n",
        "\n",
        "  #Get session info\n",
        "  #participant_google_data['String_Date'] = participant_google_data['Date'].apply(lambda x: str(x)[0:10])\n",
        "  #participant_google_data = participant_google_data.drop_duplicates(subset=['String_Date', 'Meeting code'])\n",
        "\n",
        "  #Get mentor session info\n",
        "  session_info = participant_google_data[['Meeting code', 'Date']].drop_duplicates(subset=['Meeting code'])\n",
        "  session_info['Date'] = session_info['Date'].apply(lambda x: x.weekday())\n",
        "  #print(session_info)\n",
        "\n",
        "  #mentee emails \n",
        "  mentee_emails = mentee_computer_emails['COMPUTER_EMAIL'].tolist()\n",
        "\n",
        "  #Find stats for each session\n",
        "  for num, session in session_info.iterrows():\n",
        "    #get meeting code\n",
        "    meeting_code = session['Meeting code']\n",
        "\n",
        "    #Get dates they joined this session\n",
        "    google_dates = participant_google_data[google_data['Meeting code'] == meeting_code]['String_Date'].tolist()\n",
        "\n",
        "    #print(day)\n",
        "    days = (start + timedelta(days=i) for i in range((end - start).days + 1))\n",
        "    l = [d.strftime(\"%Y-%m-%d\") for d in days] #if d.weekday() in [session['Date']]]\n",
        "    attendance_list = [0] * max_size #every array will be the same size regarless of the day of week that sessions are held\n",
        "    duration_list = [0] * max_size\n",
        "    index = 0;\n",
        "    for date in l:\n",
        "      if(date in google_dates):\n",
        "        #track attendance\n",
        "        attendance_list[index] = 1\n",
        "\n",
        "        #Track duration\n",
        "        duration = 0\n",
        "        duration = participant_google_data.loc[(participant_google_data['String_Date'] == date) & (participant_google_data['Meeting code'] == session['Meeting code'])]['Duration'].sum() #this will sum total duration on given day regardless of meeting code\n",
        "        duration_list[index] = duration\n",
        "\n",
        "      index = index+1\n",
        "    \n",
        "    #Calculating attendance Stats\n",
        "    attendance_stats = (sum(attendance_list)/len(attendance_list))*100\n",
        "    duration_stats = sum(duration_list)\n",
        "    attendance_list.append(attendance_stats)\n",
        "    duration_list.append(duration_stats)\n",
        "\n",
        "    \n",
        "    \n",
        "    \n",
        "    #print(meeting_code)\n",
        "\n",
        "    #get participants that have this meeting code\n",
        "    mentee_info = sorted(google_data.loc[google_data['Meeting code'] == meeting_code]['Participant Identifier'].unique()) #will always return an array of at least 1\n",
        "    #print(mentee_info)\n",
        "\n",
        "    #Get program info from participant identifiers\n",
        "    mentor_program = NaN\n",
        "    for i in range(0, len(mentee_info)):\n",
        "      if ((mentee_info) and (mentee_info[i] in mentee_emails)):\n",
        "        mentor_program = mentee_computer_emails.loc[mentee_computer_emails['COMPUTER_EMAIL'] == mentee_info[i]]['PROGRAM_NAME'].tolist()[0]\n",
        "        break\n",
        "    #print(mentor_program)\n",
        "\n",
        "    #Add meta data to data frame\n",
        "    weekdays = ['Monday', 'Tuesday', 'Wednesday', 'Thursday', 'Friday', 'Saturday', 'Sunday']\n",
        "\n",
        "    #Attendance list\n",
        "    attendance_list.insert(0, participant_name)\n",
        "    attendance_list.insert(1, mentor_program)\n",
        "    attendance_list.insert(2, 'N')\n",
        "    attendance_list.insert(3, weekdays[session['Date']])\n",
        "    attendance_list.insert(4, session['Meeting code']) #add column for meeting code\n",
        "    \n",
        "    #Get participant email\n",
        "    attendance_list.insert(5, email)\n",
        "    attendance_list.insert(6, ('Mentee' if email in mentee_computer_emails['COMPUTER_EMAIL'].tolist() else 'Mentor'))\n",
        "\n",
        "    #Duration list\n",
        "    duration_list.insert(0, participant_name)\n",
        "    duration_list.insert(1, mentor_program)\n",
        "    duration_list.insert(2, 'N')\n",
        "    duration_list.insert(3, weekdays[session['Date']])\n",
        "    duration_list.insert(4, session['Meeting code']) #add column for meeting code\n",
        "    duration_list.insert(5, email)\n",
        "    duration_list.insert(6, ('Mentee' if email in mentee_computer_emails['COMPUTER_EMAIL'].tolist() else 'Mentor'))\n",
        "    \n",
        "    \n",
        "    attendance_data.append(attendance_list)\n",
        "    duration_data.append(duration_list)"
      ],
      "metadata": {
        "id": "cJLWYjpwE5gr",
        "colab": {
          "base_uri": "https://localhost:8080/"
        },
        "outputId": "82822aeb-4d6f-4dbb-ad7a-52cefc3d7a76"
      },
      "execution_count": 451,
      "outputs": [
        {
          "output_type": "stream",
          "name": "stderr",
          "text": [
            "/usr/local/lib/python3.7/dist-packages/ipykernel_launcher.py:28: UserWarning: Boolean Series key will be reindexed to match DataFrame index.\n"
          ]
        }
      ]
    },
    {
      "cell_type": "code",
      "source": [
        "print(len(attendance_data), len(duration_data))"
      ],
      "metadata": {
        "colab": {
          "base_uri": "https://localhost:8080/"
        },
        "id": "B692rPfIHSCF",
        "outputId": "bc02fb91-cdbc-4333-b5f9-4f9552a1ea9d"
      },
      "execution_count": 452,
      "outputs": [
        {
          "output_type": "stream",
          "name": "stdout",
          "text": [
            "857 1200\n"
          ]
        }
      ]
    },
    {
      "cell_type": "markdown",
      "source": [
        "#STAT TRACKING SCHEMA 2 (MENTORS NOT IN DATABASE)"
      ],
      "metadata": {
        "id": "3dQjiPN_6sLV"
      }
    },
    {
      "cell_type": "code",
      "source": [
        "#Get emails of all active persons not in oracle db\n",
        "mentor_emails_not_registered = [x for x in active_mentor_emails if x not in oracle_mentor_emails]"
      ],
      "metadata": {
        "id": "OnnsXLfN6v-d"
      },
      "execution_count": 442,
      "outputs": []
    },
    {
      "cell_type": "code",
      "source": [
        "len(mentor_emails_not_registered)"
      ],
      "metadata": {
        "colab": {
          "base_uri": "https://localhost:8080/"
        },
        "id": "reXEweeO7AkG",
        "outputId": "458145fa-d544-4bc6-9f0d-df8e93a596a6"
      },
      "execution_count": 414,
      "outputs": [
        {
          "output_type": "execute_result",
          "data": {
            "text/plain": [
              "204"
            ]
          },
          "metadata": {},
          "execution_count": 414
        }
      ]
    },
    {
      "cell_type": "code",
      "source": [
        "google_data.head()"
      ],
      "metadata": {
        "id": "6r8tsuhA9cBQ"
      },
      "execution_count": null,
      "outputs": []
    },
    {
      "cell_type": "code",
      "source": [
        "#Get session info for each unregistered mentor\n",
        "session_data = google_data.drop_duplicates(subset=['Meeting code', 'Participant Identifier'])\n",
        "session_data['SESSION_DATE'] = session_data['Date'].apply(lambda x: x.weekday())\n",
        "  "
      ],
      "metadata": {
        "id": "hrsfBEKr8lza"
      },
      "execution_count": null,
      "outputs": []
    },
    {
      "cell_type": "code",
      "source": [
        "#Get mentors for each day of the week\n",
        "mentors_for_day = [0]*7\n",
        "for i in range(7):\n",
        "  #for each day get the mentors for that day\n",
        "  mentors_for_day[i] = session_data[session_data['SESSION_DATE'] == i]['Participant Identifier'].unique().tolist()\n",
        "  #Remove mentors that are in oracle db\n",
        "  mentors_for_day[i] = [x for x in mentors_for_day[i] if x not in oracle_mentor_emails]\n"
      ],
      "metadata": {
        "id": "ER0zew50-WGw"
      },
      "execution_count": 445,
      "outputs": []
    },
    {
      "cell_type": "code",
      "source": [
        "#Get days to search for\n",
        "days = (start + timedelta(days=i) for i in range((end - start).days + 1))\n",
        "\n",
        "#for testing\n",
        "data_frame = []\n",
        "\n",
        "#for each day itterate over each mentor for that day and get their attendance for all their sessions\n",
        "for day in days:  \n",
        "  #print(day.weekday())\n",
        "\n",
        "  for mentor_email in mentors_for_day[day.weekday()]:\n",
        "    \n",
        "    #print(mentor_email)\n",
        "\n",
        "    for index, session in session_data[(session_data['Participant Identifier'] == mentor_email) & (session_data['SESSION_DATE'] == day.weekday())].iterrows():\n",
        "\n",
        "      meeting_code = session['Meeting code']\n",
        "\n",
        "      #Convert date time to date\n",
        "      date = day.strftime(\"%Y-%m-%d\")\n",
        "      #Get all days participant joined this session\n",
        "      google_dates = google_data[(google_data['Participant Identifier'] == mentor_email) & (google_data['Meeting code'] == meeting_code)]['String_Date'].tolist()\n",
        "      #Get total time spend in this session for givend day \n",
        "      duration = google_data[(google_data['Participant Identifier'] == mentor_email) & (google_data['Meeting code'] == meeting_code) & (google_data['String_Date'] == date)]['Duration'].sum()\n",
        "\n",
        "      #Get program info\n",
        "      #get participants that have this meeting code\n",
        "      mentee_info = sorted(google_data.loc[google_data['Meeting code'] == meeting_code]['Participant Identifier'].unique()) #will always return an array of at least 1\n",
        "      #print(mentee_info)\n",
        "\n",
        "      #Get program info from participant identifiers\n",
        "      mentor_program = NaN\n",
        "      for i in range(0, len(mentee_info)):\n",
        "        if ((mentee_info) and (mentee_info[i] in mentee_emails)):\n",
        "          mentor_program = mentee_computer_emails.loc[mentee_computer_emails['COMPUTER_EMAIL'] == mentee_info[i]]['PROGRAM_NAME'].tolist()[0]\n",
        "          break\n",
        "      \n",
        "      #Create row of data frame\n",
        "      row = [date, session['Actor name'], mentor_program, mentor_email, ('Mentee' if mentor_email in mentee_computer_emails['COMPUTER_EMAIL'].tolist() else 'Mentor'), meeting_code, 1 if date in google_dates else 0, duration]\n",
        "      data_frame.append(row)\n",
        "  "
      ],
      "metadata": {
        "id": "x14iGtmT7ZVw"
      },
      "execution_count": 447,
      "outputs": []
    },
    {
      "cell_type": "code",
      "source": [
        "#Create data frame and store\n",
        "file_name = 'attendance_schema_2_google_mentors.csv'\n",
        "df = pd.DataFrame(data_frame, columns =['Date', 'Name', 'Program', 'Email', 'Type', 'Meeting Code', 'Attendance', 'Duration'])\n",
        "df.to_csv(file_name)"
      ],
      "metadata": {
        "id": "PX1J2p-1Eoa9"
      },
      "execution_count": 448,
      "outputs": []
    },
    {
      "cell_type": "code",
      "source": [
        "df.shape"
      ],
      "metadata": {
        "colab": {
          "base_uri": "https://localhost:8080/"
        },
        "id": "maHfFgGaE7O8",
        "outputId": "d5cecefe-2be3-4b3b-eaa8-98b658b80b38"
      },
      "execution_count": 450,
      "outputs": [
        {
          "output_type": "execute_result",
          "data": {
            "text/plain": [
              "(857, 8)"
            ]
          },
          "metadata": {},
          "execution_count": 450
        }
      ]
    },
    {
      "cell_type": "markdown",
      "source": [
        "#CREATING DATAFRAME AND STORING ATTENDANCE DATA"
      ],
      "metadata": {
        "id": "9gGDqJYpxrYJ"
      }
    },
    {
      "cell_type": "code",
      "source": [
        "print(start, end, max_size)"
      ],
      "metadata": {
        "colab": {
          "base_uri": "https://localhost:8080/"
        },
        "id": "wKgdrtYZ0hw3",
        "outputId": "f7ebacbd-ae3c-485b-c143-6000bb612a0c"
      },
      "execution_count": 381,
      "outputs": [
        {
          "output_type": "stream",
          "name": "stdout",
          "text": [
            "2022-02-13 00:00:00+00:00 2022-02-19 00:00:00+00:00 7\n"
          ]
        }
      ]
    },
    {
      "cell_type": "code",
      "source": [
        "days = (start + timedelta(days = i) for i in range(int((end - start).days/7) + 1))\n",
        "l = [d.strftime(\"%V\") for d in days]\n",
        "unique_list = []\n",
        "  # traverse for all elements\n",
        "for x in l:\n",
        "    # check if exists in unique_list or not\n",
        "    if x not in unique_list:\n",
        "        unique_list.append(x)\n",
        "\n",
        "l = unique_list[:max_size]\n",
        "print(l)"
      ],
      "metadata": {
        "colab": {
          "base_uri": "https://localhost:8080/"
        },
        "id": "HJj6snSK0K4y",
        "outputId": "ac3dfac4-25c2-4683-d3eb-95b06b7829c7"
      },
      "execution_count": 382,
      "outputs": [
        {
          "output_type": "stream",
          "name": "stdout",
          "text": [
            "['06']\n"
          ]
        }
      ]
    },
    {
      "cell_type": "code",
      "source": [
        "#Generate dataframe column names\n",
        "days = (start + timedelta(days=i) for i in range((end - start).days + 1))\n",
        "column_names = [d.strftime(\"%Y-%m-%d\") for d in days]\n",
        "column_names.insert(0, 'Mentor Name')\n",
        "column_names.insert(1, 'Program Name')\n",
        "column_names.insert(2, 'Is Expired')\n",
        "column_names.insert(3, 'Session Day')\n",
        "column_names.insert(4, 'Meet Code')\n",
        "column_names.insert(5, 'Participant Email')\n",
        "column_names.insert(6, 'Participant Type')\n",
        "column_names.append('Attendance Stats')\n",
        "\n",
        "#create dataframes\n",
        "\n",
        "attendance_df = pd.DataFrame(attendance_data, columns=column_names)\n",
        "\n",
        "#change column name\n",
        "column_names[-1] = 'Duration Stats'\n",
        "duration_df = pd.DataFrame(duration_data, columns=column_names)"
      ],
      "metadata": {
        "id": "94VwV-IiPV3u"
      },
      "execution_count": 453,
      "outputs": []
    },
    {
      "cell_type": "code",
      "source": [
        "print(attendance_df.shape, duration_df.shape)"
      ],
      "metadata": {
        "colab": {
          "base_uri": "https://localhost:8080/"
        },
        "id": "0bfcRJ8ryWsS",
        "outputId": "406963b5-29b1-4200-9be0-058933113df9"
      },
      "execution_count": 454,
      "outputs": [
        {
          "output_type": "stream",
          "name": "stdout",
          "text": [
            "(857, 15) (1200, 15)\n"
          ]
        }
      ]
    },
    {
      "cell_type": "code",
      "source": [
        "#File names\n",
        "attendance_file_name = 'all_mentor_attendance_data.csv'\n",
        "duration_file_name = 'all_mentor_duration_data.csv'\n",
        "\n",
        "#writing dataframes to csv\n",
        "attendance_df.to_csv(attendance_file_name)\n",
        "duration_df.to_csv(duration_file_name)"
      ],
      "metadata": {
        "id": "FiEkRjEbx-GR"
      },
      "execution_count": 455,
      "outputs": []
    },
    {
      "cell_type": "markdown",
      "source": [
        "#MENTORS THAT NEED TO EXTEND THEIR END DATE"
      ],
      "metadata": {
        "id": "HlPj2mEn7L4w"
      }
    },
    {
      "cell_type": "code",
      "source": [
        "#get list of people that need to extend their end date\n",
        "expired_participants = oracle_data.loc[(oracle_data['END_DATE'] < today_date)]\n",
        "s1 = expired_participants['Actor name']\n",
        "#print(oracle_data['Actor name'] in active_mentors)"
      ],
      "metadata": {
        "id": "kBK_1M3fFzDU"
      },
      "execution_count": 386,
      "outputs": []
    },
    {
      "cell_type": "code",
      "source": [
        "s2 = google_data['Actor name']\n",
        "# print(google_data['Actor name'])\n",
        "# print(expired_participants['Actor name'])\n",
        "mentors_to_renew = s1[s1.isin(s2)]\n",
        "mentors_to_renew\n"
      ],
      "metadata": {
        "id": "KB3ApxG0J2r-",
        "colab": {
          "base_uri": "https://localhost:8080/"
        },
        "outputId": "ce9408b7-85e0-44ae-cbb1-4c0034ddaa93"
      },
      "execution_count": 387,
      "outputs": [
        {
          "output_type": "execute_result",
          "data": {
            "text/plain": [
              "7              aiman hanif\n",
              "24       edzordzinam fugar\n",
              "30               tina chow\n",
              "31           nethmi perera\n",
              "34      arshia chakrabarti\n",
              "               ...        \n",
              "1023         rachel mathai\n",
              "1024         sandy granger\n",
              "1045         shreyans shah\n",
              "1049         ashrit ramesh\n",
              "1075         sumaiya hanif\n",
              "Name: Actor name, Length: 181, dtype: object"
            ]
          },
          "metadata": {},
          "execution_count": 387
        }
      ]
    },
    {
      "cell_type": "markdown",
      "source": [
        "# AVAILABLE PROGRAM SLOTS "
      ],
      "metadata": {
        "id": "C4m9t1YBfVDP"
      }
    },
    {
      "cell_type": "code",
      "source": [
        "#get total sessions by program\n",
        "total_sessions = oracle_data['NAME'].value_counts()\n",
        "total_sessions"
      ],
      "metadata": {
        "id": "zGkX6SeLcYyi",
        "colab": {
          "base_uri": "https://localhost:8080/"
        },
        "outputId": "14e888e8-ec63-497b-e3f4-3b5f27124cf5"
      },
      "execution_count": 388,
      "outputs": [
        {
          "output_type": "execute_result",
          "data": {
            "text/plain": [
              "ahero, kenya              100\n",
              "kadzakalowa, malawi        64\n",
              "maragoli, kenya            37\n",
              "charity centre, zambia     36\n",
              "mukono, uganda             32\n",
              "vima, ghana                23\n",
              "adeiso, ghana              21\n",
              "biwi, malawi               13\n",
              "jolly land, uganda         13\n",
              "high tech, uganda           4\n",
              "Name: NAME, dtype: int64"
            ]
          },
          "metadata": {},
          "execution_count": 388
        }
      ]
    },
    {
      "cell_type": "code",
      "source": [
        "#get count of active sessions\n",
        "#taken_sessions = active_sessions['NAME'].value_counts()\n",
        "#taken_sessions"
      ],
      "metadata": {
        "id": "XcJwh_eqbaM7"
      },
      "execution_count": 389,
      "outputs": []
    },
    {
      "cell_type": "code",
      "source": [
        "# available_sessions = total_sessions - taken_sessions\n",
        "# available_sessions"
      ],
      "metadata": {
        "id": "2xym8bYwePs_"
      },
      "execution_count": 390,
      "outputs": []
    }
  ]
}