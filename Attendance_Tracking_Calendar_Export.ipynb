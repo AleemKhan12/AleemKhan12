{
  "nbformat": 4,
  "nbformat_minor": 0,
  "metadata": {
    "colab": {
      "name": "Attendance Tracking Calendar Export",
      "provenance": [],
      "collapsed_sections": [],
      "toc_visible": true,
      "include_colab_link": true
    },
    "kernelspec": {
      "name": "python3",
      "display_name": "Python 3"
    },
    "language_info": {
      "name": "python"
    }
  },
  "cells": [
    {
      "cell_type": "markdown",
      "metadata": {
        "id": "view-in-github",
        "colab_type": "text"
      },
      "source": [
        "<a href=\"https://colab.research.google.com/github/AleemKhan12/AleemKhan12/blob/calendar_data_algorithm/Attendance_Tracking_Calendar_Export.ipynb\" target=\"_parent\"><img src=\"https://colab.research.google.com/assets/colab-badge.svg\" alt=\"Open In Colab\"/></a>"
      ]
    },
    {
      "cell_type": "code",
      "execution_count": null,
      "metadata": {
        "id": "3bZwK5KysB9X",
        "colab": {
          "base_uri": "https://localhost:8080/",
          "height": 53
        },
        "outputId": "893f98b2-388b-428c-8758-022e542679a7"
      },
      "outputs": [
        {
          "output_type": "execute_result",
          "data": {
            "application/vnd.google.colaboratory.intrinsic+json": {
              "type": "string"
            },
            "text/plain": [
              "'\\nISSUES\\n1. Reading google sheet for Audit data returning wrong values\\n2. Test time conversion accuracy. Punctuality returning wrong values\\n3. Finalize naming convention for student/mentee\\n\\n'"
            ]
          },
          "metadata": {},
          "execution_count": 43
        }
      ],
      "source": [
        "#Attendance Tracking by using Calendar and Audit Log Data\n",
        "\n",
        "#Revision notes V0.11: download new audit log data, change time zone code, participant identifier to actor\n",
        "\n",
        "'''\n",
        "ISSUES\n",
        "1. Reading google sheet for Audit data returning wrong values\n",
        "2. Test time conversion accuracy. Punctuality returning wrong values\n",
        "3. Finalize naming convention for student/mentee\n",
        "\n",
        "'''\n"
      ]
    },
    {
      "cell_type": "markdown",
      "source": [
        "# CONNECTING TO GOOGLE DRIVE"
      ],
      "metadata": {
        "id": "-e30JtYkfes_"
      }
    },
    {
      "cell_type": "code",
      "source": [
        "#connect colab to drive\n",
        "\n",
        "from google.colab import drive\n",
        "from oauth2client.client import GoogleCredentials\n",
        "from google.colab import auth\n",
        "import gspread\n",
        "drive.mount('/content/gdrive')\n",
        "auth.authenticate_user()\n",
        "gc = gspread.authorize(GoogleCredentials.get_application_default())\n"
      ],
      "metadata": {
        "colab": {
          "base_uri": "https://localhost:8080/"
        },
        "id": "kSWZfJ6tsNA6",
        "outputId": "ca04b9d2-3b5a-4ab8-f5f7-823e9807d761"
      },
      "execution_count": 1,
      "outputs": [
        {
          "output_type": "stream",
          "name": "stdout",
          "text": [
            "Mounted at /content/gdrive\n"
          ]
        }
      ]
    },
    {
      "cell_type": "code",
      "source": [
        "#Imports\n",
        "import pandas as pd\n",
        "from datetime import date, timedelta\n",
        "import pytz\n",
        "from numpy.core.numeric import NaN\n",
        "import datetime\n",
        "import math\n",
        "\n"
      ],
      "metadata": {
        "id": "WhFJN5LatFdd"
      },
      "execution_count": 2,
      "outputs": []
    },
    {
      "cell_type": "code",
      "source": [
        "pytz.all_timezones"
      ],
      "metadata": {
        "id": "iAuOEF7ZZEZq"
      },
      "execution_count": null,
      "outputs": []
    },
    {
      "cell_type": "markdown",
      "source": [
        "#IMPORTANT GLOBAL VARIABLES"
      ],
      "metadata": {
        "id": "JxViOjjIYCAK"
      }
    },
    {
      "cell_type": "code",
      "source": [
        "mentor_email = 'mentor@villagebookbuilders.org' #Mentor program email address\n",
        "oracle_data       = 0                           #Data read from Oracle Database SQL Query\n",
        "google_data       = 0                           #Data read from Google Audit Log\n",
        "active_sessions   = 0                           #Active sessions recorded in Oracle db based on end date\n",
        "total_mentors     = 0                           #List of all mentors names in oracle db\n",
        "oracle_mentor_emails = []                       #list of all mentor emails in oracle db\n",
        "active_mentors    = 0                           #Mentor names that joined at least one session \n",
        "active_mentor_emails = []                       #List of mentor emails that joined at least one session\n",
        "mentor_programs   = []                          #Names of all mentor programs stored in oracle database\n",
        "mentors_not_registered = []                     #Names of all active mentors not logged in oracle database\n",
        "time_zone = 'America/Port_of_Spain'                         #google_data['Date'][1][len(google_data['Date'][1])-3:] #TODO: change this hard coded time zone\n",
        "start = 0                                       #start date\n",
        "end = 0                                         #end date\n",
        "mentor_identifier = 'Mentor'                    #Mentor identifier\n",
        "mentee_identifier = 'Student'                   #Mentee identifier\n",
        "cal_id_len = 26                                 #usable calendar event id string length\n",
        "google_resource_identifier = '@resource.calendar.google.com'\n",
        "fire_flies_email = 'fred@fireflies.ai'\n",
        "program_director_name = ['adeiso ghana', 'ahero kenya', 'biwi, malawi vbb mentor program', 'charity centre, zambia vbb mentor program', 'chebosi kenya', 'kadzakalowa malawi', 'maragoli kenya', 'mukono uganda', 'vima ghana'] #Actor names of program director accounts"
      ],
      "metadata": {
        "id": "l3A_o3ChYGG2"
      },
      "execution_count": 3,
      "outputs": []
    },
    {
      "cell_type": "markdown",
      "source": [
        "# READING DATA SOURCES"
      ],
      "metadata": {
        "id": "B1NVU9iPfnsp"
      }
    },
    {
      "cell_type": "code",
      "source": [
        "#Read Data Sources as pandas data frames\n",
        "\n",
        "#Calendar Data\n",
        "sheet_url = 'https://docs.google.com/spreadsheets/d/1KzR1ok2TEwRQbta534v-DvpSvtp-LlEofL8hORqBjWI/edit#gid=0'\n",
        "calendar_path = sheet_url.replace('/edit#gid=', '/export?format=csv&gid=')\n",
        "#calendar_path = '/content/gdrive/MyDrive/Projects/Mentor_Dashboard_V2/3. Execution/SRC Code/Data/Calendar Data Export/Calendar Export UTC - Sheet1.csv' \n",
        "calendar_data = pd.read_csv(calendar_path, on_bad_lines='skip')\n",
        "\n",
        "#Google Audit Log Data\n",
        "# sheet_url = 'https://docs.google.com/spreadsheets/d/1O81Lc9neAFY5KatvApTAJJwyUXKEldEJe8kdnSM0YEI/edit#gid=0'\n",
        "# google_path = sheet_url.replace('/edit#gid=', '/export?format=csv&gid=')\n",
        "google_path = '/content/gdrive/MyDrive/Projects/Mentor_Dashboard_V2/3. Execution/SRC Code/Data/Google Audit Log/3 6 2022 - 3 12 2022/3_6_2022 - 3_12_2022.csv'\n",
        "google_data = pd.read_csv(google_path, on_bad_lines='skip')\n",
        "\n",
        "\n",
        "#Mentee Computer Emails\n",
        "sheet_url = 'https://docs.google.com/spreadsheets/d/1JcJ99pX-pjMTCkFrLwjpaCJ_1FcJ2xZ7UqgBJHGFl9I/edit#gid=925063253'\n",
        "mentee_email_path = sheet_url.replace('/edit#gid=', '/export?format=csv&gid=')\n",
        "#mentee_email_path = '/content/gdrive/MyDrive/Projects/Mentor_Dashboard_V2/3. Execution/SRC Code/Data/mentee email/Copy of Village Library Information - computer email.csv'\n",
        "mentee_computer_emails = pd.read_csv(mentee_email_path, on_bad_lines='skip')\n",
        "\n",
        "#Corporate Parners\n",
        "sheet_url = 'https://docs.google.com/spreadsheets/d/1K9FtfVv-lzU0eQE4V27Qdb3zuj2t9d-WOxs2ZAA04kw/edit#gid=0'\n",
        "corporate_partners_path = sheet_url.replace('/edit#gid=', '/export?format=csv&gid=')\n",
        "#corporate_partners_path = '/content/gdrive/MyDrive/Projects/Mentor_Dashboard_V2/3. Execution/SRC Code/Data/Corporate Organizations/Corporate Partners.csv'\n",
        "corporate_partners = pd.read_csv(corporate_partners_path, on_bad_lines='skip')\n",
        "\n"
      ],
      "metadata": {
        "id": "ti3RqFW5uRou"
      },
      "execution_count": 7,
      "outputs": []
    },
    {
      "cell_type": "code",
      "source": [
        "print(calendar_data.shape, google_data.shape, mentee_computer_emails.shape, corporate_partners.shape)"
      ],
      "metadata": {
        "colab": {
          "base_uri": "https://localhost:8080/"
        },
        "id": "g1SxDj2NbH2Q",
        "outputId": "45991bed-5a2a-4b1d-83c0-c1743fd250f8"
      },
      "execution_count": 9,
      "outputs": [
        {
          "output_type": "stream",
          "name": "stdout",
          "text": [
            "(1477, 11) (480, 31) (132, 2) (3, 2)\n"
          ]
        }
      ]
    },
    {
      "cell_type": "markdown",
      "source": [
        "\n",
        "# CLEANING DATA"
      ],
      "metadata": {
        "id": "dx1dhULnfsJF"
      }
    },
    {
      "cell_type": "code",
      "source": [
        "\n",
        "#Calendar Data\n",
        "calendar_data = calendar_data.dropna() #remove all empty sessions\n",
        "calendar_data = calendar_data.drop_duplicates()\n",
        "calendar_data = calendar_data[(~calendar_data['Participant Identifier'].str.contains(google_resource_identifier)) & (calendar_data['Participant Identifier'] != fire_flies_email)]\n",
        "\n",
        "#Google Data\n",
        "google_data = google_data.dropna(subset=['Date', 'Meeting code', 'Actor', 'Organizer email', 'Duration (seconds)', 'Actor name', 'Calendar event ID']) #clean google data\n",
        "google_data = google_data.drop_duplicates()\n",
        "google_data = google_data[google_data['Duration (seconds)'] > 0] #drop all calls with 0 duration\n",
        "google_data = google_data[google_data['Organizer email'] == mentor_email] #only consider mentor sessions\n",
        "google_data = google_data[google_data['Actor name'] != 'Mentor Program'] #drop all entries for mentor program\n",
        "\n",
        "#Mentee Email data\n",
        "mentee_computer_emails = mentee_computer_emails.dropna()\n",
        "\n",
        "#Corporate Parner data\n",
        "corporate_partners = corporate_partners.dropna()"
      ],
      "metadata": {
        "id": "ZV2uWWJafEtR"
      },
      "execution_count": 12,
      "outputs": []
    },
    {
      "cell_type": "code",
      "source": [
        "print(calendar_data.shape, google_data.shape)"
      ],
      "metadata": {
        "colab": {
          "base_uri": "https://localhost:8080/"
        },
        "id": "hZ6eWiC9kK7a",
        "outputId": "6a6a97eb-36f4-4567-ce8f-7b5b504fb20e"
      },
      "execution_count": 15,
      "outputs": [
        {
          "output_type": "stream",
          "name": "stdout",
          "text": [
            "(1074, 11) (404, 31)\n"
          ]
        }
      ]
    },
    {
      "cell_type": "code",
      "source": [
        "#DATE CONVERSIONS\n",
        "#Only run this once. Running more times will cause an error. To fix re-read data sources\n",
        "def conv_to_datetime(a):\n",
        "  utc_timezone = pytz.timezone('UTC')\n",
        "  if isinstance(a, datetime.date):\n",
        "    return a\n",
        "  try:\n",
        "    #Convert calendar export dates\n",
        "    date = datetime.datetime.strptime(a, '%m/%d/%Y %H:%M:%S')\n",
        "    date = date.replace(tzinfo = pytz.timezone('UTC')) \n",
        "    return date\n",
        "  except:\n",
        "    try:\n",
        "      #Convert Audit log dates \n",
        "      date = datetime.datetime.strptime(a, '%Y-%m-%dT%H:%M:%SZ')\n",
        "      date = date.replace(tzinfo = pytz.timezone('UTC')) \n",
        "      return  date\n",
        "    except:\n",
        "      date = datetime.datetime.strptime('', '')\n",
        "      date = date.replace(tzinfo = utc_timezone)\n",
        "      return date\n",
        "\n"
      ],
      "metadata": {
        "id": "_dfBR_DQcLEG"
      },
      "execution_count": 16,
      "outputs": []
    },
    {
      "cell_type": "code",
      "source": [
        "google_data.head()"
      ],
      "metadata": {
        "id": "MH8sHx2dT7Yo"
      },
      "execution_count": null,
      "outputs": []
    },
    {
      "cell_type": "code",
      "source": [
        "#converting calendar dates to datetime objs\n",
        "calendar_data['Event Start UTC'] = calendar_data['Event Start UTC'].apply(conv_to_datetime)\n",
        "calendar_data['Event End UTC'] = calendar_data['Event End UTC'].apply(conv_to_datetime)\n",
        "\n"
      ],
      "metadata": {
        "id": "Z6ZxJul9orkg"
      },
      "execution_count": 19,
      "outputs": []
    },
    {
      "cell_type": "code",
      "source": [
        "#Getting usable substring from Calendar Event ID\n",
        "calendar_data['Calendar event ID'] = calendar_data['Calendar event ID'].apply(lambda x: x[:cal_id_len])"
      ],
      "metadata": {
        "id": "pI97hNrbseLt"
      },
      "execution_count": null,
      "outputs": []
    },
    {
      "cell_type": "code",
      "source": [
        "#Convert google dates to datetime UTC\n",
        "#google_data['Date'] = google_data['Date'].apply(lambda x: x[:-4]) #remove time zone\n",
        "google_data['Date'] = google_data['Date'].apply(conv_to_datetime)"
      ],
      "metadata": {
        "id": "uKItSRAvj47X"
      },
      "execution_count": 21,
      "outputs": []
    },
    {
      "cell_type": "code",
      "source": [
        "google_data.head()"
      ],
      "metadata": {
        "id": "sXsY9mK1jP84"
      },
      "execution_count": null,
      "outputs": []
    },
    {
      "cell_type": "code",
      "source": [
        "#Create new column with just dates\n",
        "google_data['String_Date'] = google_data['Date'].apply(lambda x: x.strftime(\"%m/%d/%Y\"))\n",
        "calendar_data['String_Date'] = calendar_data['Event Start UTC'].apply(lambda x: x.strftime(\"%m/%d/%Y\"))"
      ],
      "metadata": {
        "id": "CF2vCaz8j4Vl"
      },
      "execution_count": 23,
      "outputs": []
    },
    {
      "cell_type": "code",
      "source": [
        "#lower participant emails for accurate searches\n",
        "google_data['Actor'] = google_data['Actor'].apply(lambda x: x.lower())\n",
        "calendar_data['Participant Identifier'] = calendar_data['Participant Identifier'].apply(lambda x: x.lower())"
      ],
      "metadata": {
        "id": "z-QA2l-kcGGa"
      },
      "execution_count": 25,
      "outputs": []
    },
    {
      "cell_type": "code",
      "source": [
        "#Drop duplicate sessions caused by people signing in from various devices at the same time\n",
        "#google_data = google_data.drop_duplicates(subset = ['Participant Identifier', 'Calendar event ID', 'String_Date', 'IP address'])"
      ],
      "metadata": {
        "id": "-z3SBDLFQP5m"
      },
      "execution_count": null,
      "outputs": []
    },
    {
      "cell_type": "code",
      "source": [
        "#list of mentee computer emails\n",
        "mentee_computer_emails_list = mentee_computer_emails['COMPUTER_EMAIL'].tolist()"
      ],
      "metadata": {
        "id": "UzIap4V-RxoF"
      },
      "execution_count": 26,
      "outputs": []
    },
    {
      "cell_type": "markdown",
      "source": [
        "#DATE TIME TESTS"
      ],
      "metadata": {
        "id": "hX82uYWoX0qf"
      }
    },
    {
      "cell_type": "code",
      "source": [
        "google_data.head()"
      ],
      "metadata": {
        "colab": {
          "base_uri": "https://localhost:8080/",
          "height": 543
        },
        "id": "WoPscHa_ipwd",
        "outputId": "0afd547f-39f7-4a3e-fe3a-e89aa8d5a913"
      },
      "execution_count": null,
      "outputs": [
        {
          "output_type": "execute_result",
          "data": {
            "text/html": [
              "\n",
              "  <div id=\"df-7a0819c9-a05f-4c8e-bab1-529d0544d35f\">\n",
              "    <div class=\"colab-df-container\">\n",
              "      <div>\n",
              "<style scoped>\n",
              "    .dataframe tbody tr th:only-of-type {\n",
              "        vertical-align: middle;\n",
              "    }\n",
              "\n",
              "    .dataframe tbody tr th {\n",
              "        vertical-align: top;\n",
              "    }\n",
              "\n",
              "    .dataframe thead th {\n",
              "        text-align: right;\n",
              "    }\n",
              "</style>\n",
              "<table border=\"1\" class=\"dataframe\">\n",
              "  <thead>\n",
              "    <tr style=\"text-align: right;\">\n",
              "      <th></th>\n",
              "      <th>Date</th>\n",
              "      <th>Event</th>\n",
              "      <th>Event Description</th>\n",
              "      <th>Meeting code</th>\n",
              "      <th>Participant Identifier</th>\n",
              "      <th>Participant outside organization</th>\n",
              "      <th>Client type</th>\n",
              "      <th>Organizer email</th>\n",
              "      <th>Product type</th>\n",
              "      <th>Duration</th>\n",
              "      <th>...</th>\n",
              "      <th>Video Send Packet Loss Max</th>\n",
              "      <th>Video Send Packet Loss Mean</th>\n",
              "      <th>Video Send Duration</th>\n",
              "      <th>Video Send Short Side Median</th>\n",
              "      <th>Action reason</th>\n",
              "      <th>Action description</th>\n",
              "      <th>Target display names</th>\n",
              "      <th>Target</th>\n",
              "      <th>Target phone number</th>\n",
              "      <th>String_Date</th>\n",
              "    </tr>\n",
              "  </thead>\n",
              "  <tbody>\n",
              "    <tr>\n",
              "      <th>0</th>\n",
              "      <td>2022-03-05 18:26:28+00:00</td>\n",
              "      <td>Endpoint left</td>\n",
              "      <td>The endpoint left a video meeting</td>\n",
              "      <td>UPZYGGFBSJ</td>\n",
              "      <td>nila.muthusamy@villagementors.org</td>\n",
              "      <td>No</td>\n",
              "      <td>Web</td>\n",
              "      <td>mentor@villagebookbuilders.org</td>\n",
              "      <td>Google Meet</td>\n",
              "      <td>15493.0</td>\n",
              "      <td>...</td>\n",
              "      <td>0.0</td>\n",
              "      <td>0.0</td>\n",
              "      <td>10</td>\n",
              "      <td>180.0</td>\n",
              "      <td>NaN</td>\n",
              "      <td>NaN</td>\n",
              "      <td>NaN</td>\n",
              "      <td>NaN</td>\n",
              "      <td>NaN</td>\n",
              "      <td>03/05/2022</td>\n",
              "    </tr>\n",
              "    <tr>\n",
              "      <th>6</th>\n",
              "      <td>2022-03-05 16:27:16+00:00</td>\n",
              "      <td>Endpoint left</td>\n",
              "      <td>The endpoint left a video meeting</td>\n",
              "      <td>VXRUJYWHEB</td>\n",
              "      <td>mpmukono@villagementors.org</td>\n",
              "      <td>No</td>\n",
              "      <td>Web</td>\n",
              "      <td>mentor@villagebookbuilders.org</td>\n",
              "      <td>Google Meet</td>\n",
              "      <td>4702.0</td>\n",
              "      <td>...</td>\n",
              "      <td>2.0</td>\n",
              "      <td>0.0</td>\n",
              "      <td>4707</td>\n",
              "      <td>180.0</td>\n",
              "      <td>NaN</td>\n",
              "      <td>NaN</td>\n",
              "      <td>NaN</td>\n",
              "      <td>NaN</td>\n",
              "      <td>NaN</td>\n",
              "      <td>03/05/2022</td>\n",
              "    </tr>\n",
              "    <tr>\n",
              "      <th>7</th>\n",
              "      <td>2022-03-05 16:27:10+00:00</td>\n",
              "      <td>Endpoint left</td>\n",
              "      <td>The endpoint left a video meeting</td>\n",
              "      <td>VXRUJYWHEB</td>\n",
              "      <td>kiran.sharma@villagementors.org</td>\n",
              "      <td>No</td>\n",
              "      <td>Web</td>\n",
              "      <td>mentor@villagebookbuilders.org</td>\n",
              "      <td>Google Meet</td>\n",
              "      <td>4704.0</td>\n",
              "      <td>...</td>\n",
              "      <td>2.0</td>\n",
              "      <td>0.0</td>\n",
              "      <td>2037</td>\n",
              "      <td>360.0</td>\n",
              "      <td>NaN</td>\n",
              "      <td>NaN</td>\n",
              "      <td>NaN</td>\n",
              "      <td>NaN</td>\n",
              "      <td>NaN</td>\n",
              "      <td>03/05/2022</td>\n",
              "    </tr>\n",
              "    <tr>\n",
              "      <th>11</th>\n",
              "      <td>2022-03-05 16:02:32+00:00</td>\n",
              "      <td>Endpoint left</td>\n",
              "      <td>The endpoint left a video meeting</td>\n",
              "      <td>BJMYWJTVVA</td>\n",
              "      <td>mpcharitycentre@villagebookbuilders.org</td>\n",
              "      <td>No</td>\n",
              "      <td>Android</td>\n",
              "      <td>mentor@villagebookbuilders.org</td>\n",
              "      <td>Google Meet</td>\n",
              "      <td>5274.0</td>\n",
              "      <td>...</td>\n",
              "      <td>1.0</td>\n",
              "      <td>0.0</td>\n",
              "      <td>2824</td>\n",
              "      <td>180.0</td>\n",
              "      <td>NaN</td>\n",
              "      <td>NaN</td>\n",
              "      <td>NaN</td>\n",
              "      <td>NaN</td>\n",
              "      <td>NaN</td>\n",
              "      <td>03/05/2022</td>\n",
              "    </tr>\n",
              "    <tr>\n",
              "      <th>12</th>\n",
              "      <td>2022-03-05 15:54:29+00:00</td>\n",
              "      <td>Endpoint left</td>\n",
              "      <td>The endpoint left a video meeting</td>\n",
              "      <td>QIUZBJEQVJ</td>\n",
              "      <td>xyz082719@gmail.com</td>\n",
              "      <td>Yes</td>\n",
              "      <td>Web</td>\n",
              "      <td>mentor@villagebookbuilders.org</td>\n",
              "      <td>Google Meet</td>\n",
              "      <td>2365.0</td>\n",
              "      <td>...</td>\n",
              "      <td>NaN</td>\n",
              "      <td>NaN</td>\n",
              "      <td>2369</td>\n",
              "      <td>360.0</td>\n",
              "      <td>NaN</td>\n",
              "      <td>NaN</td>\n",
              "      <td>NaN</td>\n",
              "      <td>NaN</td>\n",
              "      <td>NaN</td>\n",
              "      <td>03/05/2022</td>\n",
              "    </tr>\n",
              "  </tbody>\n",
              "</table>\n",
              "<p>5 rows × 65 columns</p>\n",
              "</div>\n",
              "      <button class=\"colab-df-convert\" onclick=\"convertToInteractive('df-7a0819c9-a05f-4c8e-bab1-529d0544d35f')\"\n",
              "              title=\"Convert this dataframe to an interactive table.\"\n",
              "              style=\"display:none;\">\n",
              "        \n",
              "  <svg xmlns=\"http://www.w3.org/2000/svg\" height=\"24px\"viewBox=\"0 0 24 24\"\n",
              "       width=\"24px\">\n",
              "    <path d=\"M0 0h24v24H0V0z\" fill=\"none\"/>\n",
              "    <path d=\"M18.56 5.44l.94 2.06.94-2.06 2.06-.94-2.06-.94-.94-2.06-.94 2.06-2.06.94zm-11 1L8.5 8.5l.94-2.06 2.06-.94-2.06-.94L8.5 2.5l-.94 2.06-2.06.94zm10 10l.94 2.06.94-2.06 2.06-.94-2.06-.94-.94-2.06-.94 2.06-2.06.94z\"/><path d=\"M17.41 7.96l-1.37-1.37c-.4-.4-.92-.59-1.43-.59-.52 0-1.04.2-1.43.59L10.3 9.45l-7.72 7.72c-.78.78-.78 2.05 0 2.83L4 21.41c.39.39.9.59 1.41.59.51 0 1.02-.2 1.41-.59l7.78-7.78 2.81-2.81c.8-.78.8-2.07 0-2.86zM5.41 20L4 18.59l7.72-7.72 1.47 1.35L5.41 20z\"/>\n",
              "  </svg>\n",
              "      </button>\n",
              "      \n",
              "  <style>\n",
              "    .colab-df-container {\n",
              "      display:flex;\n",
              "      flex-wrap:wrap;\n",
              "      gap: 12px;\n",
              "    }\n",
              "\n",
              "    .colab-df-convert {\n",
              "      background-color: #E8F0FE;\n",
              "      border: none;\n",
              "      border-radius: 50%;\n",
              "      cursor: pointer;\n",
              "      display: none;\n",
              "      fill: #1967D2;\n",
              "      height: 32px;\n",
              "      padding: 0 0 0 0;\n",
              "      width: 32px;\n",
              "    }\n",
              "\n",
              "    .colab-df-convert:hover {\n",
              "      background-color: #E2EBFA;\n",
              "      box-shadow: 0px 1px 2px rgba(60, 64, 67, 0.3), 0px 1px 3px 1px rgba(60, 64, 67, 0.15);\n",
              "      fill: #174EA6;\n",
              "    }\n",
              "\n",
              "    [theme=dark] .colab-df-convert {\n",
              "      background-color: #3B4455;\n",
              "      fill: #D2E3FC;\n",
              "    }\n",
              "\n",
              "    [theme=dark] .colab-df-convert:hover {\n",
              "      background-color: #434B5C;\n",
              "      box-shadow: 0px 1px 3px 1px rgba(0, 0, 0, 0.15);\n",
              "      filter: drop-shadow(0px 1px 2px rgba(0, 0, 0, 0.3));\n",
              "      fill: #FFFFFF;\n",
              "    }\n",
              "  </style>\n",
              "\n",
              "      <script>\n",
              "        const buttonEl =\n",
              "          document.querySelector('#df-7a0819c9-a05f-4c8e-bab1-529d0544d35f button.colab-df-convert');\n",
              "        buttonEl.style.display =\n",
              "          google.colab.kernel.accessAllowed ? 'block' : 'none';\n",
              "\n",
              "        async function convertToInteractive(key) {\n",
              "          const element = document.querySelector('#df-7a0819c9-a05f-4c8e-bab1-529d0544d35f');\n",
              "          const dataTable =\n",
              "            await google.colab.kernel.invokeFunction('convertToInteractive',\n",
              "                                                     [key], {});\n",
              "          if (!dataTable) return;\n",
              "\n",
              "          const docLinkHtml = 'Like what you see? Visit the ' +\n",
              "            '<a target=\"_blank\" href=https://colab.research.google.com/notebooks/data_table.ipynb>data table notebook</a>'\n",
              "            + ' to learn more about interactive tables.';\n",
              "          element.innerHTML = '';\n",
              "          dataTable['output_type'] = 'display_data';\n",
              "          await google.colab.output.renderOutput(dataTable, element);\n",
              "          const docLink = document.createElement('div');\n",
              "          docLink.innerHTML = docLinkHtml;\n",
              "          element.appendChild(docLink);\n",
              "        }\n",
              "      </script>\n",
              "    </div>\n",
              "  </div>\n",
              "  "
            ],
            "text/plain": [
              "                        Date          Event  \\\n",
              "0  2022-03-05 18:26:28+00:00  Endpoint left   \n",
              "6  2022-03-05 16:27:16+00:00  Endpoint left   \n",
              "7  2022-03-05 16:27:10+00:00  Endpoint left   \n",
              "11 2022-03-05 16:02:32+00:00  Endpoint left   \n",
              "12 2022-03-05 15:54:29+00:00  Endpoint left   \n",
              "\n",
              "                    Event Description Meeting code  \\\n",
              "0   The endpoint left a video meeting   UPZYGGFBSJ   \n",
              "6   The endpoint left a video meeting   VXRUJYWHEB   \n",
              "7   The endpoint left a video meeting   VXRUJYWHEB   \n",
              "11  The endpoint left a video meeting   BJMYWJTVVA   \n",
              "12  The endpoint left a video meeting   QIUZBJEQVJ   \n",
              "\n",
              "                     Participant Identifier Participant outside organization  \\\n",
              "0         nila.muthusamy@villagementors.org                               No   \n",
              "6               mpmukono@villagementors.org                               No   \n",
              "7           kiran.sharma@villagementors.org                               No   \n",
              "11  mpcharitycentre@villagebookbuilders.org                               No   \n",
              "12                      xyz082719@gmail.com                              Yes   \n",
              "\n",
              "   Client type                 Organizer email Product type  Duration  ...  \\\n",
              "0          Web  mentor@villagebookbuilders.org  Google Meet   15493.0  ...   \n",
              "6          Web  mentor@villagebookbuilders.org  Google Meet    4702.0  ...   \n",
              "7          Web  mentor@villagebookbuilders.org  Google Meet    4704.0  ...   \n",
              "11     Android  mentor@villagebookbuilders.org  Google Meet    5274.0  ...   \n",
              "12         Web  mentor@villagebookbuilders.org  Google Meet    2365.0  ...   \n",
              "\n",
              "    Video Send Packet Loss Max Video Send Packet Loss Mean  \\\n",
              "0                          0.0                         0.0   \n",
              "6                          2.0                         0.0   \n",
              "7                          2.0                         0.0   \n",
              "11                         1.0                         0.0   \n",
              "12                         NaN                         NaN   \n",
              "\n",
              "   Video Send Duration Video Send Short Side Median Action reason  \\\n",
              "0                   10                        180.0           NaN   \n",
              "6                 4707                        180.0           NaN   \n",
              "7                 2037                        360.0           NaN   \n",
              "11                2824                        180.0           NaN   \n",
              "12                2369                        360.0           NaN   \n",
              "\n",
              "    Action description Target display names  Target  Target phone number  \\\n",
              "0                  NaN                  NaN     NaN                  NaN   \n",
              "6                  NaN                  NaN     NaN                  NaN   \n",
              "7                  NaN                  NaN     NaN                  NaN   \n",
              "11                 NaN                  NaN     NaN                  NaN   \n",
              "12                 NaN                  NaN     NaN                  NaN   \n",
              "\n",
              "    String_Date  \n",
              "0    03/05/2022  \n",
              "6    03/05/2022  \n",
              "7    03/05/2022  \n",
              "11   03/05/2022  \n",
              "12   03/05/2022  \n",
              "\n",
              "[5 rows x 65 columns]"
            ]
          },
          "metadata": {},
          "execution_count": 62
        }
      ]
    },
    {
      "cell_type": "code",
      "source": [
        "#Today's date\n",
        "today_date = datetime.datetime.today().replace(tzinfo = pytz.timezone(time_zone))\n",
        "\n",
        "#Start and end dates for schema 1\n",
        "dates_list = sorted(google_data['Date'].tolist())\n",
        "start1, end1 = dates_list[0], dates_list[-1] \n",
        "\n",
        "#Start and end dates for schema 2\n",
        "end, start = datetime.datetime(2022, 2, 27).astimezone(pytz.timezone(\"utc\")), datetime.datetime(2022, 3, 5).astimezone(pytz.timezone(\"utc\"))\n",
        "\n"
      ],
      "metadata": {
        "id": "Y55mCcMGrw_B"
      },
      "execution_count": null,
      "outputs": []
    },
    {
      "cell_type": "code",
      "source": [
        "print(start1, end1)\n",
        "print(start, end)"
      ],
      "metadata": {
        "colab": {
          "base_uri": "https://localhost:8080/"
        },
        "id": "_TF_7t6dkN-_",
        "outputId": "1f381c7f-902f-414c-8a76-2eac65f6c4d0"
      },
      "execution_count": null,
      "outputs": [
        {
          "output_type": "stream",
          "name": "stdout",
          "text": [
            "2021-09-07 11:05:25+00:00 2022-03-05 18:26:28+00:00\n",
            "2022-03-05 00:00:00+00:00 2022-02-27 00:00:00+00:00\n"
          ]
        }
      ]
    },
    {
      "cell_type": "markdown",
      "source": [
        "#ATTENDANCE AND DURATION TRACKING "
      ],
      "metadata": {
        "id": "NS6R-QbVbruy"
      }
    },
    {
      "cell_type": "code",
      "source": [
        "calendar_data['Attendance'] = [0]*len(calendar_data)\n",
        "calendar_data['Duration'] = [0]*len(calendar_data)\n",
        "calendar_data['User Type'] = [0]*len(calendar_data)\n",
        "calendar_data['Organization'] = [0]*len(calendar_data)\n",
        "#calendar_data['Punctuality'] = [NaN]*len(calendar_data)"
      ],
      "metadata": {
        "id": "ZWXDXlaw3DXu"
      },
      "execution_count": 27,
      "outputs": []
    },
    {
      "cell_type": "code",
      "source": [
        "from os import putenv\n",
        "for index, meeting in calendar_data.iterrows():\n",
        "  attendance = 0\n",
        "  duration = 0\n",
        "  meeting_data = google_data[(google_data['Actor'] == meeting['Participant Identifier']) & (google_data['Calendar event ID'].str.contains(meeting['Calendar event ID'])) & (google_data['String_Date'] == meeting['String_Date'])]\n",
        "\n",
        "  if (len(meeting_data) > 0):\n",
        "    attendance = 1\n",
        "    duration = sum(meeting_data['Duration (seconds)'].tolist())/60 #duration in minutes\n",
        "\n",
        "  calendar_data['Attendance'][index] = attendance\n",
        "  calendar_data['Duration'][index] = duration\n",
        "  calendar_data['User Type'][index] = mentee_identifier if meeting['Participant Identifier'] in mentee_computer_emails_list else mentor_identifier\n",
        " \n",
        "\n",
        "  #Assigning corporate partners\n",
        "  partner_name = 'Public/Chapter'\n",
        "  for i, partner in corporate_partners.iterrows():\n",
        "    if partner['Email Identifier'] in meeting['Participant Identifier']:\n",
        "      partner_name = partner['Organization']\n",
        "      break;\n",
        "\n",
        "  calendar_data['Organization'][index] = partner_name\n",
        "\n"
      ],
      "metadata": {
        "id": "PjVBygrn1xWu"
      },
      "execution_count": null,
      "outputs": []
    },
    {
      "cell_type": "code",
      "source": [
        "calendar_data['Missed_2'] = [0]*len(calendar_data)\n",
        "calendar_data['Missed_3'] = [0]*len(calendar_data)"
      ],
      "metadata": {
        "id": "PJAABO6hurip"
      },
      "execution_count": 32,
      "outputs": []
    },
    {
      "cell_type": "code",
      "source": [
        "#TODO: Write to complete list of attendance data here"
      ],
      "metadata": {
        "id": "jMsbY67Qgw-N"
      },
      "execution_count": null,
      "outputs": []
    },
    {
      "cell_type": "markdown",
      "source": [
        "#FINDING MENTOR THAT MISSED LAST 2 OR 3 SESSIONS"
      ],
      "metadata": {
        "id": "1396xbwSukJb"
      }
    },
    {
      "cell_type": "code",
      "source": [
        "#Identify mentors that have missed 2 or 3 of their last sessions. "
      ],
      "metadata": {
        "id": "_PSURBCF6eTg"
      },
      "execution_count": null,
      "outputs": []
    },
    {
      "cell_type": "code",
      "source": [
        "for index, meeting in calendar_data.iterrows():\n",
        "\n",
        "  #Get previous meetings regarless of id\n",
        "  #TODO: Read from complete list of attendance data here, also find how to return max 3 entires \n",
        "  previous_meetings = calendar_data[(calendar_data['Event Start UTC'] <= meeting['Event Start UTC']) & (calendar_data['Participant Identifier'] == meeting['Participant Identifier'])] # & (calendar_data['Calendar event ID'] == meeting['Calendar event ID'])]\n",
        "\n",
        "  if (len(previous_meetings)>=3):\n",
        "    last_3 = 0 if sum(previous_meetings['Attendance'].tolist()[-3:]) else 1\n",
        "    last_2 = 0 if sum(previous_meetings['Attendance'].tolist()[-2:]) else 1\n",
        "  elif (len(previous_meetings) == 2):\n",
        "    last_3 = 0\n",
        "    last_2 = 0 if sum(previous_meetings['Attendance'].tolist()) else 1\n",
        "  else:\n",
        "    last_3 = 0\n",
        "    last_2 = 0\n",
        "  \n",
        "  #updating data frame \n",
        "  calendar_data['Missed_2'][index] = last_2\n",
        "  calendar_data['Missed_3'][index] = last_3"
      ],
      "metadata": {
        "id": "JiJZ6I0CwuKL"
      },
      "execution_count": null,
      "outputs": []
    },
    {
      "cell_type": "code",
      "source": [
        "calendar_data.shape"
      ],
      "metadata": {
        "colab": {
          "base_uri": "https://localhost:8080/"
        },
        "id": "dD3XOTIsBN8s",
        "outputId": "66bca832-1bbf-4ec9-ed26-820c8e28697f"
      },
      "execution_count": 34,
      "outputs": [
        {
          "output_type": "execute_result",
          "data": {
            "text/plain": [
              "(1074, 18)"
            ]
          },
          "metadata": {},
          "execution_count": 34
        }
      ]
    },
    {
      "cell_type": "code",
      "source": [
        "#TODO: merge actor names to calendar_data based on participant identifier\n",
        "# actor_names = google_data[['Participant Identifier', 'Actor name']].drop_duplicates(subset = ['Participant Identifier'])\n",
        "# print(actor_names.shape)\n",
        "# actor_names = calendar_data[['Participant Identifier']].drop_duplicates(subset = ['Participant Identifier'])\n",
        "# print(actor_names.shape)\n",
        "\n",
        "# #Merge actor names\n",
        "# result = calendar_data#pd.merge(calendar_data, actor_names, on='Participant Identifier')"
      ],
      "metadata": {
        "id": "VuIigK5VLXrg"
      },
      "execution_count": null,
      "outputs": []
    },
    {
      "cell_type": "markdown",
      "source": [
        "# STORING ATTENDANCE DATA"
      ],
      "metadata": {
        "id": "szbJwZlCR-aS"
      }
    },
    {
      "cell_type": "code",
      "source": [
        "#Create data frame and store\n",
        "#TODO: write to complete list of all attendance data; over write any redundant data\n",
        "file_name = 'attendance_data_calendar_data.csv'\n",
        "calendar_data.to_csv(file_name, index = False)"
      ],
      "metadata": {
        "id": "81jJRckUR9MQ"
      },
      "execution_count": 35,
      "outputs": []
    },
    {
      "cell_type": "markdown",
      "source": [
        "#FINDING PRODUCTIVE MEETINGS"
      ],
      "metadata": {
        "id": "HlPj2mEn7L4w"
      }
    },
    {
      "cell_type": "code",
      "source": [
        "#XOR function\n",
        "def xor(a, b):\n",
        "  if((a and b) or (not a and not b)):\n",
        "    return False\n",
        "  else:\n",
        "    return True"
      ],
      "metadata": {
        "id": "Z95pzUxGGPMY"
      },
      "execution_count": 36,
      "outputs": []
    },
    {
      "cell_type": "code",
      "source": [
        "#Convert list to string \n",
        "def listToString(s): \n",
        "    \n",
        "    # initialize an empty string\n",
        "    str1 = \"\" \n",
        "    \n",
        "    # traverse in the string  \n",
        "    for ele in s: \n",
        "        str1 += ele + \", \"  \n",
        "    \n",
        "    # return string  \n",
        "    return str1"
      ],
      "metadata": {
        "id": "5XiA2lDKVdTW"
      },
      "execution_count": 37,
      "outputs": []
    },
    {
      "cell_type": "code",
      "source": [
        "#A productive meeting will be a meeting in which at least one mentor and one mentee attended"
      ],
      "metadata": {
        "id": "RYQXO2iEb2f3"
      },
      "execution_count": null,
      "outputs": []
    },
    {
      "cell_type": "code",
      "source": [
        "#Get all meetings per day \n",
        "productive_meetings  = calendar_data[['String_Date', 'Calendar event ID', 'Program Name']].drop_duplicates(subset=['String_Date', 'Calendar event ID'])\n",
        "productive_meetings['Productive'] = [0]*len(productive_meetings)\n",
        "productive_meetings['Alone'] = [0]*len(productive_meetings)\n",
        "productive_meetings['Absent Type'] = [NaN]*len(productive_meetings)\n",
        "productive_meetings['Absent Identifier'] = [NaN]*len(productive_meetings)"
      ],
      "metadata": {
        "id": "kBK_1M3fFzDU"
      },
      "execution_count": 38,
      "outputs": []
    },
    {
      "cell_type": "code",
      "source": [
        "#For each meeting in each day see if the meeting was productive\n",
        "\n",
        "for index, meeting in productive_meetings.iterrows():\n",
        "  \n",
        "  mentor_attendance = sum(calendar_data[(calendar_data['String_Date'] == meeting['String_Date']) & (calendar_data['Calendar event ID'].str.contains(meeting['Calendar event ID'])) & (calendar_data['User Type'] == mentor_identifier)]['Attendance'].tolist())\n",
        "  mentee_attendance = sum(calendar_data[(calendar_data['String_Date'] == meeting['String_Date']) & (calendar_data['Calendar event ID'].str.contains(meeting['Calendar event ID'])) & (calendar_data['User Type'] == mentee_identifier)]['Attendance'].tolist())\n",
        "\n",
        "  #if session was productive\n",
        "  if(mentor_attendance and mentee_attendance):\n",
        "    productive_meetings['Productive'][index] = 1\n",
        "    productive_meetings['Absent Type'][index] = NaN\n",
        "\n",
        "  #If only one particpant showed\n",
        "  elif(xor(mentor_attendance, mentee_attendance)):\n",
        "    #if only one participant joined, record as Alone Session\n",
        "    productive_meetings['Alone'][index] = 1      \n",
        "\n",
        "    #get absentee type\n",
        "    if mentee_attendance:\n",
        "      productive_meetings['Absent Type'][index] = mentor_identifier\n",
        "      productive_meetings['Absent Identifier'][index] = listToString(calendar_data[(calendar_data['String_Date'] == meeting['String_Date']) & (calendar_data['Calendar event ID'].str.contains(meeting['Calendar event ID'])) & (calendar_data['User Type'] == mentor_identifier)]['Participant Identifier'].tolist())\n",
        "    else:\n",
        "      if mentor_attendance:\n",
        "        productive_meetings['Absent Type'][index] = mentee_identifier\n",
        "        productive_meetings['Absent Identifier'][index] = listToString(calendar_data[(calendar_data['String_Date'] == meeting['String_Date']) & (calendar_data['Calendar event ID'].str.contains(meeting['Calendar event ID'])) & (calendar_data['User Type'] == mentee_identifier)]['Participant Identifier'].tolist())\n",
        "\n",
        "  #if no one showed\n",
        "  if(not productive_meetings['Productive'][index] and not productive_meetings['Alone'][index]):\n",
        "    productive_meetings['Absent Type'][index] = NaN\n",
        "\n",
        "      \n",
        "      #productive_meetings['Absent Type'][index] = (mentor_identifier if mentee_attendance else (mentee_identifier if mentor_attendance else NaN))\n",
        "    "
      ],
      "metadata": {
        "id": "iMjBoEw_dNQL"
      },
      "execution_count": null,
      "outputs": []
    },
    {
      "cell_type": "markdown",
      "source": [
        "# STORING PRODUCTIVE MEETINGS"
      ],
      "metadata": {
        "id": "egp3ozWJiCqB"
      }
    },
    {
      "cell_type": "code",
      "source": [
        "#Create data frame and store\n",
        "#TODO: write to complete list of all attendance data; over write any redundant data\n",
        "file_name = 'productive_meetings.csv'\n",
        "productive_meetings.to_csv(file_name, index = False)"
      ],
      "metadata": {
        "id": "mDl-g0QyiGJx"
      },
      "execution_count": 40,
      "outputs": []
    }
  ]
}