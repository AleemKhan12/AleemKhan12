{
  "nbformat": 4,
  "nbformat_minor": 0,
  "metadata": {
    "colab": {
      "name": "Attendance Tracking Calendar Export",
      "provenance": [],
      "collapsed_sections": [],
      "toc_visible": true,
      "include_colab_link": true
    },
    "kernelspec": {
      "name": "python3",
      "display_name": "Python 3"
    },
    "language_info": {
      "name": "python"
    }
  },
  "cells": [
    {
      "cell_type": "markdown",
      "metadata": {
        "id": "view-in-github",
        "colab_type": "text"
      },
      "source": [
        "<a href=\"https://colab.research.google.com/github/AleemKhan12/AleemKhan12/blob/calendar_data_algorithm/Attendance_Tracking_Calendar_Export.ipynb\" target=\"_parent\"><img src=\"https://colab.research.google.com/assets/colab-badge.svg\" alt=\"Open In Colab\"/></a>"
      ]
    },
    {
      "cell_type": "code",
      "execution_count": 571,
      "metadata": {
        "id": "3bZwK5KysB9X",
        "colab": {
          "base_uri": "https://localhost:8080/",
          "height": 35
        },
        "outputId": "fc43683c-b7d2-47aa-b3a2-8bfcf90031de"
      },
      "outputs": [
        {
          "output_type": "execute_result",
          "data": {
            "application/vnd.google.colaboratory.intrinsic+json": {
              "type": "string"
            },
            "text/plain": [
              "'\\nISSUES\\n1.\\n\\n'"
            ]
          },
          "metadata": {},
          "execution_count": 571
        }
      ],
      "source": [
        "#Attendance Tracking by using Calendar and Audit Log Data\n",
        "\n",
        "#Revision notes V0.8: Created new schema (Schema 2) for easier visualization \n",
        "\n",
        "'''\n",
        "ISSUES\n",
        "1.\n",
        "\n",
        "'''\n"
      ]
    },
    {
      "cell_type": "markdown",
      "source": [
        "# CONNECTING TO GOOGLE DRIVE"
      ],
      "metadata": {
        "id": "-e30JtYkfes_"
      }
    },
    {
      "cell_type": "code",
      "source": [
        "#connect colab to drive\n",
        "\n",
        "from google.colab import drive\n",
        "from oauth2client.client import GoogleCredentials\n",
        "from google.colab import auth\n",
        "import gspread\n",
        "drive.mount('/content/gdrive')\n",
        "auth.authenticate_user()\n",
        "gc = gspread.authorize(GoogleCredentials.get_application_default())\n"
      ],
      "metadata": {
        "colab": {
          "base_uri": "https://localhost:8080/"
        },
        "id": "kSWZfJ6tsNA6",
        "outputId": "f3526b99-9859-44cb-9362-2af5bf863891"
      },
      "execution_count": 572,
      "outputs": [
        {
          "output_type": "stream",
          "name": "stdout",
          "text": [
            "Drive already mounted at /content/gdrive; to attempt to forcibly remount, call drive.mount(\"/content/gdrive\", force_remount=True).\n"
          ]
        }
      ]
    },
    {
      "cell_type": "code",
      "source": [
        "#Imports\n",
        "import pandas as pd\n",
        "from datetime import date, timedelta\n",
        "import pytz\n",
        "from numpy.core.numeric import NaN\n",
        "import datetime\n",
        "import math\n",
        "\n"
      ],
      "metadata": {
        "id": "WhFJN5LatFdd"
      },
      "execution_count": 573,
      "outputs": []
    },
    {
      "cell_type": "code",
      "source": [
        "pytz.all_timezones"
      ],
      "metadata": {
        "colab": {
          "base_uri": "https://localhost:8080/"
        },
        "id": "iAuOEF7ZZEZq",
        "outputId": "52d25f8b-9386-4abe-f40f-9945e50a5b1e"
      },
      "execution_count": 574,
      "outputs": [
        {
          "output_type": "execute_result",
          "data": {
            "text/plain": [
              "['Africa/Abidjan',\n",
              " 'Africa/Accra',\n",
              " 'Africa/Addis_Ababa',\n",
              " 'Africa/Algiers',\n",
              " 'Africa/Asmara',\n",
              " 'Africa/Asmera',\n",
              " 'Africa/Bamako',\n",
              " 'Africa/Bangui',\n",
              " 'Africa/Banjul',\n",
              " 'Africa/Bissau',\n",
              " 'Africa/Blantyre',\n",
              " 'Africa/Brazzaville',\n",
              " 'Africa/Bujumbura',\n",
              " 'Africa/Cairo',\n",
              " 'Africa/Casablanca',\n",
              " 'Africa/Ceuta',\n",
              " 'Africa/Conakry',\n",
              " 'Africa/Dakar',\n",
              " 'Africa/Dar_es_Salaam',\n",
              " 'Africa/Djibouti',\n",
              " 'Africa/Douala',\n",
              " 'Africa/El_Aaiun',\n",
              " 'Africa/Freetown',\n",
              " 'Africa/Gaborone',\n",
              " 'Africa/Harare',\n",
              " 'Africa/Johannesburg',\n",
              " 'Africa/Juba',\n",
              " 'Africa/Kampala',\n",
              " 'Africa/Khartoum',\n",
              " 'Africa/Kigali',\n",
              " 'Africa/Kinshasa',\n",
              " 'Africa/Lagos',\n",
              " 'Africa/Libreville',\n",
              " 'Africa/Lome',\n",
              " 'Africa/Luanda',\n",
              " 'Africa/Lubumbashi',\n",
              " 'Africa/Lusaka',\n",
              " 'Africa/Malabo',\n",
              " 'Africa/Maputo',\n",
              " 'Africa/Maseru',\n",
              " 'Africa/Mbabane',\n",
              " 'Africa/Mogadishu',\n",
              " 'Africa/Monrovia',\n",
              " 'Africa/Nairobi',\n",
              " 'Africa/Ndjamena',\n",
              " 'Africa/Niamey',\n",
              " 'Africa/Nouakchott',\n",
              " 'Africa/Ouagadougou',\n",
              " 'Africa/Porto-Novo',\n",
              " 'Africa/Sao_Tome',\n",
              " 'Africa/Timbuktu',\n",
              " 'Africa/Tripoli',\n",
              " 'Africa/Tunis',\n",
              " 'Africa/Windhoek',\n",
              " 'America/Adak',\n",
              " 'America/Anchorage',\n",
              " 'America/Anguilla',\n",
              " 'America/Antigua',\n",
              " 'America/Araguaina',\n",
              " 'America/Argentina/Buenos_Aires',\n",
              " 'America/Argentina/Catamarca',\n",
              " 'America/Argentina/ComodRivadavia',\n",
              " 'America/Argentina/Cordoba',\n",
              " 'America/Argentina/Jujuy',\n",
              " 'America/Argentina/La_Rioja',\n",
              " 'America/Argentina/Mendoza',\n",
              " 'America/Argentina/Rio_Gallegos',\n",
              " 'America/Argentina/Salta',\n",
              " 'America/Argentina/San_Juan',\n",
              " 'America/Argentina/San_Luis',\n",
              " 'America/Argentina/Tucuman',\n",
              " 'America/Argentina/Ushuaia',\n",
              " 'America/Aruba',\n",
              " 'America/Asuncion',\n",
              " 'America/Atikokan',\n",
              " 'America/Atka',\n",
              " 'America/Bahia',\n",
              " 'America/Bahia_Banderas',\n",
              " 'America/Barbados',\n",
              " 'America/Belem',\n",
              " 'America/Belize',\n",
              " 'America/Blanc-Sablon',\n",
              " 'America/Boa_Vista',\n",
              " 'America/Bogota',\n",
              " 'America/Boise',\n",
              " 'America/Buenos_Aires',\n",
              " 'America/Cambridge_Bay',\n",
              " 'America/Campo_Grande',\n",
              " 'America/Cancun',\n",
              " 'America/Caracas',\n",
              " 'America/Catamarca',\n",
              " 'America/Cayenne',\n",
              " 'America/Cayman',\n",
              " 'America/Chicago',\n",
              " 'America/Chihuahua',\n",
              " 'America/Coral_Harbour',\n",
              " 'America/Cordoba',\n",
              " 'America/Costa_Rica',\n",
              " 'America/Creston',\n",
              " 'America/Cuiaba',\n",
              " 'America/Curacao',\n",
              " 'America/Danmarkshavn',\n",
              " 'America/Dawson',\n",
              " 'America/Dawson_Creek',\n",
              " 'America/Denver',\n",
              " 'America/Detroit',\n",
              " 'America/Dominica',\n",
              " 'America/Edmonton',\n",
              " 'America/Eirunepe',\n",
              " 'America/El_Salvador',\n",
              " 'America/Ensenada',\n",
              " 'America/Fort_Nelson',\n",
              " 'America/Fort_Wayne',\n",
              " 'America/Fortaleza',\n",
              " 'America/Glace_Bay',\n",
              " 'America/Godthab',\n",
              " 'America/Goose_Bay',\n",
              " 'America/Grand_Turk',\n",
              " 'America/Grenada',\n",
              " 'America/Guadeloupe',\n",
              " 'America/Guatemala',\n",
              " 'America/Guayaquil',\n",
              " 'America/Guyana',\n",
              " 'America/Halifax',\n",
              " 'America/Havana',\n",
              " 'America/Hermosillo',\n",
              " 'America/Indiana/Indianapolis',\n",
              " 'America/Indiana/Knox',\n",
              " 'America/Indiana/Marengo',\n",
              " 'America/Indiana/Petersburg',\n",
              " 'America/Indiana/Tell_City',\n",
              " 'America/Indiana/Vevay',\n",
              " 'America/Indiana/Vincennes',\n",
              " 'America/Indiana/Winamac',\n",
              " 'America/Indianapolis',\n",
              " 'America/Inuvik',\n",
              " 'America/Iqaluit',\n",
              " 'America/Jamaica',\n",
              " 'America/Jujuy',\n",
              " 'America/Juneau',\n",
              " 'America/Kentucky/Louisville',\n",
              " 'America/Kentucky/Monticello',\n",
              " 'America/Knox_IN',\n",
              " 'America/Kralendijk',\n",
              " 'America/La_Paz',\n",
              " 'America/Lima',\n",
              " 'America/Los_Angeles',\n",
              " 'America/Louisville',\n",
              " 'America/Lower_Princes',\n",
              " 'America/Maceio',\n",
              " 'America/Managua',\n",
              " 'America/Manaus',\n",
              " 'America/Marigot',\n",
              " 'America/Martinique',\n",
              " 'America/Matamoros',\n",
              " 'America/Mazatlan',\n",
              " 'America/Mendoza',\n",
              " 'America/Menominee',\n",
              " 'America/Merida',\n",
              " 'America/Metlakatla',\n",
              " 'America/Mexico_City',\n",
              " 'America/Miquelon',\n",
              " 'America/Moncton',\n",
              " 'America/Monterrey',\n",
              " 'America/Montevideo',\n",
              " 'America/Montreal',\n",
              " 'America/Montserrat',\n",
              " 'America/Nassau',\n",
              " 'America/New_York',\n",
              " 'America/Nipigon',\n",
              " 'America/Nome',\n",
              " 'America/Noronha',\n",
              " 'America/North_Dakota/Beulah',\n",
              " 'America/North_Dakota/Center',\n",
              " 'America/North_Dakota/New_Salem',\n",
              " 'America/Ojinaga',\n",
              " 'America/Panama',\n",
              " 'America/Pangnirtung',\n",
              " 'America/Paramaribo',\n",
              " 'America/Phoenix',\n",
              " 'America/Port-au-Prince',\n",
              " 'America/Port_of_Spain',\n",
              " 'America/Porto_Acre',\n",
              " 'America/Porto_Velho',\n",
              " 'America/Puerto_Rico',\n",
              " 'America/Punta_Arenas',\n",
              " 'America/Rainy_River',\n",
              " 'America/Rankin_Inlet',\n",
              " 'America/Recife',\n",
              " 'America/Regina',\n",
              " 'America/Resolute',\n",
              " 'America/Rio_Branco',\n",
              " 'America/Rosario',\n",
              " 'America/Santa_Isabel',\n",
              " 'America/Santarem',\n",
              " 'America/Santiago',\n",
              " 'America/Santo_Domingo',\n",
              " 'America/Sao_Paulo',\n",
              " 'America/Scoresbysund',\n",
              " 'America/Shiprock',\n",
              " 'America/Sitka',\n",
              " 'America/St_Barthelemy',\n",
              " 'America/St_Johns',\n",
              " 'America/St_Kitts',\n",
              " 'America/St_Lucia',\n",
              " 'America/St_Thomas',\n",
              " 'America/St_Vincent',\n",
              " 'America/Swift_Current',\n",
              " 'America/Tegucigalpa',\n",
              " 'America/Thule',\n",
              " 'America/Thunder_Bay',\n",
              " 'America/Tijuana',\n",
              " 'America/Toronto',\n",
              " 'America/Tortola',\n",
              " 'America/Vancouver',\n",
              " 'America/Virgin',\n",
              " 'America/Whitehorse',\n",
              " 'America/Winnipeg',\n",
              " 'America/Yakutat',\n",
              " 'America/Yellowknife',\n",
              " 'Antarctica/Casey',\n",
              " 'Antarctica/Davis',\n",
              " 'Antarctica/DumontDUrville',\n",
              " 'Antarctica/Macquarie',\n",
              " 'Antarctica/Mawson',\n",
              " 'Antarctica/McMurdo',\n",
              " 'Antarctica/Palmer',\n",
              " 'Antarctica/Rothera',\n",
              " 'Antarctica/South_Pole',\n",
              " 'Antarctica/Syowa',\n",
              " 'Antarctica/Troll',\n",
              " 'Antarctica/Vostok',\n",
              " 'Arctic/Longyearbyen',\n",
              " 'Asia/Aden',\n",
              " 'Asia/Almaty',\n",
              " 'Asia/Amman',\n",
              " 'Asia/Anadyr',\n",
              " 'Asia/Aqtau',\n",
              " 'Asia/Aqtobe',\n",
              " 'Asia/Ashgabat',\n",
              " 'Asia/Ashkhabad',\n",
              " 'Asia/Atyrau',\n",
              " 'Asia/Baghdad',\n",
              " 'Asia/Bahrain',\n",
              " 'Asia/Baku',\n",
              " 'Asia/Bangkok',\n",
              " 'Asia/Barnaul',\n",
              " 'Asia/Beirut',\n",
              " 'Asia/Bishkek',\n",
              " 'Asia/Brunei',\n",
              " 'Asia/Calcutta',\n",
              " 'Asia/Chita',\n",
              " 'Asia/Choibalsan',\n",
              " 'Asia/Chongqing',\n",
              " 'Asia/Chungking',\n",
              " 'Asia/Colombo',\n",
              " 'Asia/Dacca',\n",
              " 'Asia/Damascus',\n",
              " 'Asia/Dhaka',\n",
              " 'Asia/Dili',\n",
              " 'Asia/Dubai',\n",
              " 'Asia/Dushanbe',\n",
              " 'Asia/Famagusta',\n",
              " 'Asia/Gaza',\n",
              " 'Asia/Harbin',\n",
              " 'Asia/Hebron',\n",
              " 'Asia/Ho_Chi_Minh',\n",
              " 'Asia/Hong_Kong',\n",
              " 'Asia/Hovd',\n",
              " 'Asia/Irkutsk',\n",
              " 'Asia/Istanbul',\n",
              " 'Asia/Jakarta',\n",
              " 'Asia/Jayapura',\n",
              " 'Asia/Jerusalem',\n",
              " 'Asia/Kabul',\n",
              " 'Asia/Kamchatka',\n",
              " 'Asia/Karachi',\n",
              " 'Asia/Kashgar',\n",
              " 'Asia/Kathmandu',\n",
              " 'Asia/Katmandu',\n",
              " 'Asia/Khandyga',\n",
              " 'Asia/Kolkata',\n",
              " 'Asia/Krasnoyarsk',\n",
              " 'Asia/Kuala_Lumpur',\n",
              " 'Asia/Kuching',\n",
              " 'Asia/Kuwait',\n",
              " 'Asia/Macao',\n",
              " 'Asia/Macau',\n",
              " 'Asia/Magadan',\n",
              " 'Asia/Makassar',\n",
              " 'Asia/Manila',\n",
              " 'Asia/Muscat',\n",
              " 'Asia/Nicosia',\n",
              " 'Asia/Novokuznetsk',\n",
              " 'Asia/Novosibirsk',\n",
              " 'Asia/Omsk',\n",
              " 'Asia/Oral',\n",
              " 'Asia/Phnom_Penh',\n",
              " 'Asia/Pontianak',\n",
              " 'Asia/Pyongyang',\n",
              " 'Asia/Qatar',\n",
              " 'Asia/Qostanay',\n",
              " 'Asia/Qyzylorda',\n",
              " 'Asia/Rangoon',\n",
              " 'Asia/Riyadh',\n",
              " 'Asia/Saigon',\n",
              " 'Asia/Sakhalin',\n",
              " 'Asia/Samarkand',\n",
              " 'Asia/Seoul',\n",
              " 'Asia/Shanghai',\n",
              " 'Asia/Singapore',\n",
              " 'Asia/Srednekolymsk',\n",
              " 'Asia/Taipei',\n",
              " 'Asia/Tashkent',\n",
              " 'Asia/Tbilisi',\n",
              " 'Asia/Tehran',\n",
              " 'Asia/Tel_Aviv',\n",
              " 'Asia/Thimbu',\n",
              " 'Asia/Thimphu',\n",
              " 'Asia/Tokyo',\n",
              " 'Asia/Tomsk',\n",
              " 'Asia/Ujung_Pandang',\n",
              " 'Asia/Ulaanbaatar',\n",
              " 'Asia/Ulan_Bator',\n",
              " 'Asia/Urumqi',\n",
              " 'Asia/Ust-Nera',\n",
              " 'Asia/Vientiane',\n",
              " 'Asia/Vladivostok',\n",
              " 'Asia/Yakutsk',\n",
              " 'Asia/Yangon',\n",
              " 'Asia/Yekaterinburg',\n",
              " 'Asia/Yerevan',\n",
              " 'Atlantic/Azores',\n",
              " 'Atlantic/Bermuda',\n",
              " 'Atlantic/Canary',\n",
              " 'Atlantic/Cape_Verde',\n",
              " 'Atlantic/Faeroe',\n",
              " 'Atlantic/Faroe',\n",
              " 'Atlantic/Jan_Mayen',\n",
              " 'Atlantic/Madeira',\n",
              " 'Atlantic/Reykjavik',\n",
              " 'Atlantic/South_Georgia',\n",
              " 'Atlantic/St_Helena',\n",
              " 'Atlantic/Stanley',\n",
              " 'Australia/ACT',\n",
              " 'Australia/Adelaide',\n",
              " 'Australia/Brisbane',\n",
              " 'Australia/Broken_Hill',\n",
              " 'Australia/Canberra',\n",
              " 'Australia/Currie',\n",
              " 'Australia/Darwin',\n",
              " 'Australia/Eucla',\n",
              " 'Australia/Hobart',\n",
              " 'Australia/LHI',\n",
              " 'Australia/Lindeman',\n",
              " 'Australia/Lord_Howe',\n",
              " 'Australia/Melbourne',\n",
              " 'Australia/NSW',\n",
              " 'Australia/North',\n",
              " 'Australia/Perth',\n",
              " 'Australia/Queensland',\n",
              " 'Australia/South',\n",
              " 'Australia/Sydney',\n",
              " 'Australia/Tasmania',\n",
              " 'Australia/Victoria',\n",
              " 'Australia/West',\n",
              " 'Australia/Yancowinna',\n",
              " 'Brazil/Acre',\n",
              " 'Brazil/DeNoronha',\n",
              " 'Brazil/East',\n",
              " 'Brazil/West',\n",
              " 'CET',\n",
              " 'CST6CDT',\n",
              " 'Canada/Atlantic',\n",
              " 'Canada/Central',\n",
              " 'Canada/Eastern',\n",
              " 'Canada/Mountain',\n",
              " 'Canada/Newfoundland',\n",
              " 'Canada/Pacific',\n",
              " 'Canada/Saskatchewan',\n",
              " 'Canada/Yukon',\n",
              " 'Chile/Continental',\n",
              " 'Chile/EasterIsland',\n",
              " 'Cuba',\n",
              " 'EET',\n",
              " 'EST',\n",
              " 'EST5EDT',\n",
              " 'Egypt',\n",
              " 'Eire',\n",
              " 'Etc/GMT',\n",
              " 'Etc/GMT+0',\n",
              " 'Etc/GMT+1',\n",
              " 'Etc/GMT+10',\n",
              " 'Etc/GMT+11',\n",
              " 'Etc/GMT+12',\n",
              " 'Etc/GMT+2',\n",
              " 'Etc/GMT+3',\n",
              " 'Etc/GMT+4',\n",
              " 'Etc/GMT+5',\n",
              " 'Etc/GMT+6',\n",
              " 'Etc/GMT+7',\n",
              " 'Etc/GMT+8',\n",
              " 'Etc/GMT+9',\n",
              " 'Etc/GMT-0',\n",
              " 'Etc/GMT-1',\n",
              " 'Etc/GMT-10',\n",
              " 'Etc/GMT-11',\n",
              " 'Etc/GMT-12',\n",
              " 'Etc/GMT-13',\n",
              " 'Etc/GMT-14',\n",
              " 'Etc/GMT-2',\n",
              " 'Etc/GMT-3',\n",
              " 'Etc/GMT-4',\n",
              " 'Etc/GMT-5',\n",
              " 'Etc/GMT-6',\n",
              " 'Etc/GMT-7',\n",
              " 'Etc/GMT-8',\n",
              " 'Etc/GMT-9',\n",
              " 'Etc/GMT0',\n",
              " 'Etc/Greenwich',\n",
              " 'Etc/UCT',\n",
              " 'Etc/UTC',\n",
              " 'Etc/Universal',\n",
              " 'Etc/Zulu',\n",
              " 'Europe/Amsterdam',\n",
              " 'Europe/Andorra',\n",
              " 'Europe/Astrakhan',\n",
              " 'Europe/Athens',\n",
              " 'Europe/Belfast',\n",
              " 'Europe/Belgrade',\n",
              " 'Europe/Berlin',\n",
              " 'Europe/Bratislava',\n",
              " 'Europe/Brussels',\n",
              " 'Europe/Bucharest',\n",
              " 'Europe/Budapest',\n",
              " 'Europe/Busingen',\n",
              " 'Europe/Chisinau',\n",
              " 'Europe/Copenhagen',\n",
              " 'Europe/Dublin',\n",
              " 'Europe/Gibraltar',\n",
              " 'Europe/Guernsey',\n",
              " 'Europe/Helsinki',\n",
              " 'Europe/Isle_of_Man',\n",
              " 'Europe/Istanbul',\n",
              " 'Europe/Jersey',\n",
              " 'Europe/Kaliningrad',\n",
              " 'Europe/Kiev',\n",
              " 'Europe/Kirov',\n",
              " 'Europe/Lisbon',\n",
              " 'Europe/Ljubljana',\n",
              " 'Europe/London',\n",
              " 'Europe/Luxembourg',\n",
              " 'Europe/Madrid',\n",
              " 'Europe/Malta',\n",
              " 'Europe/Mariehamn',\n",
              " 'Europe/Minsk',\n",
              " 'Europe/Monaco',\n",
              " 'Europe/Moscow',\n",
              " 'Europe/Nicosia',\n",
              " 'Europe/Oslo',\n",
              " 'Europe/Paris',\n",
              " 'Europe/Podgorica',\n",
              " 'Europe/Prague',\n",
              " 'Europe/Riga',\n",
              " 'Europe/Rome',\n",
              " 'Europe/Samara',\n",
              " 'Europe/San_Marino',\n",
              " 'Europe/Sarajevo',\n",
              " 'Europe/Saratov',\n",
              " 'Europe/Simferopol',\n",
              " 'Europe/Skopje',\n",
              " 'Europe/Sofia',\n",
              " 'Europe/Stockholm',\n",
              " 'Europe/Tallinn',\n",
              " 'Europe/Tirane',\n",
              " 'Europe/Tiraspol',\n",
              " 'Europe/Ulyanovsk',\n",
              " 'Europe/Uzhgorod',\n",
              " 'Europe/Vaduz',\n",
              " 'Europe/Vatican',\n",
              " 'Europe/Vienna',\n",
              " 'Europe/Vilnius',\n",
              " 'Europe/Volgograd',\n",
              " 'Europe/Warsaw',\n",
              " 'Europe/Zagreb',\n",
              " 'Europe/Zaporozhye',\n",
              " 'Europe/Zurich',\n",
              " 'GB',\n",
              " 'GB-Eire',\n",
              " 'GMT',\n",
              " 'GMT+0',\n",
              " 'GMT-0',\n",
              " 'GMT0',\n",
              " 'Greenwich',\n",
              " 'HST',\n",
              " 'Hongkong',\n",
              " 'Iceland',\n",
              " 'Indian/Antananarivo',\n",
              " 'Indian/Chagos',\n",
              " 'Indian/Christmas',\n",
              " 'Indian/Cocos',\n",
              " 'Indian/Comoro',\n",
              " 'Indian/Kerguelen',\n",
              " 'Indian/Mahe',\n",
              " 'Indian/Maldives',\n",
              " 'Indian/Mauritius',\n",
              " 'Indian/Mayotte',\n",
              " 'Indian/Reunion',\n",
              " 'Iran',\n",
              " 'Israel',\n",
              " 'Jamaica',\n",
              " 'Japan',\n",
              " 'Kwajalein',\n",
              " 'Libya',\n",
              " 'MET',\n",
              " 'MST',\n",
              " 'MST7MDT',\n",
              " 'Mexico/BajaNorte',\n",
              " 'Mexico/BajaSur',\n",
              " 'Mexico/General',\n",
              " 'NZ',\n",
              " 'NZ-CHAT',\n",
              " 'Navajo',\n",
              " 'PRC',\n",
              " 'PST8PDT',\n",
              " 'Pacific/Apia',\n",
              " 'Pacific/Auckland',\n",
              " 'Pacific/Bougainville',\n",
              " 'Pacific/Chatham',\n",
              " 'Pacific/Chuuk',\n",
              " 'Pacific/Easter',\n",
              " 'Pacific/Efate',\n",
              " 'Pacific/Enderbury',\n",
              " 'Pacific/Fakaofo',\n",
              " 'Pacific/Fiji',\n",
              " 'Pacific/Funafuti',\n",
              " 'Pacific/Galapagos',\n",
              " 'Pacific/Gambier',\n",
              " 'Pacific/Guadalcanal',\n",
              " 'Pacific/Guam',\n",
              " 'Pacific/Honolulu',\n",
              " 'Pacific/Johnston',\n",
              " 'Pacific/Kiritimati',\n",
              " 'Pacific/Kosrae',\n",
              " 'Pacific/Kwajalein',\n",
              " 'Pacific/Majuro',\n",
              " 'Pacific/Marquesas',\n",
              " 'Pacific/Midway',\n",
              " 'Pacific/Nauru',\n",
              " 'Pacific/Niue',\n",
              " 'Pacific/Norfolk',\n",
              " 'Pacific/Noumea',\n",
              " 'Pacific/Pago_Pago',\n",
              " 'Pacific/Palau',\n",
              " 'Pacific/Pitcairn',\n",
              " 'Pacific/Pohnpei',\n",
              " 'Pacific/Ponape',\n",
              " 'Pacific/Port_Moresby',\n",
              " 'Pacific/Rarotonga',\n",
              " 'Pacific/Saipan',\n",
              " 'Pacific/Samoa',\n",
              " 'Pacific/Tahiti',\n",
              " 'Pacific/Tarawa',\n",
              " 'Pacific/Tongatapu',\n",
              " 'Pacific/Truk',\n",
              " 'Pacific/Wake',\n",
              " 'Pacific/Wallis',\n",
              " 'Pacific/Yap',\n",
              " 'Poland',\n",
              " 'Portugal',\n",
              " 'ROC',\n",
              " 'ROK',\n",
              " 'Singapore',\n",
              " 'Turkey',\n",
              " 'UCT',\n",
              " 'US/Alaska',\n",
              " 'US/Aleutian',\n",
              " 'US/Arizona',\n",
              " 'US/Central',\n",
              " 'US/East-Indiana',\n",
              " 'US/Eastern',\n",
              " 'US/Hawaii',\n",
              " 'US/Indiana-Starke',\n",
              " 'US/Michigan',\n",
              " 'US/Mountain',\n",
              " 'US/Pacific',\n",
              " 'US/Samoa',\n",
              " 'UTC',\n",
              " 'Universal',\n",
              " 'W-SU',\n",
              " 'WET',\n",
              " 'Zulu']"
            ]
          },
          "metadata": {},
          "execution_count": 574
        }
      ]
    },
    {
      "cell_type": "markdown",
      "source": [
        "#IMPORTANT GLOBAL VARIABLES"
      ],
      "metadata": {
        "id": "JxViOjjIYCAK"
      }
    },
    {
      "cell_type": "code",
      "source": [
        "mentor_email = 'mentor@villagebookbuilders.org' #Mentor program email address\n",
        "oracle_data       = 0                           #Data read from Oracle Database SQL Query\n",
        "google_data       = 0                           #Data read from Google Audit Log\n",
        "active_sessions   = 0                           #Active sessions recorded in Oracle db based on end date\n",
        "total_mentors     = 0                           #List of all mentors names in oracle db\n",
        "oracle_mentor_emails = []                       #list of all mentor emails in oracle db\n",
        "active_mentors    = 0                           #Mentor names that joined at least one session \n",
        "active_mentor_emails = []                       #List of mentor emails that joined at least one session\n",
        "mentor_programs   = []                          #Names of all mentor programs stored in oracle database\n",
        "mentors_not_registered = []                     #Names of all active mentors not logged in oracle database\n",
        "time_zone = 'America/Port_of_Spain'                         #google_data['Date'][1][len(google_data['Date'][1])-3:] #TODO: change this hard coded time zone\n",
        "start = 0                                       #start date\n",
        "end = 0                                         #end date\n",
        "program_director_name = ['adeiso ghana', 'ahero kenya', 'biwi, malawi vbb mentor program', 'charity centre, zambia vbb mentor program', 'chebosi kenya', 'kadzakalowa malawi', 'maragoli kenya', 'mukono uganda', 'vima ghana'] #Actor names of program director accounts"
      ],
      "metadata": {
        "id": "l3A_o3ChYGG2"
      },
      "execution_count": 575,
      "outputs": []
    },
    {
      "cell_type": "markdown",
      "source": [
        "# READING DATA SOURCES"
      ],
      "metadata": {
        "id": "B1NVU9iPfnsp"
      }
    },
    {
      "cell_type": "code",
      "source": [
        "#Read Data Sources as pandas data frames\n",
        "\n",
        "#Calendar Data\n",
        "calendar_path = '/content/gdrive/MyDrive/Projects/Mentor_Dashboard_V2/3. Execution/SRC Code/Data/Calendar Data Export/Calendar Export UTC - Sheet1.csv' \n",
        "calendar_data = pd.read_csv(calendar_path)\n",
        "\n",
        "#Google Data\n",
        "#google_path = '/content/gdrive/MyDrive/Projects/Mentor_Dashboard_V2/3. Execution/SRC Code/Data/Google Audit Log/Jan 2022/Copy of meet_logs_1643126905783 - meet_logs_1643126905783.csv'\n",
        "google_path = '/content/gdrive/MyDrive/Projects/Mentor_Dashboard_V2/3. Execution/SRC Code/Data/Google Audit Log/March 2022/3_5_2022.csv'\n",
        "google_data = pd.read_csv(google_path)\n",
        "\n",
        "\n",
        "#Mentee Computer Emails\n",
        "mentee_email_path = '/content/gdrive/MyDrive/Projects/Mentor_Dashboard_V2/3. Execution/SRC Code/Data/mentee email/Copy of Village Library Information - computer email.csv'\n",
        "mentee_computer_emails = pd.read_csv(mentee_email_path)\n",
        "\n",
        "\n"
      ],
      "metadata": {
        "id": "ti3RqFW5uRou"
      },
      "execution_count": 576,
      "outputs": []
    },
    {
      "cell_type": "markdown",
      "source": [
        "\n",
        "# CLEANING DATA"
      ],
      "metadata": {
        "id": "dx1dhULnfsJF"
      }
    },
    {
      "cell_type": "code",
      "source": [
        "\n",
        "#Calendar Data\n",
        "calendar_data = calendar_data.dropna() #remove all empty sessions\n",
        "\n",
        "#Google Data\n",
        "google_data = google_data.dropna(subset=['Date', 'Meeting code', 'Participant Identifier', 'Organizer email', 'Duration', 'Actor name', 'Calendar event ID']) #clean google data\n",
        "google_data = google_data[google_data['Duration'] > 0] #drop all calls with 0 duration\n",
        "google_data = google_data[google_data['Organizer email'] == mentor_email] #only consider mentor sessions\n",
        "google_data = google_data[google_data['Actor name'] != 'Mentor Program'] #drop all entries for mentor program\n",
        "\n",
        "#Mentee Email data\n",
        "mentee_computer_emails = mentee_computer_emails.dropna()"
      ],
      "metadata": {
        "id": "ZV2uWWJafEtR"
      },
      "execution_count": 577,
      "outputs": []
    },
    {
      "cell_type": "code",
      "source": [
        "print(google_data.shape, calendar_data.shape)"
      ],
      "metadata": {
        "colab": {
          "base_uri": "https://localhost:8080/"
        },
        "id": "hZ6eWiC9kK7a",
        "outputId": "1c6931bb-f87f-49f3-ad9e-d034de4c36e3"
      },
      "execution_count": 578,
      "outputs": [
        {
          "output_type": "stream",
          "name": "stdout",
          "text": [
            "(9482, 64) (8065, 11)\n"
          ]
        }
      ]
    },
    {
      "cell_type": "code",
      "source": [
        "#DATE CONVERSIONS\n",
        "#Only run this once. Running more times will cause an error. To fix re-read data sources\n",
        "def conv_to_datetime(a):\n",
        "  utc_timezone = pytz.timezone('UTC')\n",
        "  if isinstance(a, datetime.date):\n",
        "    return a\n",
        "  try:\n",
        "    #Convert calendar export dates\n",
        "    date = datetime.datetime.strptime(a, '%m/%d/%Y %H:%M:%S')\n",
        "    date = date.replace(tzinfo = pytz.timezone('UTC')) \n",
        "    return date\n",
        "  except:\n",
        "    try:\n",
        "      #Convert Audit log dates \n",
        "      date = datetime.datetime.strptime(a, '%b %d, %Y, %I:%M:%S %p')\n",
        "      date = date.replace(tzinfo = pytz.timezone(time_zone)) \n",
        "      date = date.astimezone(utc_timezone) #convert all times to UTC\n",
        "      return  date\n",
        "    except:\n",
        "      date = datetime.datetime.strptime('', '')\n",
        "      date = date.replace(tzinfo = utc_timezone)\n",
        "      return date\n",
        "\n"
      ],
      "metadata": {
        "id": "_dfBR_DQcLEG"
      },
      "execution_count": 579,
      "outputs": []
    },
    {
      "cell_type": "code",
      "source": [
        "#converting oracle dates to datetime objs\n",
        "calendar_data['Event Start UTC'] = calendar_data['Event Start UTC'].apply(conv_to_datetime)\n",
        "calendar_data['Event End UTC'] = calendar_data['Event End UTC'].apply(conv_to_datetime)\n",
        "\n"
      ],
      "metadata": {
        "id": "Z6ZxJul9orkg"
      },
      "execution_count": 580,
      "outputs": []
    },
    {
      "cell_type": "code",
      "source": [
        "#Convert google dates to datetime UTC\n",
        "google_data['Date'] = google_data['Date'].apply(lambda x: x[:len(x)-4]) #remove time zone\n",
        "google_data['Date'] = google_data['Date'].apply(conv_to_datetime)"
      ],
      "metadata": {
        "id": "uKItSRAvj47X"
      },
      "execution_count": 581,
      "outputs": []
    },
    {
      "cell_type": "code",
      "source": [
        "#Create new column with just dates\n",
        "google_data['String_Date'] = google_data['Date'].apply(lambda x: x.strftime(\"%m/%d/%Y\"))\n",
        "calendar_data['String_Date'] = calendar_data['Event Start UTC'].apply(lambda x: x.strftime(\"%m/%d/%Y\"))"
      ],
      "metadata": {
        "id": "CF2vCaz8j4Vl"
      },
      "execution_count": 582,
      "outputs": []
    },
    {
      "cell_type": "code",
      "source": [
        "#lower participant emails for accurate searches\n",
        "google_data['Participant Identifier'] = google_data['Participant Identifier'].apply(lambda x: x.lower())\n",
        "calendar_data['Participant Identifier'] = calendar_data['Participant Identifier'].apply(lambda x: x.lower())"
      ],
      "metadata": {
        "id": "z-QA2l-kcGGa"
      },
      "execution_count": 583,
      "outputs": []
    },
    {
      "cell_type": "code",
      "source": [
        "#Drop duplicate sessions caused by people signing in from various devices at the same time\n",
        "google_data = google_data.drop_duplicates(subset = ['Participant Identifier', 'Calendar event ID', 'String_Date'])"
      ],
      "metadata": {
        "id": "-z3SBDLFQP5m"
      },
      "execution_count": 584,
      "outputs": []
    },
    {
      "cell_type": "code",
      "source": [
        "#list of mentee computer emails\n",
        "mentee_computer_emails_list = mentee_computer_emails['COMPUTER_EMAIL'].tolist()"
      ],
      "metadata": {
        "id": "UzIap4V-RxoF"
      },
      "execution_count": 585,
      "outputs": []
    },
    {
      "cell_type": "markdown",
      "source": [
        "#DATE RANGES"
      ],
      "metadata": {
        "id": "hX82uYWoX0qf"
      }
    },
    {
      "cell_type": "code",
      "source": [
        "#Today's date\n",
        "today_date = datetime.datetime.today().replace(tzinfo = pytz.timezone(time_zone))\n",
        "\n",
        "#Start and end dates for schema 1\n",
        "dates_list = sorted(google_data['Date'].tolist())\n",
        "start1, end1 = dates_list[0], dates_list[-1] \n",
        "\n",
        "#Start and end dates for schema 2\n",
        "end, start = datetime.datetime(2022, 2, 27).astimezone(pytz.timezone(\"utc\")), datetime.datetime(2022, 3, 5).astimezone(pytz.timezone(\"utc\"))\n",
        "\n"
      ],
      "metadata": {
        "id": "Y55mCcMGrw_B"
      },
      "execution_count": 586,
      "outputs": []
    },
    {
      "cell_type": "code",
      "source": [
        "print(start1, end1)\n",
        "print(start, end)"
      ],
      "metadata": {
        "colab": {
          "base_uri": "https://localhost:8080/"
        },
        "id": "_TF_7t6dkN-_",
        "outputId": "a7ccf3fd-5610-4849-9dae-0baa7b39f0d0"
      },
      "execution_count": 587,
      "outputs": [
        {
          "output_type": "stream",
          "name": "stdout",
          "text": [
            "2021-09-07 11:09:41+00:00 2022-03-05 18:26:28+00:00\n",
            "2022-03-05 00:00:00+00:00 2022-02-27 00:00:00+00:00\n"
          ]
        }
      ]
    },
    {
      "cell_type": "markdown",
      "source": [
        "#ATTENDANCE AND DURATION TRACKING "
      ],
      "metadata": {
        "id": "NS6R-QbVbruy"
      }
    },
    {
      "cell_type": "code",
      "source": [
        "calendar_data['Attendance'] = [0]*len(calendar_data)\n",
        "calendar_data['Duration'] = [0]*len(calendar_data)\n",
        "calendar_data['User Type'] = [0]*len(calendar_data)"
      ],
      "metadata": {
        "id": "ZWXDXlaw3DXu"
      },
      "execution_count": 588,
      "outputs": []
    },
    {
      "cell_type": "code",
      "source": [
        "for index, meeting in calendar_data.iterrows():\n",
        "  attendance = 0\n",
        "  duration = 0\n",
        "  meeting_data = google_data[(google_data['Participant Identifier'] == meeting['Participant Identifier']) & (google_data['Calendar event ID'].str.contains(meeting['Calendar event ID'])) & (google_data['String_Date'] == meeting['String_Date'])]\n",
        "\n",
        "  #print(meeting_data)\n",
        "\n",
        "  if (len(meeting_data) > 0):\n",
        "    attendance = 1\n",
        "    duration = sum(meeting_data['Duration'].tolist())/60\n",
        "\n",
        "  calendar_data['Attendance'][index] = attendance\n",
        "  calendar_data['Duration'][index] = duration\n",
        "  calendar_data['User Type'][index] = 'Mentee' if meeting['Participant Identifier'] in mentee_computer_emails_list else 'Mentor'\n"
      ],
      "metadata": {
        "id": "PjVBygrn1xWu"
      },
      "execution_count": null,
      "outputs": []
    },
    {
      "cell_type": "markdown",
      "source": [
        "#FINDING MENTOR THAT MISSED LAST 2 OR 3 SESSIONS"
      ],
      "metadata": {
        "id": "1396xbwSukJb"
      }
    },
    {
      "cell_type": "code",
      "source": [
        "#Identify mentors that have missed 2 or 3 of their last sessions. "
      ],
      "metadata": {
        "id": "_PSURBCF6eTg"
      },
      "execution_count": 590,
      "outputs": []
    },
    {
      "cell_type": "code",
      "source": [
        "calendar_data['Missed_2'] = [0]*len(calendar_data)\n",
        "calendar_data['Missed_3'] = [0]*len(calendar_data)"
      ],
      "metadata": {
        "id": "PJAABO6hurip"
      },
      "execution_count": 591,
      "outputs": []
    },
    {
      "cell_type": "code",
      "source": [
        "for index, meeting in calendar_data.iterrows():\n",
        "\n",
        "  #Get previous meetings regarless of id\n",
        "  previous_meetings = calendar_data[(calendar_data['Event Start UTC'] <= meeting['Event Start UTC']) & (calendar_data['Participant Identifier'] == meeting['Participant Identifier'])] # & (calendar_data['Calendar event ID'] == meeting['Calendar event ID'])]\n",
        "\n",
        "  if (len(previous_meetings)>=3):\n",
        "    last_3 = 0 if sum(previous_meetings['Attendance'].tolist()[-3:]) else 1\n",
        "    last_2 = 0 if sum(previous_meetings['Attendance'].tolist()[-2:]) else 1\n",
        "  elif (len(previous_meetings) == 2):\n",
        "    last_3 = 0\n",
        "    last_2 = 0 if sum(previous_meetings['Attendance'].tolist()) else 1\n",
        "  else:\n",
        "    last_3 = 0\n",
        "    last_2 = 0\n",
        "  \n",
        "  #updating data frame \n",
        "  calendar_data['Missed_2'][index] = last_2\n",
        "  calendar_data['Missed_3'][index] = last_3"
      ],
      "metadata": {
        "colab": {
          "base_uri": "https://localhost:8080/"
        },
        "id": "JiJZ6I0CwuKL",
        "outputId": "c0efa7de-ac4f-49a8-8bfd-4ec3e118873d"
      },
      "execution_count": 592,
      "outputs": [
        {
          "output_type": "stream",
          "name": "stderr",
          "text": [
            "/usr/local/lib/python3.7/dist-packages/ipykernel_launcher.py:17: SettingWithCopyWarning: \n",
            "A value is trying to be set on a copy of a slice from a DataFrame\n",
            "\n",
            "See the caveats in the documentation: https://pandas.pydata.org/pandas-docs/stable/user_guide/indexing.html#returning-a-view-versus-a-copy\n",
            "/usr/local/lib/python3.7/dist-packages/ipykernel_launcher.py:18: SettingWithCopyWarning: \n",
            "A value is trying to be set on a copy of a slice from a DataFrame\n",
            "\n",
            "See the caveats in the documentation: https://pandas.pydata.org/pandas-docs/stable/user_guide/indexing.html#returning-a-view-versus-a-copy\n"
          ]
        }
      ]
    },
    {
      "cell_type": "code",
      "source": [
        "calendar_data.shape"
      ],
      "metadata": {
        "colab": {
          "base_uri": "https://localhost:8080/"
        },
        "id": "dD3XOTIsBN8s",
        "outputId": "9bcd8c46-fa92-4996-c1f2-cf2c684997ea"
      },
      "execution_count": 593,
      "outputs": [
        {
          "output_type": "execute_result",
          "data": {
            "text/plain": [
              "(8065, 17)"
            ]
          },
          "metadata": {},
          "execution_count": 593
        }
      ]
    },
    {
      "cell_type": "code",
      "source": [
        "#TODO: merge actor names to calendar_data based on participant identifier\n",
        "# actor_names = google_data[['Participant Identifier', 'Actor name']].drop_duplicates(subset = ['Participant Identifier'])\n",
        "# print(actor_names.shape)\n",
        "# actor_names = calendar_data[['Participant Identifier']].drop_duplicates(subset = ['Participant Identifier'])\n",
        "# print(actor_names.shape)\n",
        "\n",
        "# #Merge actor names\n",
        "# result = calendar_data#pd.merge(calendar_data, actor_names, on='Participant Identifier')"
      ],
      "metadata": {
        "id": "VuIigK5VLXrg"
      },
      "execution_count": 594,
      "outputs": []
    },
    {
      "cell_type": "markdown",
      "source": [
        "# STORING ATTENDANCE DATA"
      ],
      "metadata": {
        "id": "szbJwZlCR-aS"
      }
    },
    {
      "cell_type": "code",
      "source": [
        "#Create data frame and store\n",
        "file_name = 'attendance_data_calendar_data.csv'\n",
        "calendar_data.to_csv(file_name, index = False)"
      ],
      "metadata": {
        "id": "81jJRckUR9MQ"
      },
      "execution_count": 595,
      "outputs": []
    },
    {
      "cell_type": "markdown",
      "source": [
        "#FINDING PRODUCTIVE MEETINGS"
      ],
      "metadata": {
        "id": "HlPj2mEn7L4w"
      }
    },
    {
      "cell_type": "code",
      "source": [
        "calendar_data.head()"
      ],
      "metadata": {
        "colab": {
          "base_uri": "https://localhost:8080/",
          "height": 548
        },
        "id": "sUSPKv4gfZNC",
        "outputId": "46eaf657-d8ae-4900-f745-ccf7e9472ac2"
      },
      "execution_count": 596,
      "outputs": [
        {
          "output_type": "execute_result",
          "data": {
            "text/html": [
              "\n",
              "  <div id=\"df-255a1260-0a90-4662-b913-5a67ad8aa84e\">\n",
              "    <div class=\"colab-df-container\">\n",
              "      <div>\n",
              "<style scoped>\n",
              "    .dataframe tbody tr th:only-of-type {\n",
              "        vertical-align: middle;\n",
              "    }\n",
              "\n",
              "    .dataframe tbody tr th {\n",
              "        vertical-align: top;\n",
              "    }\n",
              "\n",
              "    .dataframe thead th {\n",
              "        text-align: right;\n",
              "    }\n",
              "</style>\n",
              "<table border=\"1\" class=\"dataframe\">\n",
              "  <thead>\n",
              "    <tr style=\"text-align: right;\">\n",
              "      <th></th>\n",
              "      <th>Program Name</th>\n",
              "      <th>Event Title</th>\n",
              "      <th>Event Start UTC</th>\n",
              "      <th>Event End UTC</th>\n",
              "      <th>Calculated Duration</th>\n",
              "      <th>UTC Day</th>\n",
              "      <th>Guest Status</th>\n",
              "      <th>Created By</th>\n",
              "      <th>Recurring Event</th>\n",
              "      <th>Calendar event ID</th>\n",
              "      <th>Participant Identifier</th>\n",
              "      <th>String_Date</th>\n",
              "      <th>Attendance</th>\n",
              "      <th>Duration</th>\n",
              "      <th>User Type</th>\n",
              "      <th>Missed_2</th>\n",
              "      <th>Missed_3</th>\n",
              "    </tr>\n",
              "  </thead>\n",
              "  <tbody>\n",
              "    <tr>\n",
              "      <th>0</th>\n",
              "      <td>High Tech, Uganda MP</td>\n",
              "      <td>Test</td>\n",
              "      <td>2022-02-03 16:30:00+00:00</td>\n",
              "      <td>2022-02-03 17:00:00+00:00</td>\n",
              "      <td>0.5</td>\n",
              "      <td>4</td>\n",
              "      <td>INVITED</td>\n",
              "      <td>mentor@villagebookbuilders.org</td>\n",
              "      <td>False</td>\n",
              "      <td>743lcsan6r6p4uaoamu069a275</td>\n",
              "      <td>tyclark25@gmail.com</td>\n",
              "      <td>02/03/2022</td>\n",
              "      <td>1</td>\n",
              "      <td>0</td>\n",
              "      <td>Mentor</td>\n",
              "      <td>0</td>\n",
              "      <td>0</td>\n",
              "    </tr>\n",
              "    <tr>\n",
              "      <th>1</th>\n",
              "      <td>High Tech, Uganda MP</td>\n",
              "      <td>Ivy Gray - VBB Mentoring Session</td>\n",
              "      <td>2022-02-04 14:00:00+00:00</td>\n",
              "      <td>2022-02-04 15:00:00+00:00</td>\n",
              "      <td>1.0</td>\n",
              "      <td>5</td>\n",
              "      <td>YES</td>\n",
              "      <td>mentor@villagebookbuilders.org</td>\n",
              "      <td>False</td>\n",
              "      <td>1f9mq0j68l0ls0supggblr9gel</td>\n",
              "      <td>ivy.gray@jobnimbus.com</td>\n",
              "      <td>02/04/2022</td>\n",
              "      <td>1</td>\n",
              "      <td>45</td>\n",
              "      <td>Mentor</td>\n",
              "      <td>0</td>\n",
              "      <td>0</td>\n",
              "    </tr>\n",
              "    <tr>\n",
              "      <th>2</th>\n",
              "      <td>High Tech, Uganda MP</td>\n",
              "      <td>Ivy Gray - VBB Mentoring Session</td>\n",
              "      <td>2022-02-04 14:00:00+00:00</td>\n",
              "      <td>2022-02-04 15:00:00+00:00</td>\n",
              "      <td>1.0</td>\n",
              "      <td>5</td>\n",
              "      <td>INVITED</td>\n",
              "      <td>mentor@villagebookbuilders.org</td>\n",
              "      <td>False</td>\n",
              "      <td>1f9mq0j68l0ls0supggblr9gel</td>\n",
              "      <td>joshua.atkinson@villagebookbuilders.org</td>\n",
              "      <td>02/04/2022</td>\n",
              "      <td>0</td>\n",
              "      <td>0</td>\n",
              "      <td>Mentor</td>\n",
              "      <td>1</td>\n",
              "      <td>0</td>\n",
              "    </tr>\n",
              "    <tr>\n",
              "      <th>3</th>\n",
              "      <td>High Tech, Uganda MP</td>\n",
              "      <td>Ivy Gray - VBB Mentoring Session</td>\n",
              "      <td>2022-02-04 14:00:00+00:00</td>\n",
              "      <td>2022-02-04 15:00:00+00:00</td>\n",
              "      <td>1.0</td>\n",
              "      <td>5</td>\n",
              "      <td>YES</td>\n",
              "      <td>mentor@villagebookbuilders.org</td>\n",
              "      <td>False</td>\n",
              "      <td>1f9mq0j68l0ls0supggblr9gel</td>\n",
              "      <td>mphightech@villagebookbuilders.org</td>\n",
              "      <td>02/04/2022</td>\n",
              "      <td>0</td>\n",
              "      <td>0</td>\n",
              "      <td>Mentee</td>\n",
              "      <td>0</td>\n",
              "      <td>0</td>\n",
              "    </tr>\n",
              "    <tr>\n",
              "      <th>4</th>\n",
              "      <td>High Tech, Uganda MP</td>\n",
              "      <td>Ivy Gray - VBB Mentoring Session</td>\n",
              "      <td>2022-02-04 14:00:00+00:00</td>\n",
              "      <td>2022-02-04 15:00:00+00:00</td>\n",
              "      <td>1.0</td>\n",
              "      <td>5</td>\n",
              "      <td>INVITED</td>\n",
              "      <td>mentor@villagebookbuilders.org</td>\n",
              "      <td>False</td>\n",
              "      <td>1f9mq0j68l0ls0supggblr9gel</td>\n",
              "      <td>hightech1@villagebookbuilders.org</td>\n",
              "      <td>02/04/2022</td>\n",
              "      <td>1</td>\n",
              "      <td>76</td>\n",
              "      <td>Mentee</td>\n",
              "      <td>0</td>\n",
              "      <td>0</td>\n",
              "    </tr>\n",
              "  </tbody>\n",
              "</table>\n",
              "</div>\n",
              "      <button class=\"colab-df-convert\" onclick=\"convertToInteractive('df-255a1260-0a90-4662-b913-5a67ad8aa84e')\"\n",
              "              title=\"Convert this dataframe to an interactive table.\"\n",
              "              style=\"display:none;\">\n",
              "        \n",
              "  <svg xmlns=\"http://www.w3.org/2000/svg\" height=\"24px\"viewBox=\"0 0 24 24\"\n",
              "       width=\"24px\">\n",
              "    <path d=\"M0 0h24v24H0V0z\" fill=\"none\"/>\n",
              "    <path d=\"M18.56 5.44l.94 2.06.94-2.06 2.06-.94-2.06-.94-.94-2.06-.94 2.06-2.06.94zm-11 1L8.5 8.5l.94-2.06 2.06-.94-2.06-.94L8.5 2.5l-.94 2.06-2.06.94zm10 10l.94 2.06.94-2.06 2.06-.94-2.06-.94-.94-2.06-.94 2.06-2.06.94z\"/><path d=\"M17.41 7.96l-1.37-1.37c-.4-.4-.92-.59-1.43-.59-.52 0-1.04.2-1.43.59L10.3 9.45l-7.72 7.72c-.78.78-.78 2.05 0 2.83L4 21.41c.39.39.9.59 1.41.59.51 0 1.02-.2 1.41-.59l7.78-7.78 2.81-2.81c.8-.78.8-2.07 0-2.86zM5.41 20L4 18.59l7.72-7.72 1.47 1.35L5.41 20z\"/>\n",
              "  </svg>\n",
              "      </button>\n",
              "      \n",
              "  <style>\n",
              "    .colab-df-container {\n",
              "      display:flex;\n",
              "      flex-wrap:wrap;\n",
              "      gap: 12px;\n",
              "    }\n",
              "\n",
              "    .colab-df-convert {\n",
              "      background-color: #E8F0FE;\n",
              "      border: none;\n",
              "      border-radius: 50%;\n",
              "      cursor: pointer;\n",
              "      display: none;\n",
              "      fill: #1967D2;\n",
              "      height: 32px;\n",
              "      padding: 0 0 0 0;\n",
              "      width: 32px;\n",
              "    }\n",
              "\n",
              "    .colab-df-convert:hover {\n",
              "      background-color: #E2EBFA;\n",
              "      box-shadow: 0px 1px 2px rgba(60, 64, 67, 0.3), 0px 1px 3px 1px rgba(60, 64, 67, 0.15);\n",
              "      fill: #174EA6;\n",
              "    }\n",
              "\n",
              "    [theme=dark] .colab-df-convert {\n",
              "      background-color: #3B4455;\n",
              "      fill: #D2E3FC;\n",
              "    }\n",
              "\n",
              "    [theme=dark] .colab-df-convert:hover {\n",
              "      background-color: #434B5C;\n",
              "      box-shadow: 0px 1px 3px 1px rgba(0, 0, 0, 0.15);\n",
              "      filter: drop-shadow(0px 1px 2px rgba(0, 0, 0, 0.3));\n",
              "      fill: #FFFFFF;\n",
              "    }\n",
              "  </style>\n",
              "\n",
              "      <script>\n",
              "        const buttonEl =\n",
              "          document.querySelector('#df-255a1260-0a90-4662-b913-5a67ad8aa84e button.colab-df-convert');\n",
              "        buttonEl.style.display =\n",
              "          google.colab.kernel.accessAllowed ? 'block' : 'none';\n",
              "\n",
              "        async function convertToInteractive(key) {\n",
              "          const element = document.querySelector('#df-255a1260-0a90-4662-b913-5a67ad8aa84e');\n",
              "          const dataTable =\n",
              "            await google.colab.kernel.invokeFunction('convertToInteractive',\n",
              "                                                     [key], {});\n",
              "          if (!dataTable) return;\n",
              "\n",
              "          const docLinkHtml = 'Like what you see? Visit the ' +\n",
              "            '<a target=\"_blank\" href=https://colab.research.google.com/notebooks/data_table.ipynb>data table notebook</a>'\n",
              "            + ' to learn more about interactive tables.';\n",
              "          element.innerHTML = '';\n",
              "          dataTable['output_type'] = 'display_data';\n",
              "          await google.colab.output.renderOutput(dataTable, element);\n",
              "          const docLink = document.createElement('div');\n",
              "          docLink.innerHTML = docLinkHtml;\n",
              "          element.appendChild(docLink);\n",
              "        }\n",
              "      </script>\n",
              "    </div>\n",
              "  </div>\n",
              "  "
            ],
            "text/plain": [
              "           Program Name                       Event Title  \\\n",
              "0  High Tech, Uganda MP                              Test   \n",
              "1  High Tech, Uganda MP  Ivy Gray - VBB Mentoring Session   \n",
              "2  High Tech, Uganda MP  Ivy Gray - VBB Mentoring Session   \n",
              "3  High Tech, Uganda MP  Ivy Gray - VBB Mentoring Session   \n",
              "4  High Tech, Uganda MP  Ivy Gray - VBB Mentoring Session   \n",
              "\n",
              "            Event Start UTC             Event End UTC  Calculated Duration  \\\n",
              "0 2022-02-03 16:30:00+00:00 2022-02-03 17:00:00+00:00                  0.5   \n",
              "1 2022-02-04 14:00:00+00:00 2022-02-04 15:00:00+00:00                  1.0   \n",
              "2 2022-02-04 14:00:00+00:00 2022-02-04 15:00:00+00:00                  1.0   \n",
              "3 2022-02-04 14:00:00+00:00 2022-02-04 15:00:00+00:00                  1.0   \n",
              "4 2022-02-04 14:00:00+00:00 2022-02-04 15:00:00+00:00                  1.0   \n",
              "\n",
              "   UTC Day Guest Status                      Created By  Recurring Event  \\\n",
              "0        4      INVITED  mentor@villagebookbuilders.org            False   \n",
              "1        5          YES  mentor@villagebookbuilders.org            False   \n",
              "2        5      INVITED  mentor@villagebookbuilders.org            False   \n",
              "3        5          YES  mentor@villagebookbuilders.org            False   \n",
              "4        5      INVITED  mentor@villagebookbuilders.org            False   \n",
              "\n",
              "            Calendar event ID                   Participant Identifier  \\\n",
              "0  743lcsan6r6p4uaoamu069a275                      tyclark25@gmail.com   \n",
              "1  1f9mq0j68l0ls0supggblr9gel                   ivy.gray@jobnimbus.com   \n",
              "2  1f9mq0j68l0ls0supggblr9gel  joshua.atkinson@villagebookbuilders.org   \n",
              "3  1f9mq0j68l0ls0supggblr9gel       mphightech@villagebookbuilders.org   \n",
              "4  1f9mq0j68l0ls0supggblr9gel        hightech1@villagebookbuilders.org   \n",
              "\n",
              "  String_Date  Attendance  Duration User Type  Missed_2  Missed_3  \n",
              "0  02/03/2022           1         0    Mentor         0         0  \n",
              "1  02/04/2022           1        45    Mentor         0         0  \n",
              "2  02/04/2022           0         0    Mentor         1         0  \n",
              "3  02/04/2022           0         0    Mentee         0         0  \n",
              "4  02/04/2022           1        76    Mentee         0         0  "
            ]
          },
          "metadata": {},
          "execution_count": 596
        }
      ]
    },
    {
      "cell_type": "code",
      "source": [
        "#A productive meeting will be a meeting in which at least one mentor and one mentee attended"
      ],
      "metadata": {
        "id": "RYQXO2iEb2f3"
      },
      "execution_count": 597,
      "outputs": []
    },
    {
      "cell_type": "code",
      "source": [
        "#Get all meetings per day \n",
        "productive_meetings  = calendar_data[['String_Date', 'Calendar event ID', 'Program Name']].drop_duplicates(subset=['String_Date', 'Calendar event ID'])\n",
        "productive_meetings['Productive'] = [0]*len(productive_meetings)"
      ],
      "metadata": {
        "id": "kBK_1M3fFzDU"
      },
      "execution_count": 598,
      "outputs": []
    },
    {
      "cell_type": "code",
      "source": [
        "#For each meeting in each day see if the meeting was productive\n",
        "\n",
        "for index, meeting in productive_meetings.iterrows():\n",
        "  \n",
        "  mentor_attendance = sum(calendar_data[(calendar_data['String_Date'] == meeting['String_Date']) & (calendar_data['Calendar event ID'].str.contains(meeting['Calendar event ID'])) & (calendar_data['User Type'] == 'Mentor')]['Attendance'].tolist())\n",
        "  mentee_attendance = sum(calendar_data[(calendar_data['String_Date'] == meeting['String_Date']) & (calendar_data['Calendar event ID'].str.contains(meeting['Calendar event ID'])) & (calendar_data['User Type'] == 'Mentee')]['Attendance'].tolist())\n",
        "\n",
        "  if(mentor_attendance and mentee_attendance):\n",
        "    productive_meetings['Productive'][index] = 1\n",
        "    "
      ],
      "metadata": {
        "colab": {
          "base_uri": "https://localhost:8080/"
        },
        "id": "iMjBoEw_dNQL",
        "outputId": "75ec3be2-68de-4c0c-ab4c-c54089d5bc4e"
      },
      "execution_count": 599,
      "outputs": [
        {
          "output_type": "stream",
          "name": "stderr",
          "text": [
            "/usr/local/lib/python3.7/dist-packages/ipykernel_launcher.py:9: SettingWithCopyWarning: \n",
            "A value is trying to be set on a copy of a slice from a DataFrame\n",
            "\n",
            "See the caveats in the documentation: https://pandas.pydata.org/pandas-docs/stable/user_guide/indexing.html#returning-a-view-versus-a-copy\n",
            "  if __name__ == '__main__':\n"
          ]
        }
      ]
    },
    {
      "cell_type": "markdown",
      "source": [
        "# STORING PRODUCTIVE MEETINGS"
      ],
      "metadata": {
        "id": "egp3ozWJiCqB"
      }
    },
    {
      "cell_type": "code",
      "source": [
        "#Create data frame and store\n",
        "file_name = 'productive_meetings.csv'\n",
        "productive_meetings.to_csv(file_name, index = False)"
      ],
      "metadata": {
        "id": "mDl-g0QyiGJx"
      },
      "execution_count": 600,
      "outputs": []
    },
    {
      "cell_type": "code",
      "source": [
        "calendar_data.head()"
      ],
      "metadata": {
        "colab": {
          "base_uri": "https://localhost:8080/",
          "height": 548
        },
        "id": "i8bWb7PowdnU",
        "outputId": "41064c65-5b9c-4f0b-d9ca-59142fffa60c"
      },
      "execution_count": 601,
      "outputs": [
        {
          "output_type": "execute_result",
          "data": {
            "text/html": [
              "\n",
              "  <div id=\"df-3a07490d-c630-43e4-be4f-a51f2957519b\">\n",
              "    <div class=\"colab-df-container\">\n",
              "      <div>\n",
              "<style scoped>\n",
              "    .dataframe tbody tr th:only-of-type {\n",
              "        vertical-align: middle;\n",
              "    }\n",
              "\n",
              "    .dataframe tbody tr th {\n",
              "        vertical-align: top;\n",
              "    }\n",
              "\n",
              "    .dataframe thead th {\n",
              "        text-align: right;\n",
              "    }\n",
              "</style>\n",
              "<table border=\"1\" class=\"dataframe\">\n",
              "  <thead>\n",
              "    <tr style=\"text-align: right;\">\n",
              "      <th></th>\n",
              "      <th>Program Name</th>\n",
              "      <th>Event Title</th>\n",
              "      <th>Event Start UTC</th>\n",
              "      <th>Event End UTC</th>\n",
              "      <th>Calculated Duration</th>\n",
              "      <th>UTC Day</th>\n",
              "      <th>Guest Status</th>\n",
              "      <th>Created By</th>\n",
              "      <th>Recurring Event</th>\n",
              "      <th>Calendar event ID</th>\n",
              "      <th>Participant Identifier</th>\n",
              "      <th>String_Date</th>\n",
              "      <th>Attendance</th>\n",
              "      <th>Duration</th>\n",
              "      <th>User Type</th>\n",
              "      <th>Missed_2</th>\n",
              "      <th>Missed_3</th>\n",
              "    </tr>\n",
              "  </thead>\n",
              "  <tbody>\n",
              "    <tr>\n",
              "      <th>0</th>\n",
              "      <td>High Tech, Uganda MP</td>\n",
              "      <td>Test</td>\n",
              "      <td>2022-02-03 16:30:00+00:00</td>\n",
              "      <td>2022-02-03 17:00:00+00:00</td>\n",
              "      <td>0.5</td>\n",
              "      <td>4</td>\n",
              "      <td>INVITED</td>\n",
              "      <td>mentor@villagebookbuilders.org</td>\n",
              "      <td>False</td>\n",
              "      <td>743lcsan6r6p4uaoamu069a275</td>\n",
              "      <td>tyclark25@gmail.com</td>\n",
              "      <td>02/03/2022</td>\n",
              "      <td>1</td>\n",
              "      <td>0</td>\n",
              "      <td>Mentor</td>\n",
              "      <td>0</td>\n",
              "      <td>0</td>\n",
              "    </tr>\n",
              "    <tr>\n",
              "      <th>1</th>\n",
              "      <td>High Tech, Uganda MP</td>\n",
              "      <td>Ivy Gray - VBB Mentoring Session</td>\n",
              "      <td>2022-02-04 14:00:00+00:00</td>\n",
              "      <td>2022-02-04 15:00:00+00:00</td>\n",
              "      <td>1.0</td>\n",
              "      <td>5</td>\n",
              "      <td>YES</td>\n",
              "      <td>mentor@villagebookbuilders.org</td>\n",
              "      <td>False</td>\n",
              "      <td>1f9mq0j68l0ls0supggblr9gel</td>\n",
              "      <td>ivy.gray@jobnimbus.com</td>\n",
              "      <td>02/04/2022</td>\n",
              "      <td>1</td>\n",
              "      <td>45</td>\n",
              "      <td>Mentor</td>\n",
              "      <td>0</td>\n",
              "      <td>0</td>\n",
              "    </tr>\n",
              "    <tr>\n",
              "      <th>2</th>\n",
              "      <td>High Tech, Uganda MP</td>\n",
              "      <td>Ivy Gray - VBB Mentoring Session</td>\n",
              "      <td>2022-02-04 14:00:00+00:00</td>\n",
              "      <td>2022-02-04 15:00:00+00:00</td>\n",
              "      <td>1.0</td>\n",
              "      <td>5</td>\n",
              "      <td>INVITED</td>\n",
              "      <td>mentor@villagebookbuilders.org</td>\n",
              "      <td>False</td>\n",
              "      <td>1f9mq0j68l0ls0supggblr9gel</td>\n",
              "      <td>joshua.atkinson@villagebookbuilders.org</td>\n",
              "      <td>02/04/2022</td>\n",
              "      <td>0</td>\n",
              "      <td>0</td>\n",
              "      <td>Mentor</td>\n",
              "      <td>1</td>\n",
              "      <td>0</td>\n",
              "    </tr>\n",
              "    <tr>\n",
              "      <th>3</th>\n",
              "      <td>High Tech, Uganda MP</td>\n",
              "      <td>Ivy Gray - VBB Mentoring Session</td>\n",
              "      <td>2022-02-04 14:00:00+00:00</td>\n",
              "      <td>2022-02-04 15:00:00+00:00</td>\n",
              "      <td>1.0</td>\n",
              "      <td>5</td>\n",
              "      <td>YES</td>\n",
              "      <td>mentor@villagebookbuilders.org</td>\n",
              "      <td>False</td>\n",
              "      <td>1f9mq0j68l0ls0supggblr9gel</td>\n",
              "      <td>mphightech@villagebookbuilders.org</td>\n",
              "      <td>02/04/2022</td>\n",
              "      <td>0</td>\n",
              "      <td>0</td>\n",
              "      <td>Mentee</td>\n",
              "      <td>0</td>\n",
              "      <td>0</td>\n",
              "    </tr>\n",
              "    <tr>\n",
              "      <th>4</th>\n",
              "      <td>High Tech, Uganda MP</td>\n",
              "      <td>Ivy Gray - VBB Mentoring Session</td>\n",
              "      <td>2022-02-04 14:00:00+00:00</td>\n",
              "      <td>2022-02-04 15:00:00+00:00</td>\n",
              "      <td>1.0</td>\n",
              "      <td>5</td>\n",
              "      <td>INVITED</td>\n",
              "      <td>mentor@villagebookbuilders.org</td>\n",
              "      <td>False</td>\n",
              "      <td>1f9mq0j68l0ls0supggblr9gel</td>\n",
              "      <td>hightech1@villagebookbuilders.org</td>\n",
              "      <td>02/04/2022</td>\n",
              "      <td>1</td>\n",
              "      <td>76</td>\n",
              "      <td>Mentee</td>\n",
              "      <td>0</td>\n",
              "      <td>0</td>\n",
              "    </tr>\n",
              "  </tbody>\n",
              "</table>\n",
              "</div>\n",
              "      <button class=\"colab-df-convert\" onclick=\"convertToInteractive('df-3a07490d-c630-43e4-be4f-a51f2957519b')\"\n",
              "              title=\"Convert this dataframe to an interactive table.\"\n",
              "              style=\"display:none;\">\n",
              "        \n",
              "  <svg xmlns=\"http://www.w3.org/2000/svg\" height=\"24px\"viewBox=\"0 0 24 24\"\n",
              "       width=\"24px\">\n",
              "    <path d=\"M0 0h24v24H0V0z\" fill=\"none\"/>\n",
              "    <path d=\"M18.56 5.44l.94 2.06.94-2.06 2.06-.94-2.06-.94-.94-2.06-.94 2.06-2.06.94zm-11 1L8.5 8.5l.94-2.06 2.06-.94-2.06-.94L8.5 2.5l-.94 2.06-2.06.94zm10 10l.94 2.06.94-2.06 2.06-.94-2.06-.94-.94-2.06-.94 2.06-2.06.94z\"/><path d=\"M17.41 7.96l-1.37-1.37c-.4-.4-.92-.59-1.43-.59-.52 0-1.04.2-1.43.59L10.3 9.45l-7.72 7.72c-.78.78-.78 2.05 0 2.83L4 21.41c.39.39.9.59 1.41.59.51 0 1.02-.2 1.41-.59l7.78-7.78 2.81-2.81c.8-.78.8-2.07 0-2.86zM5.41 20L4 18.59l7.72-7.72 1.47 1.35L5.41 20z\"/>\n",
              "  </svg>\n",
              "      </button>\n",
              "      \n",
              "  <style>\n",
              "    .colab-df-container {\n",
              "      display:flex;\n",
              "      flex-wrap:wrap;\n",
              "      gap: 12px;\n",
              "    }\n",
              "\n",
              "    .colab-df-convert {\n",
              "      background-color: #E8F0FE;\n",
              "      border: none;\n",
              "      border-radius: 50%;\n",
              "      cursor: pointer;\n",
              "      display: none;\n",
              "      fill: #1967D2;\n",
              "      height: 32px;\n",
              "      padding: 0 0 0 0;\n",
              "      width: 32px;\n",
              "    }\n",
              "\n",
              "    .colab-df-convert:hover {\n",
              "      background-color: #E2EBFA;\n",
              "      box-shadow: 0px 1px 2px rgba(60, 64, 67, 0.3), 0px 1px 3px 1px rgba(60, 64, 67, 0.15);\n",
              "      fill: #174EA6;\n",
              "    }\n",
              "\n",
              "    [theme=dark] .colab-df-convert {\n",
              "      background-color: #3B4455;\n",
              "      fill: #D2E3FC;\n",
              "    }\n",
              "\n",
              "    [theme=dark] .colab-df-convert:hover {\n",
              "      background-color: #434B5C;\n",
              "      box-shadow: 0px 1px 3px 1px rgba(0, 0, 0, 0.15);\n",
              "      filter: drop-shadow(0px 1px 2px rgba(0, 0, 0, 0.3));\n",
              "      fill: #FFFFFF;\n",
              "    }\n",
              "  </style>\n",
              "\n",
              "      <script>\n",
              "        const buttonEl =\n",
              "          document.querySelector('#df-3a07490d-c630-43e4-be4f-a51f2957519b button.colab-df-convert');\n",
              "        buttonEl.style.display =\n",
              "          google.colab.kernel.accessAllowed ? 'block' : 'none';\n",
              "\n",
              "        async function convertToInteractive(key) {\n",
              "          const element = document.querySelector('#df-3a07490d-c630-43e4-be4f-a51f2957519b');\n",
              "          const dataTable =\n",
              "            await google.colab.kernel.invokeFunction('convertToInteractive',\n",
              "                                                     [key], {});\n",
              "          if (!dataTable) return;\n",
              "\n",
              "          const docLinkHtml = 'Like what you see? Visit the ' +\n",
              "            '<a target=\"_blank\" href=https://colab.research.google.com/notebooks/data_table.ipynb>data table notebook</a>'\n",
              "            + ' to learn more about interactive tables.';\n",
              "          element.innerHTML = '';\n",
              "          dataTable['output_type'] = 'display_data';\n",
              "          await google.colab.output.renderOutput(dataTable, element);\n",
              "          const docLink = document.createElement('div');\n",
              "          docLink.innerHTML = docLinkHtml;\n",
              "          element.appendChild(docLink);\n",
              "        }\n",
              "      </script>\n",
              "    </div>\n",
              "  </div>\n",
              "  "
            ],
            "text/plain": [
              "           Program Name                       Event Title  \\\n",
              "0  High Tech, Uganda MP                              Test   \n",
              "1  High Tech, Uganda MP  Ivy Gray - VBB Mentoring Session   \n",
              "2  High Tech, Uganda MP  Ivy Gray - VBB Mentoring Session   \n",
              "3  High Tech, Uganda MP  Ivy Gray - VBB Mentoring Session   \n",
              "4  High Tech, Uganda MP  Ivy Gray - VBB Mentoring Session   \n",
              "\n",
              "            Event Start UTC             Event End UTC  Calculated Duration  \\\n",
              "0 2022-02-03 16:30:00+00:00 2022-02-03 17:00:00+00:00                  0.5   \n",
              "1 2022-02-04 14:00:00+00:00 2022-02-04 15:00:00+00:00                  1.0   \n",
              "2 2022-02-04 14:00:00+00:00 2022-02-04 15:00:00+00:00                  1.0   \n",
              "3 2022-02-04 14:00:00+00:00 2022-02-04 15:00:00+00:00                  1.0   \n",
              "4 2022-02-04 14:00:00+00:00 2022-02-04 15:00:00+00:00                  1.0   \n",
              "\n",
              "   UTC Day Guest Status                      Created By  Recurring Event  \\\n",
              "0        4      INVITED  mentor@villagebookbuilders.org            False   \n",
              "1        5          YES  mentor@villagebookbuilders.org            False   \n",
              "2        5      INVITED  mentor@villagebookbuilders.org            False   \n",
              "3        5          YES  mentor@villagebookbuilders.org            False   \n",
              "4        5      INVITED  mentor@villagebookbuilders.org            False   \n",
              "\n",
              "            Calendar event ID                   Participant Identifier  \\\n",
              "0  743lcsan6r6p4uaoamu069a275                      tyclark25@gmail.com   \n",
              "1  1f9mq0j68l0ls0supggblr9gel                   ivy.gray@jobnimbus.com   \n",
              "2  1f9mq0j68l0ls0supggblr9gel  joshua.atkinson@villagebookbuilders.org   \n",
              "3  1f9mq0j68l0ls0supggblr9gel       mphightech@villagebookbuilders.org   \n",
              "4  1f9mq0j68l0ls0supggblr9gel        hightech1@villagebookbuilders.org   \n",
              "\n",
              "  String_Date  Attendance  Duration User Type  Missed_2  Missed_3  \n",
              "0  02/03/2022           1         0    Mentor         0         0  \n",
              "1  02/04/2022           1        45    Mentor         0         0  \n",
              "2  02/04/2022           0         0    Mentor         1         0  \n",
              "3  02/04/2022           0         0    Mentee         0         0  \n",
              "4  02/04/2022           1        76    Mentee         0         0  "
            ]
          },
          "metadata": {},
          "execution_count": 601
        }
      ]
    },
    {
      "cell_type": "markdown",
      "source": [
        "# AVAILABLE PROGRAM SLOTS "
      ],
      "metadata": {
        "id": "C4m9t1YBfVDP"
      }
    },
    {
      "cell_type": "code",
      "source": [
        "#get total sessions by program\n",
        "total_sessions = oracle_data['NAME'].value_counts()\n",
        "total_sessions"
      ],
      "metadata": {
        "id": "zGkX6SeLcYyi",
        "colab": {
          "base_uri": "https://localhost:8080/",
          "height": 200
        },
        "outputId": "36b79b6b-8db2-4915-a87a-4f7851ea36b3"
      },
      "execution_count": 602,
      "outputs": [
        {
          "output_type": "error",
          "ename": "TypeError",
          "evalue": "ignored",
          "traceback": [
            "\u001b[0;31m---------------------------------------------------------------------------\u001b[0m",
            "\u001b[0;31mTypeError\u001b[0m                                 Traceback (most recent call last)",
            "\u001b[0;32m<ipython-input-602-65fb22442fbf>\u001b[0m in \u001b[0;36m<module>\u001b[0;34m()\u001b[0m\n\u001b[1;32m      1\u001b[0m \u001b[0;31m#get total sessions by program\u001b[0m\u001b[0;34m\u001b[0m\u001b[0;34m\u001b[0m\u001b[0;34m\u001b[0m\u001b[0m\n\u001b[0;32m----> 2\u001b[0;31m \u001b[0mtotal_sessions\u001b[0m \u001b[0;34m=\u001b[0m \u001b[0moracle_data\u001b[0m\u001b[0;34m[\u001b[0m\u001b[0;34m'NAME'\u001b[0m\u001b[0;34m]\u001b[0m\u001b[0;34m.\u001b[0m\u001b[0mvalue_counts\u001b[0m\u001b[0;34m(\u001b[0m\u001b[0;34m)\u001b[0m\u001b[0;34m\u001b[0m\u001b[0;34m\u001b[0m\u001b[0m\n\u001b[0m\u001b[1;32m      3\u001b[0m \u001b[0mtotal_sessions\u001b[0m\u001b[0;34m\u001b[0m\u001b[0;34m\u001b[0m\u001b[0m\n",
            "\u001b[0;31mTypeError\u001b[0m: 'int' object is not subscriptable"
          ]
        }
      ]
    },
    {
      "cell_type": "code",
      "source": [
        "#get count of active sessions\n",
        "#taken_sessions = active_sessions['NAME'].value_counts()\n",
        "#taken_sessions"
      ],
      "metadata": {
        "id": "XcJwh_eqbaM7"
      },
      "execution_count": null,
      "outputs": []
    },
    {
      "cell_type": "code",
      "source": [
        "# available_sessions = total_sessions - taken_sessions\n",
        "# available_sessions"
      ],
      "metadata": {
        "id": "2xym8bYwePs_"
      },
      "execution_count": null,
      "outputs": []
    }
  ]
}