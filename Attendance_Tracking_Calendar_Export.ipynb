{
  "nbformat": 4,
  "nbformat_minor": 0,
  "metadata": {
    "colab": {
      "name": "Attendance Tracking Calendar Export",
      "provenance": [],
      "collapsed_sections": [],
      "toc_visible": true,
      "include_colab_link": true
    },
    "kernelspec": {
      "name": "python3",
      "display_name": "Python 3"
    },
    "language_info": {
      "name": "python"
    }
  },
  "cells": [
    {
      "cell_type": "markdown",
      "metadata": {
        "id": "view-in-github",
        "colab_type": "text"
      },
      "source": [
        "<a href=\"https://colab.research.google.com/github/AleemKhan12/AleemKhan12/blob/calendar_data_algorithm/Attendance_Tracking_Calendar_Export.ipynb\" target=\"_parent\"><img src=\"https://colab.research.google.com/assets/colab-badge.svg\" alt=\"Open In Colab\"/></a>"
      ]
    },
    {
      "cell_type": "code",
      "execution_count": null,
      "metadata": {
        "id": "3bZwK5KysB9X",
        "colab": {
          "base_uri": "https://localhost:8080/",
          "height": 35
        },
        "outputId": "088a1571-3b46-4526-dcf6-e8703fef32b0"
      },
      "outputs": [
        {
          "output_type": "execute_result",
          "data": {
            "application/vnd.google.colaboratory.intrinsic+json": {
              "type": "string"
            },
            "text/plain": [
              "'\\nISSUES\\n1.\\n\\n'"
            ]
          },
          "metadata": {},
          "execution_count": 4
        }
      ],
      "source": [
        "#Attendance Tracking by using Calendar and Audit Log Data\n",
        "\n",
        "#Revision notes V0.8: Created new schema (Schema 2) for easier visualization \n",
        "\n",
        "'''\n",
        "ISSUES\n",
        "1.\n",
        "\n",
        "'''\n"
      ]
    },
    {
      "cell_type": "markdown",
      "source": [
        "# CONNECTING TO GOOGLE DRIVE"
      ],
      "metadata": {
        "id": "-e30JtYkfes_"
      }
    },
    {
      "cell_type": "code",
      "source": [
        "#connect colab to drive\n",
        "\n",
        "from google.colab import drive\n",
        "from oauth2client.client import GoogleCredentials\n",
        "from google.colab import auth\n",
        "import gspread\n",
        "drive.mount('/content/gdrive')\n",
        "auth.authenticate_user()\n",
        "gc = gspread.authorize(GoogleCredentials.get_application_default())\n"
      ],
      "metadata": {
        "colab": {
          "base_uri": "https://localhost:8080/"
        },
        "id": "kSWZfJ6tsNA6",
        "outputId": "d72ea645-8db0-4a5a-998c-e4c2d81dd84d"
      },
      "execution_count": null,
      "outputs": [
        {
          "output_type": "stream",
          "name": "stdout",
          "text": [
            "Drive already mounted at /content/gdrive; to attempt to forcibly remount, call drive.mount(\"/content/gdrive\", force_remount=True).\n"
          ]
        }
      ]
    },
    {
      "cell_type": "code",
      "source": [
        "#Imports\n",
        "import pandas as pd\n",
        "from datetime import date, timedelta\n",
        "import pytz\n",
        "from numpy.core.numeric import NaN\n",
        "import datetime\n",
        "import math\n",
        "\n"
      ],
      "metadata": {
        "id": "WhFJN5LatFdd"
      },
      "execution_count": null,
      "outputs": []
    },
    {
      "cell_type": "code",
      "source": [
        "pytz.all_timezones"
      ],
      "metadata": {
        "colab": {
          "base_uri": "https://localhost:8080/"
        },
        "id": "iAuOEF7ZZEZq",
        "outputId": "eed5da20-43f2-45d3-a3d1-61ae878928cd"
      },
      "execution_count": null,
      "outputs": [
        {
          "output_type": "execute_result",
          "data": {
            "text/plain": [
              "['Africa/Abidjan', 'Africa/Accra', 'Africa/Addis_Ababa', 'Africa/Algiers', 'Africa/Asmara', 'Africa/Asmera', 'Africa/Bamako', 'Africa/Bangui', 'Africa/Banjul', 'Africa/Bissau', 'Africa/Blantyre', 'Africa/Brazzaville', 'Africa/Bujumbura', 'Africa/Cairo', 'Africa/Casablanca', 'Africa/Ceuta', 'Africa/Conakry', 'Africa/Dakar', 'Africa/Dar_es_Salaam', 'Africa/Djibouti', 'Africa/Douala', 'Africa/El_Aaiun', 'Africa/Freetown', 'Africa/Gaborone', 'Africa/Harare', 'Africa/Johannesburg', 'Africa/Juba', 'Africa/Kampala', 'Africa/Khartoum', 'Africa/Kigali', 'Africa/Kinshasa', 'Africa/Lagos', 'Africa/Libreville', 'Africa/Lome', 'Africa/Luanda', 'Africa/Lubumbashi', 'Africa/Lusaka', 'Africa/Malabo', 'Africa/Maputo', 'Africa/Maseru', 'Africa/Mbabane', 'Africa/Mogadishu', 'Africa/Monrovia', 'Africa/Nairobi', 'Africa/Ndjamena', 'Africa/Niamey', 'Africa/Nouakchott', 'Africa/Ouagadougou', 'Africa/Porto-Novo', 'Africa/Sao_Tome', 'Africa/Timbuktu', 'Africa/Tripoli', 'Africa/Tunis', 'Africa/Windhoek', 'America/Adak', 'America/Anchorage', 'America/Anguilla', 'America/Antigua', 'America/Araguaina', 'America/Argentina/Buenos_Aires', 'America/Argentina/Catamarca', 'America/Argentina/ComodRivadavia', 'America/Argentina/Cordoba', 'America/Argentina/Jujuy', 'America/Argentina/La_Rioja', 'America/Argentina/Mendoza', 'America/Argentina/Rio_Gallegos', 'America/Argentina/Salta', 'America/Argentina/San_Juan', 'America/Argentina/San_Luis', 'America/Argentina/Tucuman', 'America/Argentina/Ushuaia', 'America/Aruba', 'America/Asuncion', 'America/Atikokan', 'America/Atka', 'America/Bahia', 'America/Bahia_Banderas', 'America/Barbados', 'America/Belem', 'America/Belize', 'America/Blanc-Sablon', 'America/Boa_Vista', 'America/Bogota', 'America/Boise', 'America/Buenos_Aires', 'America/Cambridge_Bay', 'America/Campo_Grande', 'America/Cancun', 'America/Caracas', 'America/Catamarca', 'America/Cayenne', 'America/Cayman', 'America/Chicago', 'America/Chihuahua', 'America/Coral_Harbour', 'America/Cordoba', 'America/Costa_Rica', 'America/Creston', 'America/Cuiaba', 'America/Curacao', 'America/Danmarkshavn', 'America/Dawson', 'America/Dawson_Creek', 'America/Denver', 'America/Detroit', 'America/Dominica', 'America/Edmonton', 'America/Eirunepe', 'America/El_Salvador', 'America/Ensenada', 'America/Fort_Nelson', 'America/Fort_Wayne', 'America/Fortaleza', 'America/Glace_Bay', 'America/Godthab', 'America/Goose_Bay', 'America/Grand_Turk', 'America/Grenada', 'America/Guadeloupe', 'America/Guatemala', 'America/Guayaquil', 'America/Guyana', 'America/Halifax', 'America/Havana', 'America/Hermosillo', 'America/Indiana/Indianapolis', 'America/Indiana/Knox', 'America/Indiana/Marengo', 'America/Indiana/Petersburg', 'America/Indiana/Tell_City', 'America/Indiana/Vevay', 'America/Indiana/Vincennes', 'America/Indiana/Winamac', 'America/Indianapolis', 'America/Inuvik', 'America/Iqaluit', 'America/Jamaica', 'America/Jujuy', 'America/Juneau', 'America/Kentucky/Louisville', 'America/Kentucky/Monticello', 'America/Knox_IN', 'America/Kralendijk', 'America/La_Paz', 'America/Lima', 'America/Los_Angeles', 'America/Louisville', 'America/Lower_Princes', 'America/Maceio', 'America/Managua', 'America/Manaus', 'America/Marigot', 'America/Martinique', 'America/Matamoros', 'America/Mazatlan', 'America/Mendoza', 'America/Menominee', 'America/Merida', 'America/Metlakatla', 'America/Mexico_City', 'America/Miquelon', 'America/Moncton', 'America/Monterrey', 'America/Montevideo', 'America/Montreal', 'America/Montserrat', 'America/Nassau', 'America/New_York', 'America/Nipigon', 'America/Nome', 'America/Noronha', 'America/North_Dakota/Beulah', 'America/North_Dakota/Center', 'America/North_Dakota/New_Salem', 'America/Ojinaga', 'America/Panama', 'America/Pangnirtung', 'America/Paramaribo', 'America/Phoenix', 'America/Port-au-Prince', 'America/Port_of_Spain', 'America/Porto_Acre', 'America/Porto_Velho', 'America/Puerto_Rico', 'America/Punta_Arenas', 'America/Rainy_River', 'America/Rankin_Inlet', 'America/Recife', 'America/Regina', 'America/Resolute', 'America/Rio_Branco', 'America/Rosario', 'America/Santa_Isabel', 'America/Santarem', 'America/Santiago', 'America/Santo_Domingo', 'America/Sao_Paulo', 'America/Scoresbysund', 'America/Shiprock', 'America/Sitka', 'America/St_Barthelemy', 'America/St_Johns', 'America/St_Kitts', 'America/St_Lucia', 'America/St_Thomas', 'America/St_Vincent', 'America/Swift_Current', 'America/Tegucigalpa', 'America/Thule', 'America/Thunder_Bay', 'America/Tijuana', 'America/Toronto', 'America/Tortola', 'America/Vancouver', 'America/Virgin', 'America/Whitehorse', 'America/Winnipeg', 'America/Yakutat', 'America/Yellowknife', 'Antarctica/Casey', 'Antarctica/Davis', 'Antarctica/DumontDUrville', 'Antarctica/Macquarie', 'Antarctica/Mawson', 'Antarctica/McMurdo', 'Antarctica/Palmer', 'Antarctica/Rothera', 'Antarctica/South_Pole', 'Antarctica/Syowa', 'Antarctica/Troll', 'Antarctica/Vostok', 'Arctic/Longyearbyen', 'Asia/Aden', 'Asia/Almaty', 'Asia/Amman', 'Asia/Anadyr', 'Asia/Aqtau', 'Asia/Aqtobe', 'Asia/Ashgabat', 'Asia/Ashkhabad', 'Asia/Atyrau', 'Asia/Baghdad', 'Asia/Bahrain', 'Asia/Baku', 'Asia/Bangkok', 'Asia/Barnaul', 'Asia/Beirut', 'Asia/Bishkek', 'Asia/Brunei', 'Asia/Calcutta', 'Asia/Chita', 'Asia/Choibalsan', 'Asia/Chongqing', 'Asia/Chungking', 'Asia/Colombo', 'Asia/Dacca', 'Asia/Damascus', 'Asia/Dhaka', 'Asia/Dili', 'Asia/Dubai', 'Asia/Dushanbe', 'Asia/Famagusta', 'Asia/Gaza', 'Asia/Harbin', 'Asia/Hebron', 'Asia/Ho_Chi_Minh', 'Asia/Hong_Kong', 'Asia/Hovd', 'Asia/Irkutsk', 'Asia/Istanbul', 'Asia/Jakarta', 'Asia/Jayapura', 'Asia/Jerusalem', 'Asia/Kabul', 'Asia/Kamchatka', 'Asia/Karachi', 'Asia/Kashgar', 'Asia/Kathmandu', 'Asia/Katmandu', 'Asia/Khandyga', 'Asia/Kolkata', 'Asia/Krasnoyarsk', 'Asia/Kuala_Lumpur', 'Asia/Kuching', 'Asia/Kuwait', 'Asia/Macao', 'Asia/Macau', 'Asia/Magadan', 'Asia/Makassar', 'Asia/Manila', 'Asia/Muscat', 'Asia/Nicosia', 'Asia/Novokuznetsk', 'Asia/Novosibirsk', 'Asia/Omsk', 'Asia/Oral', 'Asia/Phnom_Penh', 'Asia/Pontianak', 'Asia/Pyongyang', 'Asia/Qatar', 'Asia/Qostanay', 'Asia/Qyzylorda', 'Asia/Rangoon', 'Asia/Riyadh', 'Asia/Saigon', 'Asia/Sakhalin', 'Asia/Samarkand', 'Asia/Seoul', 'Asia/Shanghai', 'Asia/Singapore', 'Asia/Srednekolymsk', 'Asia/Taipei', 'Asia/Tashkent', 'Asia/Tbilisi', 'Asia/Tehran', 'Asia/Tel_Aviv', 'Asia/Thimbu', 'Asia/Thimphu', 'Asia/Tokyo', 'Asia/Tomsk', 'Asia/Ujung_Pandang', 'Asia/Ulaanbaatar', 'Asia/Ulan_Bator', 'Asia/Urumqi', 'Asia/Ust-Nera', 'Asia/Vientiane', 'Asia/Vladivostok', 'Asia/Yakutsk', 'Asia/Yangon', 'Asia/Yekaterinburg', 'Asia/Yerevan', 'Atlantic/Azores', 'Atlantic/Bermuda', 'Atlantic/Canary', 'Atlantic/Cape_Verde', 'Atlantic/Faeroe', 'Atlantic/Faroe', 'Atlantic/Jan_Mayen', 'Atlantic/Madeira', 'Atlantic/Reykjavik', 'Atlantic/South_Georgia', 'Atlantic/St_Helena', 'Atlantic/Stanley', 'Australia/ACT', 'Australia/Adelaide', 'Australia/Brisbane', 'Australia/Broken_Hill', 'Australia/Canberra', 'Australia/Currie', 'Australia/Darwin', 'Australia/Eucla', 'Australia/Hobart', 'Australia/LHI', 'Australia/Lindeman', 'Australia/Lord_Howe', 'Australia/Melbourne', 'Australia/NSW', 'Australia/North', 'Australia/Perth', 'Australia/Queensland', 'Australia/South', 'Australia/Sydney', 'Australia/Tasmania', 'Australia/Victoria', 'Australia/West', 'Australia/Yancowinna', 'Brazil/Acre', 'Brazil/DeNoronha', 'Brazil/East', 'Brazil/West', 'CET', 'CST6CDT', 'Canada/Atlantic', 'Canada/Central', 'Canada/Eastern', 'Canada/Mountain', 'Canada/Newfoundland', 'Canada/Pacific', 'Canada/Saskatchewan', 'Canada/Yukon', 'Chile/Continental', 'Chile/EasterIsland', 'Cuba', 'EET', 'EST', 'EST5EDT', 'Egypt', 'Eire', 'Etc/GMT', 'Etc/GMT+0', 'Etc/GMT+1', 'Etc/GMT+10', 'Etc/GMT+11', 'Etc/GMT+12', 'Etc/GMT+2', 'Etc/GMT+3', 'Etc/GMT+4', 'Etc/GMT+5', 'Etc/GMT+6', 'Etc/GMT+7', 'Etc/GMT+8', 'Etc/GMT+9', 'Etc/GMT-0', 'Etc/GMT-1', 'Etc/GMT-10', 'Etc/GMT-11', 'Etc/GMT-12', 'Etc/GMT-13', 'Etc/GMT-14', 'Etc/GMT-2', 'Etc/GMT-3', 'Etc/GMT-4', 'Etc/GMT-5', 'Etc/GMT-6', 'Etc/GMT-7', 'Etc/GMT-8', 'Etc/GMT-9', 'Etc/GMT0', 'Etc/Greenwich', 'Etc/UCT', 'Etc/UTC', 'Etc/Universal', 'Etc/Zulu', 'Europe/Amsterdam', 'Europe/Andorra', 'Europe/Astrakhan', 'Europe/Athens', 'Europe/Belfast', 'Europe/Belgrade', 'Europe/Berlin', 'Europe/Bratislava', 'Europe/Brussels', 'Europe/Bucharest', 'Europe/Budapest', 'Europe/Busingen', 'Europe/Chisinau', 'Europe/Copenhagen', 'Europe/Dublin', 'Europe/Gibraltar', 'Europe/Guernsey', 'Europe/Helsinki', 'Europe/Isle_of_Man', 'Europe/Istanbul', 'Europe/Jersey', 'Europe/Kaliningrad', 'Europe/Kiev', 'Europe/Kirov', 'Europe/Lisbon', 'Europe/Ljubljana', 'Europe/London', 'Europe/Luxembourg', 'Europe/Madrid', 'Europe/Malta', 'Europe/Mariehamn', 'Europe/Minsk', 'Europe/Monaco', 'Europe/Moscow', 'Europe/Nicosia', 'Europe/Oslo', 'Europe/Paris', 'Europe/Podgorica', 'Europe/Prague', 'Europe/Riga', 'Europe/Rome', 'Europe/Samara', 'Europe/San_Marino', 'Europe/Sarajevo', 'Europe/Saratov', 'Europe/Simferopol', 'Europe/Skopje', 'Europe/Sofia', 'Europe/Stockholm', 'Europe/Tallinn', 'Europe/Tirane', 'Europe/Tiraspol', 'Europe/Ulyanovsk', 'Europe/Uzhgorod', 'Europe/Vaduz', 'Europe/Vatican', 'Europe/Vienna', 'Europe/Vilnius', 'Europe/Volgograd', 'Europe/Warsaw', 'Europe/Zagreb', 'Europe/Zaporozhye', 'Europe/Zurich', 'GB', 'GB-Eire', 'GMT', 'GMT+0', 'GMT-0', 'GMT0', 'Greenwich', 'HST', 'Hongkong', 'Iceland', 'Indian/Antananarivo', 'Indian/Chagos', 'Indian/Christmas', 'Indian/Cocos', 'Indian/Comoro', 'Indian/Kerguelen', 'Indian/Mahe', 'Indian/Maldives', 'Indian/Mauritius', 'Indian/Mayotte', 'Indian/Reunion', 'Iran', 'Israel', 'Jamaica', 'Japan', 'Kwajalein', 'Libya', 'MET', 'MST', 'MST7MDT', 'Mexico/BajaNorte', 'Mexico/BajaSur', 'Mexico/General', 'NZ', 'NZ-CHAT', 'Navajo', 'PRC', 'PST8PDT', 'Pacific/Apia', 'Pacific/Auckland', 'Pacific/Bougainville', 'Pacific/Chatham', 'Pacific/Chuuk', 'Pacific/Easter', 'Pacific/Efate', 'Pacific/Enderbury', 'Pacific/Fakaofo', 'Pacific/Fiji', 'Pacific/Funafuti', 'Pacific/Galapagos', 'Pacific/Gambier', 'Pacific/Guadalcanal', 'Pacific/Guam', 'Pacific/Honolulu', 'Pacific/Johnston', 'Pacific/Kiritimati', 'Pacific/Kosrae', 'Pacific/Kwajalein', 'Pacific/Majuro', 'Pacific/Marquesas', 'Pacific/Midway', 'Pacific/Nauru', 'Pacific/Niue', 'Pacific/Norfolk', 'Pacific/Noumea', 'Pacific/Pago_Pago', 'Pacific/Palau', 'Pacific/Pitcairn', 'Pacific/Pohnpei', 'Pacific/Ponape', 'Pacific/Port_Moresby', 'Pacific/Rarotonga', 'Pacific/Saipan', 'Pacific/Samoa', 'Pacific/Tahiti', 'Pacific/Tarawa', 'Pacific/Tongatapu', 'Pacific/Truk', 'Pacific/Wake', 'Pacific/Wallis', 'Pacific/Yap', 'Poland', 'Portugal', 'ROC', 'ROK', 'Singapore', 'Turkey', 'UCT', 'US/Alaska', 'US/Aleutian', 'US/Arizona', 'US/Central', 'US/East-Indiana', 'US/Eastern', 'US/Hawaii', 'US/Indiana-Starke', 'US/Michigan', 'US/Mountain', 'US/Pacific', 'US/Samoa', 'UTC', 'Universal', 'W-SU', 'WET', 'Zulu']"
            ]
          },
          "metadata": {},
          "execution_count": 7
        }
      ]
    },
    {
      "cell_type": "markdown",
      "source": [
        "#IMPORTANT GLOBAL VARIABLES"
      ],
      "metadata": {
        "id": "JxViOjjIYCAK"
      }
    },
    {
      "cell_type": "code",
      "source": [
        "mentor_email = 'mentor@villagebookbuilders.org' #Mentor program email address\n",
        "oracle_data       = 0                           #Data read from Oracle Database SQL Query\n",
        "google_data       = 0                           #Data read from Google Audit Log\n",
        "active_sessions   = 0                           #Active sessions recorded in Oracle db based on end date\n",
        "total_mentors     = 0                           #List of all mentors names in oracle db\n",
        "oracle_mentor_emails = []                       #list of all mentor emails in oracle db\n",
        "active_mentors    = 0                           #Mentor names that joined at least one session \n",
        "active_mentor_emails = []                       #List of mentor emails that joined at least one session\n",
        "mentor_programs   = []                          #Names of all mentor programs stored in oracle database\n",
        "mentors_not_registered = []                     #Names of all active mentors not logged in oracle database\n",
        "time_zone = 'America/Port_of_Spain'                         #google_data['Date'][1][len(google_data['Date'][1])-3:] #TODO: change this hard coded time zone\n",
        "start = 0                                       #start date\n",
        "end = 0                                         #end date\n",
        "program_director_name = ['adeiso ghana', 'ahero kenya', 'biwi, malawi vbb mentor program', 'charity centre, zambia vbb mentor program', 'chebosi kenya', 'kadzakalowa malawi', 'maragoli kenya', 'mukono uganda', 'vima ghana'] #Actor names of program director accounts"
      ],
      "metadata": {
        "id": "l3A_o3ChYGG2"
      },
      "execution_count": null,
      "outputs": []
    },
    {
      "cell_type": "markdown",
      "source": [
        "# READING DATA SOURCES"
      ],
      "metadata": {
        "id": "B1NVU9iPfnsp"
      }
    },
    {
      "cell_type": "code",
      "source": [
        "#Read Data Sources as pandas data frames\n",
        "\n",
        "#Calendar Data\n",
        "sheet_url = 'https://docs.google.com/spreadsheets/d/15kIgWb-TZpWIYmLnAJkdYQ472Luo5q6_SVrif2UNDl4/edit#gid=0'\n",
        "calendar_path = sheet_url.replace('/edit#gid=', '/export?format=csv&gid=')\n",
        "#calendar_path = '/content/gdrive/MyDrive/Projects/Mentor_Dashboard_V2/3. Execution/SRC Code/Data/Calendar Data Export/Calendar Export UTC - Sheet1.csv' \n",
        "calendar_data = pd.read_csv(calendar_path, on_bad_lines='skip')\n",
        "\n",
        "#Google Data\n",
        "# sheet_url = 'https://docs.google.com/spreadsheets/d/1GdKFu6uT0CtYFYdDUH3hBK9InKQc2pbLnb-KF7R2lyQ/edit?usp=sharing'\n",
        "# google_path = sheet_url.replace('/edit#gid=', '/export?format=csv&gid=')\n",
        "google_path = '/content/gdrive/MyDrive/Projects/Mentor_Dashboard_V2/3. Execution/SRC Code/Data/Google Audit Log/March 2022/3_5_2022.csv'\n",
        "google_data = pd.read_csv(google_path, on_bad_lines='skip')\n",
        "\n",
        "\n",
        "#Mentee Computer Emails\n",
        "sheet_url = 'https://docs.google.com/spreadsheets/d/1JcJ99pX-pjMTCkFrLwjpaCJ_1FcJ2xZ7UqgBJHGFl9I/edit#gid=925063253'\n",
        "mentee_email_path = sheet_url.replace('/edit#gid=', '/export?format=csv&gid=')\n",
        "#mentee_email_path = '/content/gdrive/MyDrive/Projects/Mentor_Dashboard_V2/3. Execution/SRC Code/Data/mentee email/Copy of Village Library Information - computer email.csv'\n",
        "mentee_computer_emails = pd.read_csv(mentee_email_path, on_bad_lines='skip')\n",
        "\n",
        "#Corporate Parners\n",
        "sheet_url = 'https://docs.google.com/spreadsheets/d/1K9FtfVv-lzU0eQE4V27Qdb3zuj2t9d-WOxs2ZAA04kw/edit#gid=0'\n",
        "corporate_partners_path = sheet_url.replace('/edit#gid=', '/export?format=csv&gid=')\n",
        "#corporate_partners_path = '/content/gdrive/MyDrive/Projects/Mentor_Dashboard_V2/3. Execution/SRC Code/Data/Corporate Organizations/Corporate Partners.csv'\n",
        "corporate_partners = pd.read_csv(corporate_partners_path, on_bad_lines='skip')\n",
        "\n"
      ],
      "metadata": {
        "id": "ti3RqFW5uRou"
      },
      "execution_count": null,
      "outputs": []
    },
    {
      "cell_type": "code",
      "source": [
        "print(calendar_data.shape, google_data.shape, mentee_computer_emails.shape, corporate_partners.shape)"
      ],
      "metadata": {
        "colab": {
          "base_uri": "https://localhost:8080/"
        },
        "id": "g1SxDj2NbH2Q",
        "outputId": "a2e74736-8585-46a5-c300-013546d9d851"
      },
      "execution_count": null,
      "outputs": [
        {
          "output_type": "stream",
          "name": "stdout",
          "text": [
            "(8065, 11) (13621, 64) (132, 2) (3, 2)\n"
          ]
        }
      ]
    },
    {
      "cell_type": "markdown",
      "source": [
        "\n",
        "# CLEANING DATA"
      ],
      "metadata": {
        "id": "dx1dhULnfsJF"
      }
    },
    {
      "cell_type": "code",
      "source": [
        "\n",
        "#Calendar Data\n",
        "calendar_data = calendar_data.dropna() #remove all empty sessions\n",
        "calendar_data = calendar_data.drop_duplicates()\n",
        "\n",
        "#Google Data\n",
        "google_data = google_data.dropna(subset=['Date', 'Meeting code', 'Participant Identifier', 'Organizer email', 'Duration', 'Actor name', 'Calendar event ID']) #clean google data\n",
        "google_data = google_data.drop_duplicates()\n",
        "google_data = google_data[google_data['Duration'] > 0] #drop all calls with 0 duration\n",
        "google_data = google_data[google_data['Organizer email'] == mentor_email] #only consider mentor sessions\n",
        "google_data = google_data[google_data['Actor name'] != 'Mentor Program'] #drop all entries for mentor program\n",
        "\n",
        "#Mentee Email data\n",
        "mentee_computer_emails = mentee_computer_emails.dropna()\n",
        "\n",
        "#Corporate Parner data\n",
        "corporate_partners = corporate_partners.dropna()"
      ],
      "metadata": {
        "id": "ZV2uWWJafEtR"
      },
      "execution_count": null,
      "outputs": []
    },
    {
      "cell_type": "code",
      "source": [
        "print(google_data.shape, calendar_data.shape)"
      ],
      "metadata": {
        "colab": {
          "base_uri": "https://localhost:8080/"
        },
        "id": "hZ6eWiC9kK7a",
        "outputId": "2dd3bb26-88cc-496e-a209-ebc33c62178e"
      },
      "execution_count": null,
      "outputs": [
        {
          "output_type": "stream",
          "name": "stdout",
          "text": [
            "(9482, 64) (8065, 11)\n"
          ]
        }
      ]
    },
    {
      "cell_type": "code",
      "source": [
        "#DATE CONVERSIONS\n",
        "#Only run this once. Running more times will cause an error. To fix re-read data sources\n",
        "def conv_to_datetime(a):\n",
        "  utc_timezone = pytz.timezone('UTC')\n",
        "  if isinstance(a, datetime.date):\n",
        "    return a\n",
        "  try:\n",
        "    #Convert calendar export dates\n",
        "    date = datetime.datetime.strptime(a, '%m/%d/%Y %H:%M:%S')\n",
        "    date = date.replace(tzinfo = pytz.timezone('UTC')) \n",
        "    return date\n",
        "  except:\n",
        "    try:\n",
        "      #Convert Audit log dates \n",
        "      date = datetime.datetime.strptime(a, '%b %d, %Y, %I:%M:%S %p')\n",
        "      date = date.replace(tzinfo = pytz.timezone(time_zone)) \n",
        "      date = date.astimezone(utc_timezone) #convert all times to UTC\n",
        "      return  date\n",
        "    except:\n",
        "      date = datetime.datetime.strptime('', '')\n",
        "      date = date.replace(tzinfo = utc_timezone)\n",
        "      return date\n",
        "\n"
      ],
      "metadata": {
        "id": "_dfBR_DQcLEG"
      },
      "execution_count": null,
      "outputs": []
    },
    {
      "cell_type": "code",
      "source": [
        "#converting calendar dates to datetime objs\n",
        "calendar_data['Event Start UTC'] = calendar_data['Event Start UTC'].apply(conv_to_datetime)\n",
        "calendar_data['Event End UTC'] = calendar_data['Event End UTC'].apply(conv_to_datetime)\n",
        "\n"
      ],
      "metadata": {
        "id": "Z6ZxJul9orkg"
      },
      "execution_count": null,
      "outputs": []
    },
    {
      "cell_type": "code",
      "source": [
        "#Convert google dates to datetime UTC\n",
        "google_data['Date'] = google_data['Date'].apply(lambda x: x[:len(x)-4]) #remove time zone\n",
        "google_data['Date'] = google_data['Date'].apply(conv_to_datetime)"
      ],
      "metadata": {
        "id": "uKItSRAvj47X"
      },
      "execution_count": null,
      "outputs": []
    },
    {
      "cell_type": "code",
      "source": [
        "#Create new column with just dates\n",
        "google_data['String_Date'] = google_data['Date'].apply(lambda x: x.strftime(\"%m/%d/%Y\"))\n",
        "calendar_data['String_Date'] = calendar_data['Event Start UTC'].apply(lambda x: x.strftime(\"%m/%d/%Y\"))"
      ],
      "metadata": {
        "id": "CF2vCaz8j4Vl"
      },
      "execution_count": null,
      "outputs": []
    },
    {
      "cell_type": "code",
      "source": [
        "#lower participant emails for accurate searches\n",
        "google_data['Participant Identifier'] = google_data['Participant Identifier'].apply(lambda x: x.lower())\n",
        "calendar_data['Participant Identifier'] = calendar_data['Participant Identifier'].apply(lambda x: x.lower())"
      ],
      "metadata": {
        "id": "z-QA2l-kcGGa"
      },
      "execution_count": null,
      "outputs": []
    },
    {
      "cell_type": "code",
      "source": [
        "#Drop duplicate sessions caused by people signing in from various devices at the same time\n",
        "google_data = google_data.drop_duplicates(subset = ['Participant Identifier', 'Calendar event ID', 'String_Date'])"
      ],
      "metadata": {
        "id": "-z3SBDLFQP5m"
      },
      "execution_count": null,
      "outputs": []
    },
    {
      "cell_type": "code",
      "source": [
        "#list of mentee computer emails\n",
        "mentee_computer_emails_list = mentee_computer_emails['COMPUTER_EMAIL'].tolist()"
      ],
      "metadata": {
        "id": "UzIap4V-RxoF"
      },
      "execution_count": null,
      "outputs": []
    },
    {
      "cell_type": "code",
      "source": [
        "#list of corporate partner email identifiers\n",
        "corporate_email_list = corporate_partners['Email Identifier'].tolist()"
      ],
      "metadata": {
        "id": "SnQEZOeBheci"
      },
      "execution_count": null,
      "outputs": []
    },
    {
      "cell_type": "markdown",
      "source": [
        "#DATE RANGES"
      ],
      "metadata": {
        "id": "hX82uYWoX0qf"
      }
    },
    {
      "cell_type": "code",
      "source": [
        "#Today's date\n",
        "today_date = datetime.datetime.today().replace(tzinfo = pytz.timezone(time_zone))\n",
        "\n",
        "#Start and end dates for schema 1\n",
        "dates_list = sorted(google_data['Date'].tolist())\n",
        "start1, end1 = dates_list[0], dates_list[-1] \n",
        "\n",
        "#Start and end dates for schema 2\n",
        "end, start = datetime.datetime(2022, 2, 27).astimezone(pytz.timezone(\"utc\")), datetime.datetime(2022, 3, 5).astimezone(pytz.timezone(\"utc\"))\n",
        "\n"
      ],
      "metadata": {
        "id": "Y55mCcMGrw_B"
      },
      "execution_count": null,
      "outputs": []
    },
    {
      "cell_type": "code",
      "source": [
        "print(start1, end1)\n",
        "print(start, end)"
      ],
      "metadata": {
        "colab": {
          "base_uri": "https://localhost:8080/"
        },
        "id": "_TF_7t6dkN-_",
        "outputId": "5cd01f4a-3eb3-4a57-d736-266523549e5f"
      },
      "execution_count": null,
      "outputs": [
        {
          "output_type": "stream",
          "name": "stdout",
          "text": [
            "2021-09-07 11:09:41+00:00 2022-03-05 18:26:28+00:00\n",
            "2022-03-05 00:00:00+00:00 2022-02-27 00:00:00+00:00\n"
          ]
        }
      ]
    },
    {
      "cell_type": "markdown",
      "source": [
        "#ATTENDANCE AND DURATION TRACKING "
      ],
      "metadata": {
        "id": "NS6R-QbVbruy"
      }
    },
    {
      "cell_type": "code",
      "source": [
        "corporate_partners.head()"
      ],
      "metadata": {
        "colab": {
          "base_uri": "https://localhost:8080/",
          "height": 143
        },
        "id": "Cw9UF3DXlHko",
        "outputId": "79656eb0-eaa4-4826-d931-f191cf702461"
      },
      "execution_count": null,
      "outputs": [
        {
          "output_type": "execute_result",
          "data": {
            "text/html": [
              "\n",
              "  <div id=\"df-e28cc5be-1009-4ebe-8038-84d523568e2f\">\n",
              "    <div class=\"colab-df-container\">\n",
              "      <div>\n",
              "<style scoped>\n",
              "    .dataframe tbody tr th:only-of-type {\n",
              "        vertical-align: middle;\n",
              "    }\n",
              "\n",
              "    .dataframe tbody tr th {\n",
              "        vertical-align: top;\n",
              "    }\n",
              "\n",
              "    .dataframe thead th {\n",
              "        text-align: right;\n",
              "    }\n",
              "</style>\n",
              "<table border=\"1\" class=\"dataframe\">\n",
              "  <thead>\n",
              "    <tr style=\"text-align: right;\">\n",
              "      <th></th>\n",
              "      <th>Organization</th>\n",
              "      <th>Email Identifier</th>\n",
              "    </tr>\n",
              "  </thead>\n",
              "  <tbody>\n",
              "    <tr>\n",
              "      <th>0</th>\n",
              "      <td>JobNimbus</td>\n",
              "      <td>@jobnimbus.com</td>\n",
              "    </tr>\n",
              "    <tr>\n",
              "      <th>1</th>\n",
              "      <td>Nu Skin</td>\n",
              "      <td>@nuskin.com</td>\n",
              "    </tr>\n",
              "    <tr>\n",
              "      <th>2</th>\n",
              "      <td>Nike</td>\n",
              "      <td>@nike.com</td>\n",
              "    </tr>\n",
              "  </tbody>\n",
              "</table>\n",
              "</div>\n",
              "      <button class=\"colab-df-convert\" onclick=\"convertToInteractive('df-e28cc5be-1009-4ebe-8038-84d523568e2f')\"\n",
              "              title=\"Convert this dataframe to an interactive table.\"\n",
              "              style=\"display:none;\">\n",
              "        \n",
              "  <svg xmlns=\"http://www.w3.org/2000/svg\" height=\"24px\"viewBox=\"0 0 24 24\"\n",
              "       width=\"24px\">\n",
              "    <path d=\"M0 0h24v24H0V0z\" fill=\"none\"/>\n",
              "    <path d=\"M18.56 5.44l.94 2.06.94-2.06 2.06-.94-2.06-.94-.94-2.06-.94 2.06-2.06.94zm-11 1L8.5 8.5l.94-2.06 2.06-.94-2.06-.94L8.5 2.5l-.94 2.06-2.06.94zm10 10l.94 2.06.94-2.06 2.06-.94-2.06-.94-.94-2.06-.94 2.06-2.06.94z\"/><path d=\"M17.41 7.96l-1.37-1.37c-.4-.4-.92-.59-1.43-.59-.52 0-1.04.2-1.43.59L10.3 9.45l-7.72 7.72c-.78.78-.78 2.05 0 2.83L4 21.41c.39.39.9.59 1.41.59.51 0 1.02-.2 1.41-.59l7.78-7.78 2.81-2.81c.8-.78.8-2.07 0-2.86zM5.41 20L4 18.59l7.72-7.72 1.47 1.35L5.41 20z\"/>\n",
              "  </svg>\n",
              "      </button>\n",
              "      \n",
              "  <style>\n",
              "    .colab-df-container {\n",
              "      display:flex;\n",
              "      flex-wrap:wrap;\n",
              "      gap: 12px;\n",
              "    }\n",
              "\n",
              "    .colab-df-convert {\n",
              "      background-color: #E8F0FE;\n",
              "      border: none;\n",
              "      border-radius: 50%;\n",
              "      cursor: pointer;\n",
              "      display: none;\n",
              "      fill: #1967D2;\n",
              "      height: 32px;\n",
              "      padding: 0 0 0 0;\n",
              "      width: 32px;\n",
              "    }\n",
              "\n",
              "    .colab-df-convert:hover {\n",
              "      background-color: #E2EBFA;\n",
              "      box-shadow: 0px 1px 2px rgba(60, 64, 67, 0.3), 0px 1px 3px 1px rgba(60, 64, 67, 0.15);\n",
              "      fill: #174EA6;\n",
              "    }\n",
              "\n",
              "    [theme=dark] .colab-df-convert {\n",
              "      background-color: #3B4455;\n",
              "      fill: #D2E3FC;\n",
              "    }\n",
              "\n",
              "    [theme=dark] .colab-df-convert:hover {\n",
              "      background-color: #434B5C;\n",
              "      box-shadow: 0px 1px 3px 1px rgba(0, 0, 0, 0.15);\n",
              "      filter: drop-shadow(0px 1px 2px rgba(0, 0, 0, 0.3));\n",
              "      fill: #FFFFFF;\n",
              "    }\n",
              "  </style>\n",
              "\n",
              "      <script>\n",
              "        const buttonEl =\n",
              "          document.querySelector('#df-e28cc5be-1009-4ebe-8038-84d523568e2f button.colab-df-convert');\n",
              "        buttonEl.style.display =\n",
              "          google.colab.kernel.accessAllowed ? 'block' : 'none';\n",
              "\n",
              "        async function convertToInteractive(key) {\n",
              "          const element = document.querySelector('#df-e28cc5be-1009-4ebe-8038-84d523568e2f');\n",
              "          const dataTable =\n",
              "            await google.colab.kernel.invokeFunction('convertToInteractive',\n",
              "                                                     [key], {});\n",
              "          if (!dataTable) return;\n",
              "\n",
              "          const docLinkHtml = 'Like what you see? Visit the ' +\n",
              "            '<a target=\"_blank\" href=https://colab.research.google.com/notebooks/data_table.ipynb>data table notebook</a>'\n",
              "            + ' to learn more about interactive tables.';\n",
              "          element.innerHTML = '';\n",
              "          dataTable['output_type'] = 'display_data';\n",
              "          await google.colab.output.renderOutput(dataTable, element);\n",
              "          const docLink = document.createElement('div');\n",
              "          docLink.innerHTML = docLinkHtml;\n",
              "          element.appendChild(docLink);\n",
              "        }\n",
              "      </script>\n",
              "    </div>\n",
              "  </div>\n",
              "  "
            ],
            "text/plain": [
              "  Organization Email Identifier\n",
              "0    JobNimbus   @jobnimbus.com\n",
              "1      Nu Skin      @nuskin.com\n",
              "2         Nike        @nike.com"
            ]
          },
          "metadata": {},
          "execution_count": 23
        }
      ]
    },
    {
      "cell_type": "code",
      "source": [
        "calendar_data['Attendance'] = [0]*len(calendar_data)\n",
        "calendar_data['Duration'] = [0]*len(calendar_data)\n",
        "calendar_data['User Type'] = [0]*len(calendar_data)\n",
        "calendar_data['Organization'] = [0]*len(calendar_data)\n",
        "#calendar_data['Punctuality'] = [NaN]*len(calendar_data)"
      ],
      "metadata": {
        "id": "ZWXDXlaw3DXu"
      },
      "execution_count": null,
      "outputs": []
    },
    {
      "cell_type": "code",
      "source": [
        "from os import putenv\n",
        "for index, meeting in calendar_data.iterrows():\n",
        "  attendance = 0\n",
        "  duration = 0\n",
        "  meeting_data = google_data[(google_data['Participant Identifier'] == meeting['Participant Identifier']) & (google_data['Calendar event ID'].str.contains(meeting['Calendar event ID'])) & (google_data['String_Date'] == meeting['String_Date'])]\n",
        "\n",
        "  if (len(meeting_data) > 0):\n",
        "    attendance = 1\n",
        "    duration = sum(meeting_data['Duration'].tolist())/60 #duration in minutes\n",
        "\n",
        "  calendar_data['Attendance'][index] = attendance\n",
        "  calendar_data['Duration'][index] = duration\n",
        "  calendar_data['User Type'][index] = 'Student' if meeting['Participant Identifier'] in mentee_computer_emails_list else 'Mentor'\n",
        " \n",
        "\n",
        "  #Assigning corporate partners\n",
        "  partner_name = 'Public/Chapter'\n",
        "  for i, partner in corporate_partners.iterrows():\n",
        "    if partner['Email Identifier'] in meeting['Participant Identifier']:\n",
        "      partner_name = partner['Organization']\n",
        "      break;\n",
        "\n",
        "  calendar_data['Organization'][index] = partner_name\n",
        "\n"
      ],
      "metadata": {
        "id": "PjVBygrn1xWu",
        "colab": {
          "base_uri": "https://localhost:8080/"
        },
        "outputId": "74515e68-b0ce-4f5f-e24f-b148119d9f48"
      },
      "execution_count": null,
      "outputs": [
        {
          "output_type": "stream",
          "name": "stderr",
          "text": [
            "/usr/local/lib/python3.7/dist-packages/ipykernel_launcher.py:14: SettingWithCopyWarning: \n",
            "A value is trying to be set on a copy of a slice from a DataFrame\n",
            "\n",
            "See the caveats in the documentation: https://pandas.pydata.org/pandas-docs/stable/user_guide/indexing.html#returning-a-view-versus-a-copy\n",
            "  \n",
            "/usr/local/lib/python3.7/dist-packages/ipykernel_launcher.py:15: SettingWithCopyWarning: \n",
            "A value is trying to be set on a copy of a slice from a DataFrame\n",
            "\n",
            "See the caveats in the documentation: https://pandas.pydata.org/pandas-docs/stable/user_guide/indexing.html#returning-a-view-versus-a-copy\n",
            "  from ipykernel import kernelapp as app\n",
            "/usr/local/lib/python3.7/dist-packages/ipykernel_launcher.py:16: SettingWithCopyWarning: \n",
            "A value is trying to be set on a copy of a slice from a DataFrame\n",
            "\n",
            "See the caveats in the documentation: https://pandas.pydata.org/pandas-docs/stable/user_guide/indexing.html#returning-a-view-versus-a-copy\n",
            "  app.launch_new_instance()\n",
            "/usr/local/lib/python3.7/dist-packages/ipykernel_launcher.py:26: SettingWithCopyWarning: \n",
            "A value is trying to be set on a copy of a slice from a DataFrame\n",
            "\n",
            "See the caveats in the documentation: https://pandas.pydata.org/pandas-docs/stable/user_guide/indexing.html#returning-a-view-versus-a-copy\n"
          ]
        }
      ]
    },
    {
      "cell_type": "markdown",
      "source": [
        "#FINDING MENTOR THAT MISSED LAST 2 OR 3 SESSIONS"
      ],
      "metadata": {
        "id": "1396xbwSukJb"
      }
    },
    {
      "cell_type": "code",
      "source": [
        "#Identify mentors that have missed 2 or 3 of their last sessions. "
      ],
      "metadata": {
        "id": "_PSURBCF6eTg"
      },
      "execution_count": null,
      "outputs": []
    },
    {
      "cell_type": "code",
      "source": [
        "calendar_data['Missed_2'] = [0]*len(calendar_data)\n",
        "calendar_data['Missed_3'] = [0]*len(calendar_data)"
      ],
      "metadata": {
        "id": "PJAABO6hurip"
      },
      "execution_count": null,
      "outputs": []
    },
    {
      "cell_type": "code",
      "source": [
        "for index, meeting in calendar_data.iterrows():\n",
        "\n",
        "  #Get previous meetings regarless of id\n",
        "  previous_meetings = calendar_data[(calendar_data['Event Start UTC'] <= meeting['Event Start UTC']) & (calendar_data['Participant Identifier'] == meeting['Participant Identifier'])] # & (calendar_data['Calendar event ID'] == meeting['Calendar event ID'])]\n",
        "\n",
        "  if (len(previous_meetings)>=3):\n",
        "    last_3 = 0 if sum(previous_meetings['Attendance'].tolist()[-3:]) else 1\n",
        "    last_2 = 0 if sum(previous_meetings['Attendance'].tolist()[-2:]) else 1\n",
        "  elif (len(previous_meetings) == 2):\n",
        "    last_3 = 0\n",
        "    last_2 = 0 if sum(previous_meetings['Attendance'].tolist()) else 1\n",
        "  else:\n",
        "    last_3 = 0\n",
        "    last_2 = 0\n",
        "  \n",
        "  #updating data frame \n",
        "  calendar_data['Missed_2'][index] = last_2\n",
        "  calendar_data['Missed_3'][index] = last_3"
      ],
      "metadata": {
        "colab": {
          "base_uri": "https://localhost:8080/"
        },
        "id": "JiJZ6I0CwuKL",
        "outputId": "c4838cb6-b731-4811-f980-bd471bebd8bb"
      },
      "execution_count": null,
      "outputs": [
        {
          "output_type": "stream",
          "name": "stderr",
          "text": [
            "/usr/local/lib/python3.7/dist-packages/ipykernel_launcher.py:17: SettingWithCopyWarning: \n",
            "A value is trying to be set on a copy of a slice from a DataFrame\n",
            "\n",
            "See the caveats in the documentation: https://pandas.pydata.org/pandas-docs/stable/user_guide/indexing.html#returning-a-view-versus-a-copy\n",
            "/usr/local/lib/python3.7/dist-packages/ipykernel_launcher.py:18: SettingWithCopyWarning: \n",
            "A value is trying to be set on a copy of a slice from a DataFrame\n",
            "\n",
            "See the caveats in the documentation: https://pandas.pydata.org/pandas-docs/stable/user_guide/indexing.html#returning-a-view-versus-a-copy\n"
          ]
        }
      ]
    },
    {
      "cell_type": "code",
      "source": [
        "calendar_data.shape"
      ],
      "metadata": {
        "colab": {
          "base_uri": "https://localhost:8080/"
        },
        "id": "dD3XOTIsBN8s",
        "outputId": "20089a26-d6ea-49b2-f4ae-1afd474d4c9e"
      },
      "execution_count": null,
      "outputs": [
        {
          "output_type": "execute_result",
          "data": {
            "text/plain": [
              "(8065, 19)"
            ]
          },
          "metadata": {},
          "execution_count": 40
        }
      ]
    },
    {
      "cell_type": "code",
      "source": [
        "#TODO: merge actor names to calendar_data based on participant identifier\n",
        "# actor_names = google_data[['Participant Identifier', 'Actor name']].drop_duplicates(subset = ['Participant Identifier'])\n",
        "# print(actor_names.shape)\n",
        "# actor_names = calendar_data[['Participant Identifier']].drop_duplicates(subset = ['Participant Identifier'])\n",
        "# print(actor_names.shape)\n",
        "\n",
        "# #Merge actor names\n",
        "# result = calendar_data#pd.merge(calendar_data, actor_names, on='Participant Identifier')"
      ],
      "metadata": {
        "id": "VuIigK5VLXrg"
      },
      "execution_count": null,
      "outputs": []
    },
    {
      "cell_type": "markdown",
      "source": [
        "# STORING ATTENDANCE DATA"
      ],
      "metadata": {
        "id": "szbJwZlCR-aS"
      }
    },
    {
      "cell_type": "code",
      "source": [
        "#Create data frame and store\n",
        "file_name = 'attendance_data_calendar_data.csv'\n",
        "calendar_data.to_csv(file_name, index = False)"
      ],
      "metadata": {
        "id": "81jJRckUR9MQ"
      },
      "execution_count": null,
      "outputs": []
    },
    {
      "cell_type": "markdown",
      "source": [
        "#FINDING PRODUCTIVE MEETINGS"
      ],
      "metadata": {
        "id": "HlPj2mEn7L4w"
      }
    },
    {
      "cell_type": "code",
      "source": [
        "calendar_data.head()"
      ],
      "metadata": {
        "id": "sUSPKv4gfZNC"
      },
      "execution_count": null,
      "outputs": []
    },
    {
      "cell_type": "code",
      "source": [
        "#A productive meeting will be a meeting in which at least one mentor and one mentee attended"
      ],
      "metadata": {
        "id": "RYQXO2iEb2f3"
      },
      "execution_count": null,
      "outputs": []
    },
    {
      "cell_type": "code",
      "source": [
        "#Get all meetings per day \n",
        "productive_meetings  = calendar_data[['String_Date', 'Calendar event ID', 'Program Name']].drop_duplicates(subset=['String_Date', 'Calendar event ID'])\n",
        "productive_meetings['Productive'] = [0]*len(productive_meetings)"
      ],
      "metadata": {
        "id": "kBK_1M3fFzDU"
      },
      "execution_count": null,
      "outputs": []
    },
    {
      "cell_type": "code",
      "source": [
        "#For each meeting in each day see if the meeting was productive\n",
        "\n",
        "for index, meeting in productive_meetings.iterrows():\n",
        "  \n",
        "  mentor_attendance = sum(calendar_data[(calendar_data['String_Date'] == meeting['String_Date']) & (calendar_data['Calendar event ID'].str.contains(meeting['Calendar event ID'])) & (calendar_data['User Type'] == 'Mentor')]['Attendance'].tolist())\n",
        "  mentee_attendance = sum(calendar_data[(calendar_data['String_Date'] == meeting['String_Date']) & (calendar_data['Calendar event ID'].str.contains(meeting['Calendar event ID'])) & (calendar_data['User Type'] == 'Mentee')]['Attendance'].tolist())\n",
        "\n",
        "  if(mentor_attendance and mentee_attendance):\n",
        "    productive_meetings['Productive'][index] = 1\n",
        "    "
      ],
      "metadata": {
        "id": "iMjBoEw_dNQL"
      },
      "execution_count": null,
      "outputs": []
    },
    {
      "cell_type": "markdown",
      "source": [
        "# STORING PRODUCTIVE MEETINGS"
      ],
      "metadata": {
        "id": "egp3ozWJiCqB"
      }
    },
    {
      "cell_type": "code",
      "source": [
        "#Create data frame and store\n",
        "file_name = 'productive_meetings.csv'\n",
        "productive_meetings.to_csv(file_name, index = False)"
      ],
      "metadata": {
        "id": "mDl-g0QyiGJx"
      },
      "execution_count": null,
      "outputs": []
    },
    {
      "cell_type": "code",
      "source": [
        "calendar_data.head()"
      ],
      "metadata": {
        "id": "i8bWb7PowdnU"
      },
      "execution_count": null,
      "outputs": []
    },
    {
      "cell_type": "markdown",
      "source": [
        "# AVAILABLE PROGRAM SLOTS "
      ],
      "metadata": {
        "id": "C4m9t1YBfVDP"
      }
    },
    {
      "cell_type": "code",
      "source": [
        "#get total sessions by program\n",
        "total_sessions = oracle_data['NAME'].value_counts()\n",
        "total_sessions"
      ],
      "metadata": {
        "id": "zGkX6SeLcYyi"
      },
      "execution_count": null,
      "outputs": []
    },
    {
      "cell_type": "code",
      "source": [
        "#get count of active sessions\n",
        "#taken_sessions = active_sessions['NAME'].value_counts()\n",
        "#taken_sessions"
      ],
      "metadata": {
        "id": "XcJwh_eqbaM7"
      },
      "execution_count": null,
      "outputs": []
    },
    {
      "cell_type": "code",
      "source": [
        "# available_sessions = total_sessions - taken_sessions\n",
        "# available_sessions"
      ],
      "metadata": {
        "id": "2xym8bYwePs_"
      },
      "execution_count": null,
      "outputs": []
    }
  ]
}