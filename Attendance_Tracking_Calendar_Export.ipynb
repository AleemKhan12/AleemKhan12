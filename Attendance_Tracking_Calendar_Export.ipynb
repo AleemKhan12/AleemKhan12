{
  "nbformat": 4,
  "nbformat_minor": 0,
  "metadata": {
    "colab": {
      "name": "Attendance Tracking Calendar Export",
      "provenance": [],
      "collapsed_sections": [],
      "toc_visible": true,
      "include_colab_link": true
    },
    "kernelspec": {
      "name": "python3",
      "display_name": "Python 3"
    },
    "language_info": {
      "name": "python"
    }
  },
  "cells": [
    {
      "cell_type": "markdown",
      "metadata": {
        "id": "view-in-github",
        "colab_type": "text"
      },
      "source": [
        "<a href=\"https://colab.research.google.com/github/AleemKhan12/AleemKhan12/blob/calendar_data_algorithm/Attendance_Tracking_Calendar_Export.ipynb\" target=\"_parent\"><img src=\"https://colab.research.google.com/assets/colab-badge.svg\" alt=\"Open In Colab\"/></a>"
      ]
    },
    {
      "cell_type": "code",
      "execution_count": 82,
      "metadata": {
        "id": "3bZwK5KysB9X",
        "colab": {
          "base_uri": "https://localhost:8080/",
          "height": 53
        },
        "outputId": "ad476798-91ba-4068-9a9d-a19ba01dd075"
      },
      "outputs": [
        {
          "output_type": "execute_result",
          "data": {
            "text/plain": [
              "\"\\nISSUES\\n1. Reading google sheet for Audit data returning wrong values\\n2. Test time conversion accuracy. Punctuality returning wrong values\\n4. Some calendar event id's not attenuating resulting in missed attendance\\n\\n\""
            ],
            "application/vnd.google.colaboratory.intrinsic+json": {
              "type": "string"
            }
          },
          "metadata": {},
          "execution_count": 82
        }
      ],
      "source": [
        "#Attendance Tracking by using Calendar and Audit Log Data\n",
        "\n",
        "#Revision notes V0.12: Fixed calendar id attenuation issue, writing files to google sheets\n",
        "\n",
        "'''\n",
        "ISSUES\n",
        "1. Reading google sheet for Audit data returning wrong values\n",
        "2. Test time conversion accuracy. Punctuality returning wrong values\n",
        "4. Some calendar event id's not attenuating resulting in missed attendance\n",
        "\n",
        "'''\n"
      ]
    },
    {
      "cell_type": "markdown",
      "source": [
        "# CONNECTING TO GOOGLE DRIVE"
      ],
      "metadata": {
        "id": "-e30JtYkfes_"
      }
    },
    {
      "cell_type": "code",
      "source": [
        "#connect colab to drive\n",
        "\n",
        "from google.colab import drive\n",
        "from oauth2client.client import GoogleCredentials\n",
        "from google.colab import auth\n",
        "import gspread\n",
        "drive.mount('/content/gdrive')\n",
        "auth.authenticate_user()\n",
        "gc = gspread.authorize(GoogleCredentials.get_application_default())\n"
      ],
      "metadata": {
        "colab": {
          "base_uri": "https://localhost:8080/"
        },
        "id": "kSWZfJ6tsNA6",
        "outputId": "0ed49f82-f2d8-4a89-b80e-af87f2f05c3a"
      },
      "execution_count": 83,
      "outputs": [
        {
          "output_type": "stream",
          "name": "stdout",
          "text": [
            "Drive already mounted at /content/gdrive; to attempt to forcibly remount, call drive.mount(\"/content/gdrive\", force_remount=True).\n"
          ]
        }
      ]
    },
    {
      "cell_type": "code",
      "source": [
        "#Imports\n",
        "import pandas as pd\n",
        "from datetime import date, timedelta\n",
        "import pytz\n",
        "from numpy.core.numeric import NaN\n",
        "import datetime\n",
        "import math\n",
        "\n"
      ],
      "metadata": {
        "id": "WhFJN5LatFdd"
      },
      "execution_count": 84,
      "outputs": []
    },
    {
      "cell_type": "code",
      "source": [
        "pytz.all_timezones"
      ],
      "metadata": {
        "colab": {
          "base_uri": "https://localhost:8080/"
        },
        "id": "iAuOEF7ZZEZq",
        "outputId": "f2f384ed-871f-4a7a-c26c-f63ecc1b034a"
      },
      "execution_count": 85,
      "outputs": [
        {
          "output_type": "execute_result",
          "data": {
            "text/plain": [
              "['Africa/Abidjan',\n",
              " 'Africa/Accra',\n",
              " 'Africa/Addis_Ababa',\n",
              " 'Africa/Algiers',\n",
              " 'Africa/Asmara',\n",
              " 'Africa/Asmera',\n",
              " 'Africa/Bamako',\n",
              " 'Africa/Bangui',\n",
              " 'Africa/Banjul',\n",
              " 'Africa/Bissau',\n",
              " 'Africa/Blantyre',\n",
              " 'Africa/Brazzaville',\n",
              " 'Africa/Bujumbura',\n",
              " 'Africa/Cairo',\n",
              " 'Africa/Casablanca',\n",
              " 'Africa/Ceuta',\n",
              " 'Africa/Conakry',\n",
              " 'Africa/Dakar',\n",
              " 'Africa/Dar_es_Salaam',\n",
              " 'Africa/Djibouti',\n",
              " 'Africa/Douala',\n",
              " 'Africa/El_Aaiun',\n",
              " 'Africa/Freetown',\n",
              " 'Africa/Gaborone',\n",
              " 'Africa/Harare',\n",
              " 'Africa/Johannesburg',\n",
              " 'Africa/Juba',\n",
              " 'Africa/Kampala',\n",
              " 'Africa/Khartoum',\n",
              " 'Africa/Kigali',\n",
              " 'Africa/Kinshasa',\n",
              " 'Africa/Lagos',\n",
              " 'Africa/Libreville',\n",
              " 'Africa/Lome',\n",
              " 'Africa/Luanda',\n",
              " 'Africa/Lubumbashi',\n",
              " 'Africa/Lusaka',\n",
              " 'Africa/Malabo',\n",
              " 'Africa/Maputo',\n",
              " 'Africa/Maseru',\n",
              " 'Africa/Mbabane',\n",
              " 'Africa/Mogadishu',\n",
              " 'Africa/Monrovia',\n",
              " 'Africa/Nairobi',\n",
              " 'Africa/Ndjamena',\n",
              " 'Africa/Niamey',\n",
              " 'Africa/Nouakchott',\n",
              " 'Africa/Ouagadougou',\n",
              " 'Africa/Porto-Novo',\n",
              " 'Africa/Sao_Tome',\n",
              " 'Africa/Timbuktu',\n",
              " 'Africa/Tripoli',\n",
              " 'Africa/Tunis',\n",
              " 'Africa/Windhoek',\n",
              " 'America/Adak',\n",
              " 'America/Anchorage',\n",
              " 'America/Anguilla',\n",
              " 'America/Antigua',\n",
              " 'America/Araguaina',\n",
              " 'America/Argentina/Buenos_Aires',\n",
              " 'America/Argentina/Catamarca',\n",
              " 'America/Argentina/ComodRivadavia',\n",
              " 'America/Argentina/Cordoba',\n",
              " 'America/Argentina/Jujuy',\n",
              " 'America/Argentina/La_Rioja',\n",
              " 'America/Argentina/Mendoza',\n",
              " 'America/Argentina/Rio_Gallegos',\n",
              " 'America/Argentina/Salta',\n",
              " 'America/Argentina/San_Juan',\n",
              " 'America/Argentina/San_Luis',\n",
              " 'America/Argentina/Tucuman',\n",
              " 'America/Argentina/Ushuaia',\n",
              " 'America/Aruba',\n",
              " 'America/Asuncion',\n",
              " 'America/Atikokan',\n",
              " 'America/Atka',\n",
              " 'America/Bahia',\n",
              " 'America/Bahia_Banderas',\n",
              " 'America/Barbados',\n",
              " 'America/Belem',\n",
              " 'America/Belize',\n",
              " 'America/Blanc-Sablon',\n",
              " 'America/Boa_Vista',\n",
              " 'America/Bogota',\n",
              " 'America/Boise',\n",
              " 'America/Buenos_Aires',\n",
              " 'America/Cambridge_Bay',\n",
              " 'America/Campo_Grande',\n",
              " 'America/Cancun',\n",
              " 'America/Caracas',\n",
              " 'America/Catamarca',\n",
              " 'America/Cayenne',\n",
              " 'America/Cayman',\n",
              " 'America/Chicago',\n",
              " 'America/Chihuahua',\n",
              " 'America/Coral_Harbour',\n",
              " 'America/Cordoba',\n",
              " 'America/Costa_Rica',\n",
              " 'America/Creston',\n",
              " 'America/Cuiaba',\n",
              " 'America/Curacao',\n",
              " 'America/Danmarkshavn',\n",
              " 'America/Dawson',\n",
              " 'America/Dawson_Creek',\n",
              " 'America/Denver',\n",
              " 'America/Detroit',\n",
              " 'America/Dominica',\n",
              " 'America/Edmonton',\n",
              " 'America/Eirunepe',\n",
              " 'America/El_Salvador',\n",
              " 'America/Ensenada',\n",
              " 'America/Fort_Nelson',\n",
              " 'America/Fort_Wayne',\n",
              " 'America/Fortaleza',\n",
              " 'America/Glace_Bay',\n",
              " 'America/Godthab',\n",
              " 'America/Goose_Bay',\n",
              " 'America/Grand_Turk',\n",
              " 'America/Grenada',\n",
              " 'America/Guadeloupe',\n",
              " 'America/Guatemala',\n",
              " 'America/Guayaquil',\n",
              " 'America/Guyana',\n",
              " 'America/Halifax',\n",
              " 'America/Havana',\n",
              " 'America/Hermosillo',\n",
              " 'America/Indiana/Indianapolis',\n",
              " 'America/Indiana/Knox',\n",
              " 'America/Indiana/Marengo',\n",
              " 'America/Indiana/Petersburg',\n",
              " 'America/Indiana/Tell_City',\n",
              " 'America/Indiana/Vevay',\n",
              " 'America/Indiana/Vincennes',\n",
              " 'America/Indiana/Winamac',\n",
              " 'America/Indianapolis',\n",
              " 'America/Inuvik',\n",
              " 'America/Iqaluit',\n",
              " 'America/Jamaica',\n",
              " 'America/Jujuy',\n",
              " 'America/Juneau',\n",
              " 'America/Kentucky/Louisville',\n",
              " 'America/Kentucky/Monticello',\n",
              " 'America/Knox_IN',\n",
              " 'America/Kralendijk',\n",
              " 'America/La_Paz',\n",
              " 'America/Lima',\n",
              " 'America/Los_Angeles',\n",
              " 'America/Louisville',\n",
              " 'America/Lower_Princes',\n",
              " 'America/Maceio',\n",
              " 'America/Managua',\n",
              " 'America/Manaus',\n",
              " 'America/Marigot',\n",
              " 'America/Martinique',\n",
              " 'America/Matamoros',\n",
              " 'America/Mazatlan',\n",
              " 'America/Mendoza',\n",
              " 'America/Menominee',\n",
              " 'America/Merida',\n",
              " 'America/Metlakatla',\n",
              " 'America/Mexico_City',\n",
              " 'America/Miquelon',\n",
              " 'America/Moncton',\n",
              " 'America/Monterrey',\n",
              " 'America/Montevideo',\n",
              " 'America/Montreal',\n",
              " 'America/Montserrat',\n",
              " 'America/Nassau',\n",
              " 'America/New_York',\n",
              " 'America/Nipigon',\n",
              " 'America/Nome',\n",
              " 'America/Noronha',\n",
              " 'America/North_Dakota/Beulah',\n",
              " 'America/North_Dakota/Center',\n",
              " 'America/North_Dakota/New_Salem',\n",
              " 'America/Ojinaga',\n",
              " 'America/Panama',\n",
              " 'America/Pangnirtung',\n",
              " 'America/Paramaribo',\n",
              " 'America/Phoenix',\n",
              " 'America/Port-au-Prince',\n",
              " 'America/Port_of_Spain',\n",
              " 'America/Porto_Acre',\n",
              " 'America/Porto_Velho',\n",
              " 'America/Puerto_Rico',\n",
              " 'America/Punta_Arenas',\n",
              " 'America/Rainy_River',\n",
              " 'America/Rankin_Inlet',\n",
              " 'America/Recife',\n",
              " 'America/Regina',\n",
              " 'America/Resolute',\n",
              " 'America/Rio_Branco',\n",
              " 'America/Rosario',\n",
              " 'America/Santa_Isabel',\n",
              " 'America/Santarem',\n",
              " 'America/Santiago',\n",
              " 'America/Santo_Domingo',\n",
              " 'America/Sao_Paulo',\n",
              " 'America/Scoresbysund',\n",
              " 'America/Shiprock',\n",
              " 'America/Sitka',\n",
              " 'America/St_Barthelemy',\n",
              " 'America/St_Johns',\n",
              " 'America/St_Kitts',\n",
              " 'America/St_Lucia',\n",
              " 'America/St_Thomas',\n",
              " 'America/St_Vincent',\n",
              " 'America/Swift_Current',\n",
              " 'America/Tegucigalpa',\n",
              " 'America/Thule',\n",
              " 'America/Thunder_Bay',\n",
              " 'America/Tijuana',\n",
              " 'America/Toronto',\n",
              " 'America/Tortola',\n",
              " 'America/Vancouver',\n",
              " 'America/Virgin',\n",
              " 'America/Whitehorse',\n",
              " 'America/Winnipeg',\n",
              " 'America/Yakutat',\n",
              " 'America/Yellowknife',\n",
              " 'Antarctica/Casey',\n",
              " 'Antarctica/Davis',\n",
              " 'Antarctica/DumontDUrville',\n",
              " 'Antarctica/Macquarie',\n",
              " 'Antarctica/Mawson',\n",
              " 'Antarctica/McMurdo',\n",
              " 'Antarctica/Palmer',\n",
              " 'Antarctica/Rothera',\n",
              " 'Antarctica/South_Pole',\n",
              " 'Antarctica/Syowa',\n",
              " 'Antarctica/Troll',\n",
              " 'Antarctica/Vostok',\n",
              " 'Arctic/Longyearbyen',\n",
              " 'Asia/Aden',\n",
              " 'Asia/Almaty',\n",
              " 'Asia/Amman',\n",
              " 'Asia/Anadyr',\n",
              " 'Asia/Aqtau',\n",
              " 'Asia/Aqtobe',\n",
              " 'Asia/Ashgabat',\n",
              " 'Asia/Ashkhabad',\n",
              " 'Asia/Atyrau',\n",
              " 'Asia/Baghdad',\n",
              " 'Asia/Bahrain',\n",
              " 'Asia/Baku',\n",
              " 'Asia/Bangkok',\n",
              " 'Asia/Barnaul',\n",
              " 'Asia/Beirut',\n",
              " 'Asia/Bishkek',\n",
              " 'Asia/Brunei',\n",
              " 'Asia/Calcutta',\n",
              " 'Asia/Chita',\n",
              " 'Asia/Choibalsan',\n",
              " 'Asia/Chongqing',\n",
              " 'Asia/Chungking',\n",
              " 'Asia/Colombo',\n",
              " 'Asia/Dacca',\n",
              " 'Asia/Damascus',\n",
              " 'Asia/Dhaka',\n",
              " 'Asia/Dili',\n",
              " 'Asia/Dubai',\n",
              " 'Asia/Dushanbe',\n",
              " 'Asia/Famagusta',\n",
              " 'Asia/Gaza',\n",
              " 'Asia/Harbin',\n",
              " 'Asia/Hebron',\n",
              " 'Asia/Ho_Chi_Minh',\n",
              " 'Asia/Hong_Kong',\n",
              " 'Asia/Hovd',\n",
              " 'Asia/Irkutsk',\n",
              " 'Asia/Istanbul',\n",
              " 'Asia/Jakarta',\n",
              " 'Asia/Jayapura',\n",
              " 'Asia/Jerusalem',\n",
              " 'Asia/Kabul',\n",
              " 'Asia/Kamchatka',\n",
              " 'Asia/Karachi',\n",
              " 'Asia/Kashgar',\n",
              " 'Asia/Kathmandu',\n",
              " 'Asia/Katmandu',\n",
              " 'Asia/Khandyga',\n",
              " 'Asia/Kolkata',\n",
              " 'Asia/Krasnoyarsk',\n",
              " 'Asia/Kuala_Lumpur',\n",
              " 'Asia/Kuching',\n",
              " 'Asia/Kuwait',\n",
              " 'Asia/Macao',\n",
              " 'Asia/Macau',\n",
              " 'Asia/Magadan',\n",
              " 'Asia/Makassar',\n",
              " 'Asia/Manila',\n",
              " 'Asia/Muscat',\n",
              " 'Asia/Nicosia',\n",
              " 'Asia/Novokuznetsk',\n",
              " 'Asia/Novosibirsk',\n",
              " 'Asia/Omsk',\n",
              " 'Asia/Oral',\n",
              " 'Asia/Phnom_Penh',\n",
              " 'Asia/Pontianak',\n",
              " 'Asia/Pyongyang',\n",
              " 'Asia/Qatar',\n",
              " 'Asia/Qostanay',\n",
              " 'Asia/Qyzylorda',\n",
              " 'Asia/Rangoon',\n",
              " 'Asia/Riyadh',\n",
              " 'Asia/Saigon',\n",
              " 'Asia/Sakhalin',\n",
              " 'Asia/Samarkand',\n",
              " 'Asia/Seoul',\n",
              " 'Asia/Shanghai',\n",
              " 'Asia/Singapore',\n",
              " 'Asia/Srednekolymsk',\n",
              " 'Asia/Taipei',\n",
              " 'Asia/Tashkent',\n",
              " 'Asia/Tbilisi',\n",
              " 'Asia/Tehran',\n",
              " 'Asia/Tel_Aviv',\n",
              " 'Asia/Thimbu',\n",
              " 'Asia/Thimphu',\n",
              " 'Asia/Tokyo',\n",
              " 'Asia/Tomsk',\n",
              " 'Asia/Ujung_Pandang',\n",
              " 'Asia/Ulaanbaatar',\n",
              " 'Asia/Ulan_Bator',\n",
              " 'Asia/Urumqi',\n",
              " 'Asia/Ust-Nera',\n",
              " 'Asia/Vientiane',\n",
              " 'Asia/Vladivostok',\n",
              " 'Asia/Yakutsk',\n",
              " 'Asia/Yangon',\n",
              " 'Asia/Yekaterinburg',\n",
              " 'Asia/Yerevan',\n",
              " 'Atlantic/Azores',\n",
              " 'Atlantic/Bermuda',\n",
              " 'Atlantic/Canary',\n",
              " 'Atlantic/Cape_Verde',\n",
              " 'Atlantic/Faeroe',\n",
              " 'Atlantic/Faroe',\n",
              " 'Atlantic/Jan_Mayen',\n",
              " 'Atlantic/Madeira',\n",
              " 'Atlantic/Reykjavik',\n",
              " 'Atlantic/South_Georgia',\n",
              " 'Atlantic/St_Helena',\n",
              " 'Atlantic/Stanley',\n",
              " 'Australia/ACT',\n",
              " 'Australia/Adelaide',\n",
              " 'Australia/Brisbane',\n",
              " 'Australia/Broken_Hill',\n",
              " 'Australia/Canberra',\n",
              " 'Australia/Currie',\n",
              " 'Australia/Darwin',\n",
              " 'Australia/Eucla',\n",
              " 'Australia/Hobart',\n",
              " 'Australia/LHI',\n",
              " 'Australia/Lindeman',\n",
              " 'Australia/Lord_Howe',\n",
              " 'Australia/Melbourne',\n",
              " 'Australia/NSW',\n",
              " 'Australia/North',\n",
              " 'Australia/Perth',\n",
              " 'Australia/Queensland',\n",
              " 'Australia/South',\n",
              " 'Australia/Sydney',\n",
              " 'Australia/Tasmania',\n",
              " 'Australia/Victoria',\n",
              " 'Australia/West',\n",
              " 'Australia/Yancowinna',\n",
              " 'Brazil/Acre',\n",
              " 'Brazil/DeNoronha',\n",
              " 'Brazil/East',\n",
              " 'Brazil/West',\n",
              " 'CET',\n",
              " 'CST6CDT',\n",
              " 'Canada/Atlantic',\n",
              " 'Canada/Central',\n",
              " 'Canada/Eastern',\n",
              " 'Canada/Mountain',\n",
              " 'Canada/Newfoundland',\n",
              " 'Canada/Pacific',\n",
              " 'Canada/Saskatchewan',\n",
              " 'Canada/Yukon',\n",
              " 'Chile/Continental',\n",
              " 'Chile/EasterIsland',\n",
              " 'Cuba',\n",
              " 'EET',\n",
              " 'EST',\n",
              " 'EST5EDT',\n",
              " 'Egypt',\n",
              " 'Eire',\n",
              " 'Etc/GMT',\n",
              " 'Etc/GMT+0',\n",
              " 'Etc/GMT+1',\n",
              " 'Etc/GMT+10',\n",
              " 'Etc/GMT+11',\n",
              " 'Etc/GMT+12',\n",
              " 'Etc/GMT+2',\n",
              " 'Etc/GMT+3',\n",
              " 'Etc/GMT+4',\n",
              " 'Etc/GMT+5',\n",
              " 'Etc/GMT+6',\n",
              " 'Etc/GMT+7',\n",
              " 'Etc/GMT+8',\n",
              " 'Etc/GMT+9',\n",
              " 'Etc/GMT-0',\n",
              " 'Etc/GMT-1',\n",
              " 'Etc/GMT-10',\n",
              " 'Etc/GMT-11',\n",
              " 'Etc/GMT-12',\n",
              " 'Etc/GMT-13',\n",
              " 'Etc/GMT-14',\n",
              " 'Etc/GMT-2',\n",
              " 'Etc/GMT-3',\n",
              " 'Etc/GMT-4',\n",
              " 'Etc/GMT-5',\n",
              " 'Etc/GMT-6',\n",
              " 'Etc/GMT-7',\n",
              " 'Etc/GMT-8',\n",
              " 'Etc/GMT-9',\n",
              " 'Etc/GMT0',\n",
              " 'Etc/Greenwich',\n",
              " 'Etc/UCT',\n",
              " 'Etc/UTC',\n",
              " 'Etc/Universal',\n",
              " 'Etc/Zulu',\n",
              " 'Europe/Amsterdam',\n",
              " 'Europe/Andorra',\n",
              " 'Europe/Astrakhan',\n",
              " 'Europe/Athens',\n",
              " 'Europe/Belfast',\n",
              " 'Europe/Belgrade',\n",
              " 'Europe/Berlin',\n",
              " 'Europe/Bratislava',\n",
              " 'Europe/Brussels',\n",
              " 'Europe/Bucharest',\n",
              " 'Europe/Budapest',\n",
              " 'Europe/Busingen',\n",
              " 'Europe/Chisinau',\n",
              " 'Europe/Copenhagen',\n",
              " 'Europe/Dublin',\n",
              " 'Europe/Gibraltar',\n",
              " 'Europe/Guernsey',\n",
              " 'Europe/Helsinki',\n",
              " 'Europe/Isle_of_Man',\n",
              " 'Europe/Istanbul',\n",
              " 'Europe/Jersey',\n",
              " 'Europe/Kaliningrad',\n",
              " 'Europe/Kiev',\n",
              " 'Europe/Kirov',\n",
              " 'Europe/Lisbon',\n",
              " 'Europe/Ljubljana',\n",
              " 'Europe/London',\n",
              " 'Europe/Luxembourg',\n",
              " 'Europe/Madrid',\n",
              " 'Europe/Malta',\n",
              " 'Europe/Mariehamn',\n",
              " 'Europe/Minsk',\n",
              " 'Europe/Monaco',\n",
              " 'Europe/Moscow',\n",
              " 'Europe/Nicosia',\n",
              " 'Europe/Oslo',\n",
              " 'Europe/Paris',\n",
              " 'Europe/Podgorica',\n",
              " 'Europe/Prague',\n",
              " 'Europe/Riga',\n",
              " 'Europe/Rome',\n",
              " 'Europe/Samara',\n",
              " 'Europe/San_Marino',\n",
              " 'Europe/Sarajevo',\n",
              " 'Europe/Saratov',\n",
              " 'Europe/Simferopol',\n",
              " 'Europe/Skopje',\n",
              " 'Europe/Sofia',\n",
              " 'Europe/Stockholm',\n",
              " 'Europe/Tallinn',\n",
              " 'Europe/Tirane',\n",
              " 'Europe/Tiraspol',\n",
              " 'Europe/Ulyanovsk',\n",
              " 'Europe/Uzhgorod',\n",
              " 'Europe/Vaduz',\n",
              " 'Europe/Vatican',\n",
              " 'Europe/Vienna',\n",
              " 'Europe/Vilnius',\n",
              " 'Europe/Volgograd',\n",
              " 'Europe/Warsaw',\n",
              " 'Europe/Zagreb',\n",
              " 'Europe/Zaporozhye',\n",
              " 'Europe/Zurich',\n",
              " 'GB',\n",
              " 'GB-Eire',\n",
              " 'GMT',\n",
              " 'GMT+0',\n",
              " 'GMT-0',\n",
              " 'GMT0',\n",
              " 'Greenwich',\n",
              " 'HST',\n",
              " 'Hongkong',\n",
              " 'Iceland',\n",
              " 'Indian/Antananarivo',\n",
              " 'Indian/Chagos',\n",
              " 'Indian/Christmas',\n",
              " 'Indian/Cocos',\n",
              " 'Indian/Comoro',\n",
              " 'Indian/Kerguelen',\n",
              " 'Indian/Mahe',\n",
              " 'Indian/Maldives',\n",
              " 'Indian/Mauritius',\n",
              " 'Indian/Mayotte',\n",
              " 'Indian/Reunion',\n",
              " 'Iran',\n",
              " 'Israel',\n",
              " 'Jamaica',\n",
              " 'Japan',\n",
              " 'Kwajalein',\n",
              " 'Libya',\n",
              " 'MET',\n",
              " 'MST',\n",
              " 'MST7MDT',\n",
              " 'Mexico/BajaNorte',\n",
              " 'Mexico/BajaSur',\n",
              " 'Mexico/General',\n",
              " 'NZ',\n",
              " 'NZ-CHAT',\n",
              " 'Navajo',\n",
              " 'PRC',\n",
              " 'PST8PDT',\n",
              " 'Pacific/Apia',\n",
              " 'Pacific/Auckland',\n",
              " 'Pacific/Bougainville',\n",
              " 'Pacific/Chatham',\n",
              " 'Pacific/Chuuk',\n",
              " 'Pacific/Easter',\n",
              " 'Pacific/Efate',\n",
              " 'Pacific/Enderbury',\n",
              " 'Pacific/Fakaofo',\n",
              " 'Pacific/Fiji',\n",
              " 'Pacific/Funafuti',\n",
              " 'Pacific/Galapagos',\n",
              " 'Pacific/Gambier',\n",
              " 'Pacific/Guadalcanal',\n",
              " 'Pacific/Guam',\n",
              " 'Pacific/Honolulu',\n",
              " 'Pacific/Johnston',\n",
              " 'Pacific/Kiritimati',\n",
              " 'Pacific/Kosrae',\n",
              " 'Pacific/Kwajalein',\n",
              " 'Pacific/Majuro',\n",
              " 'Pacific/Marquesas',\n",
              " 'Pacific/Midway',\n",
              " 'Pacific/Nauru',\n",
              " 'Pacific/Niue',\n",
              " 'Pacific/Norfolk',\n",
              " 'Pacific/Noumea',\n",
              " 'Pacific/Pago_Pago',\n",
              " 'Pacific/Palau',\n",
              " 'Pacific/Pitcairn',\n",
              " 'Pacific/Pohnpei',\n",
              " 'Pacific/Ponape',\n",
              " 'Pacific/Port_Moresby',\n",
              " 'Pacific/Rarotonga',\n",
              " 'Pacific/Saipan',\n",
              " 'Pacific/Samoa',\n",
              " 'Pacific/Tahiti',\n",
              " 'Pacific/Tarawa',\n",
              " 'Pacific/Tongatapu',\n",
              " 'Pacific/Truk',\n",
              " 'Pacific/Wake',\n",
              " 'Pacific/Wallis',\n",
              " 'Pacific/Yap',\n",
              " 'Poland',\n",
              " 'Portugal',\n",
              " 'ROC',\n",
              " 'ROK',\n",
              " 'Singapore',\n",
              " 'Turkey',\n",
              " 'UCT',\n",
              " 'US/Alaska',\n",
              " 'US/Aleutian',\n",
              " 'US/Arizona',\n",
              " 'US/Central',\n",
              " 'US/East-Indiana',\n",
              " 'US/Eastern',\n",
              " 'US/Hawaii',\n",
              " 'US/Indiana-Starke',\n",
              " 'US/Michigan',\n",
              " 'US/Mountain',\n",
              " 'US/Pacific',\n",
              " 'US/Samoa',\n",
              " 'UTC',\n",
              " 'Universal',\n",
              " 'W-SU',\n",
              " 'WET',\n",
              " 'Zulu']"
            ]
          },
          "metadata": {},
          "execution_count": 85
        }
      ]
    },
    {
      "cell_type": "markdown",
      "source": [
        "#IMPORTANT GLOBAL VARIABLES"
      ],
      "metadata": {
        "id": "JxViOjjIYCAK"
      }
    },
    {
      "cell_type": "code",
      "source": [
        "mentor_email = 'mentor@villagebookbuilders.org' #Mentor program email address\n",
        "oracle_data       = 0                           #Data read from Oracle Database SQL Query\n",
        "google_data       = 0                           #Data read from Google Audit Log\n",
        "active_sessions   = 0                           #Active sessions recorded in Oracle db based on end date\n",
        "total_mentors     = 0                           #List of all mentors names in oracle db\n",
        "oracle_mentor_emails = []                       #list of all mentor emails in oracle db\n",
        "active_mentors    = 0                           #Mentor names that joined at least one session \n",
        "active_mentor_emails = []                       #List of mentor emails that joined at least one session\n",
        "mentor_programs   = []                          #Names of all mentor programs stored in oracle database\n",
        "mentors_not_registered = []                     #Names of all active mentors not logged in oracle database\n",
        "time_zone = 'America/Port_of_Spain'                         #google_data['Date'][1][len(google_data['Date'][1])-3:] #TODO: change this hard coded time zone\n",
        "start = 0                                       #start date\n",
        "end = 0                                         #end date\n",
        "mentor_identifier = 'Mentor'                    #Mentor identifier\n",
        "mentee_identifier = 'Student'                   #Mentee identifier\n",
        "cal_id_len = 26                                 #usable calendar event id string length\n",
        "google_resource_identifier = '@resource.calendar.google.com'\n",
        "fire_flies_email = 'fred@fireflies.ai'\n",
        "program_director_name = ['adeiso ghana', 'ahero kenya', 'biwi, malawi vbb mentor program', 'charity centre, zambia vbb mentor program', 'chebosi kenya', 'kadzakalowa malawi', 'maragoli kenya', 'mukono uganda', 'vima ghana'] #Actor names of program director accounts"
      ],
      "metadata": {
        "id": "l3A_o3ChYGG2"
      },
      "execution_count": 86,
      "outputs": []
    },
    {
      "cell_type": "markdown",
      "source": [
        "# READING DATA SOURCES"
      ],
      "metadata": {
        "id": "B1NVU9iPfnsp"
      }
    },
    {
      "cell_type": "code",
      "source": [
        "#Read Data Sources as pandas data frames\n",
        "\n",
        "#Calendar Data\n",
        "sheet_url = 'https://docs.google.com/spreadsheets/d/1KzR1ok2TEwRQbta534v-DvpSvtp-LlEofL8hORqBjWI/edit#gid=0'\n",
        "calendar_path = sheet_url.replace('/edit#gid=', '/export?format=csv&gid=')\n",
        "#calendar_path = '/content/gdrive/MyDrive/Projects/Mentor_Dashboard_V2/3. Execution/SRC Code/Data/Calendar Data Export/Calendar Export UTC - Sheet1.csv' \n",
        "calendar_data = pd.read_csv(calendar_path, on_bad_lines='skip')\n",
        "\n",
        "#Google Audit Log Data\n",
        "sheet_url = 'https://docs.google.com/spreadsheets/d/1O81Lc9neAFY5KatvApTAJJwyUXKEldEJe8kdnSM0YEI/edit#gid=0'\n",
        "google_path = sheet_url.replace('/edit#gid=', '/export?format=csv&gid=')\n",
        "#google_path = '/content/gdrive/MyDrive/Projects/Mentor_Dashboard_V2/3. Execution/SRC Code/Data/Google Audit Log/3 6 2022 - 3 12 2022/3_6_2022 - 3_12_2022.csv'\n",
        "google_data = pd.read_csv(google_path, on_bad_lines='skip')\n",
        "\n",
        "\n",
        "#Mentee Computer Emails\n",
        "sheet_url = 'https://docs.google.com/spreadsheets/d/1JcJ99pX-pjMTCkFrLwjpaCJ_1FcJ2xZ7UqgBJHGFl9I/edit#gid=925063253'\n",
        "mentee_email_path = sheet_url.replace('/edit#gid=', '/export?format=csv&gid=')\n",
        "#mentee_email_path = '/content/gdrive/MyDrive/Projects/Mentor_Dashboard_V2/3. Execution/SRC Code/Data/mentee email/Copy of Village Library Information - computer email.csv'\n",
        "mentee_computer_emails = pd.read_csv(mentee_email_path, on_bad_lines='skip')\n",
        "\n",
        "#Corporate Parners\n",
        "sheet_url = 'https://docs.google.com/spreadsheets/d/1K9FtfVv-lzU0eQE4V27Qdb3zuj2t9d-WOxs2ZAA04kw/edit#gid=0'\n",
        "corporate_partners_path = sheet_url.replace('/edit#gid=', '/export?format=csv&gid=')\n",
        "#corporate_partners_path = '/content/gdrive/MyDrive/Projects/Mentor_Dashboard_V2/3. Execution/SRC Code/Data/Corporate Organizations/Corporate Partners.csv'\n",
        "corporate_partners = pd.read_csv(corporate_partners_path, on_bad_lines='skip')\n",
        "\n"
      ],
      "metadata": {
        "id": "ti3RqFW5uRou"
      },
      "execution_count": 87,
      "outputs": []
    },
    {
      "cell_type": "code",
      "source": [
        "print(calendar_data.shape, google_data.shape, mentee_computer_emails.shape, corporate_partners.shape)"
      ],
      "metadata": {
        "colab": {
          "base_uri": "https://localhost:8080/"
        },
        "id": "g1SxDj2NbH2Q",
        "outputId": "48748b15-e888-4f89-b99c-f889e99cddb6"
      },
      "execution_count": 88,
      "outputs": [
        {
          "output_type": "stream",
          "name": "stdout",
          "text": [
            "(1477, 11) (480, 31) (132, 2) (3, 2)\n"
          ]
        }
      ]
    },
    {
      "cell_type": "markdown",
      "source": [
        "\n",
        "# CLEANING DATA"
      ],
      "metadata": {
        "id": "dx1dhULnfsJF"
      }
    },
    {
      "cell_type": "code",
      "source": [
        "\n",
        "#Calendar Data\n",
        "calendar_data = calendar_data.dropna() #remove all empty sessions\n",
        "calendar_data = calendar_data.drop_duplicates()\n",
        "calendar_data = calendar_data[(~calendar_data['Participant Identifier'].str.contains(google_resource_identifier)) & (calendar_data['Participant Identifier'] != fire_flies_email)]\n",
        "\n",
        "#Google Data\n",
        "google_data = google_data.dropna(subset=['Date', 'Meeting code', 'Actor', 'Organizer email', 'Duration (seconds)', 'Actor name', 'Calendar event ID']) #clean google data\n",
        "google_data = google_data.drop_duplicates()\n",
        "google_data = google_data[google_data['Duration (seconds)'] > 0] #drop all calls with 0 duration\n",
        "google_data = google_data[google_data['Organizer email'] == mentor_email] #only consider mentor sessions\n",
        "google_data = google_data[google_data['Actor name'] != 'Mentor Program'] #drop all entries for mentor program\n",
        "\n",
        "#Mentee Email data\n",
        "mentee_computer_emails = mentee_computer_emails.dropna()\n",
        "\n",
        "#Corporate Parner data\n",
        "corporate_partners = corporate_partners.dropna()"
      ],
      "metadata": {
        "id": "ZV2uWWJafEtR"
      },
      "execution_count": 89,
      "outputs": []
    },
    {
      "cell_type": "code",
      "source": [
        "print(calendar_data.shape, google_data.shape)"
      ],
      "metadata": {
        "colab": {
          "base_uri": "https://localhost:8080/"
        },
        "id": "hZ6eWiC9kK7a",
        "outputId": "704b2be3-d4bd-4555-e4e4-09fee3771429"
      },
      "execution_count": 90,
      "outputs": [
        {
          "output_type": "stream",
          "name": "stdout",
          "text": [
            "(1074, 11) (404, 31)\n"
          ]
        }
      ]
    },
    {
      "cell_type": "code",
      "source": [
        "#DATE CONVERSIONS\n",
        "#Only run this once. Running more times will cause an error. To fix re-read data sources\n",
        "def conv_to_datetime(a):\n",
        "  utc_timezone = pytz.timezone('UTC')\n",
        "  if isinstance(a, datetime.date):\n",
        "    return a\n",
        "  try:\n",
        "    #Convert calendar export dates\n",
        "    date = datetime.datetime.strptime(a, '%m/%d/%Y %H:%M:%S')\n",
        "    date = date.replace(tzinfo = pytz.timezone('UTC')) \n",
        "    return date\n",
        "  except:\n",
        "    try:\n",
        "      #Convert Audit log dates \n",
        "      date = datetime.datetime.strptime(a, '%Y-%m-%dT%H:%M:%SZ')\n",
        "      date = date.replace(tzinfo = pytz.timezone('UTC')) \n",
        "      return  date\n",
        "    except:\n",
        "      date = datetime.datetime.strptime('', '')\n",
        "      date = date.replace(tzinfo = utc_timezone)\n",
        "      return date\n",
        "\n"
      ],
      "metadata": {
        "id": "_dfBR_DQcLEG"
      },
      "execution_count": 91,
      "outputs": []
    },
    {
      "cell_type": "code",
      "source": [
        "#converting calendar dates to datetime objs\n",
        "calendar_data['Event Start UTC'] = calendar_data['Event Start UTC'].apply(conv_to_datetime)\n",
        "calendar_data['Event End UTC'] = calendar_data['Event End UTC'].apply(conv_to_datetime)\n",
        "\n"
      ],
      "metadata": {
        "id": "Z6ZxJul9orkg"
      },
      "execution_count": 93,
      "outputs": []
    },
    {
      "cell_type": "code",
      "source": [
        "#Getting usable substring from Calendar Event ID\n",
        "calendar_data['Calendar event ID'] = calendar_data['Calendar event ID'].apply(lambda x: x[:cal_id_len])"
      ],
      "metadata": {
        "id": "pI97hNrbseLt"
      },
      "execution_count": 95,
      "outputs": []
    },
    {
      "cell_type": "code",
      "source": [
        "#Convert google dates to datetime UTC\n",
        "#google_data['Date'] = google_data['Date'].apply(lambda x: x[:-4]) #remove time zone\n",
        "google_data['Date'] = google_data['Date'].apply(conv_to_datetime)"
      ],
      "metadata": {
        "id": "uKItSRAvj47X"
      },
      "execution_count": 96,
      "outputs": []
    },
    {
      "cell_type": "code",
      "source": [
        "#Create new column with just dates\n",
        "google_data['String_Date'] = google_data['Date'].apply(lambda x: x.strftime(\"%m/%d/%Y\"))\n",
        "calendar_data['String_Date'] = calendar_data['Event Start UTC'].apply(lambda x: x.strftime(\"%m/%d/%Y\"))"
      ],
      "metadata": {
        "id": "CF2vCaz8j4Vl"
      },
      "execution_count": 98,
      "outputs": []
    },
    {
      "cell_type": "code",
      "source": [
        "#lower participant emails for accurate searches\n",
        "google_data['Actor'] = google_data['Actor'].apply(lambda x: x.lower())\n",
        "calendar_data['Participant Identifier'] = calendar_data['Participant Identifier'].apply(lambda x: x.lower())"
      ],
      "metadata": {
        "id": "z-QA2l-kcGGa"
      },
      "execution_count": 99,
      "outputs": []
    },
    {
      "cell_type": "code",
      "source": [
        "#Drop duplicate sessions caused by people signing in from various devices at the same time\n",
        "#google_data = google_data.drop_duplicates(subset = ['Participant Identifier', 'Calendar event ID', 'String_Date', 'IP address'])"
      ],
      "metadata": {
        "id": "-z3SBDLFQP5m"
      },
      "execution_count": 100,
      "outputs": []
    },
    {
      "cell_type": "code",
      "source": [
        "#list of mentee computer emails\n",
        "mentee_computer_emails_list = mentee_computer_emails['COMPUTER_EMAIL'].tolist()"
      ],
      "metadata": {
        "id": "UzIap4V-RxoF"
      },
      "execution_count": 101,
      "outputs": []
    },
    {
      "cell_type": "markdown",
      "source": [
        "#DATE TIME TESTS"
      ],
      "metadata": {
        "id": "hX82uYWoX0qf"
      }
    },
    {
      "cell_type": "code",
      "source": [
        "#Today's date\n",
        "today_date = datetime.datetime.today().replace(tzinfo = pytz.timezone(time_zone))\n",
        "\n",
        "#Start and end dates for schema 1\n",
        "dates_list = sorted(google_data['Date'].tolist())\n",
        "start1, end1 = dates_list[0], dates_list[-1] \n",
        "\n",
        "#Start and end dates for schema 2\n",
        "end, start = datetime.datetime(2022, 2, 27).astimezone(pytz.timezone(\"utc\")), datetime.datetime(2022, 3, 5).astimezone(pytz.timezone(\"utc\"))\n",
        "\n"
      ],
      "metadata": {
        "id": "Y55mCcMGrw_B"
      },
      "execution_count": 103,
      "outputs": []
    },
    {
      "cell_type": "code",
      "source": [
        "print(start1, end1)\n",
        "print(start, end)"
      ],
      "metadata": {
        "colab": {
          "base_uri": "https://localhost:8080/"
        },
        "id": "_TF_7t6dkN-_",
        "outputId": "5dbe9451-fdb0-4ac3-a405-4be2d661416c"
      },
      "execution_count": 104,
      "outputs": [
        {
          "output_type": "stream",
          "name": "stdout",
          "text": [
            "2022-03-06 12:00:21+00:00 2022-03-12 16:48:08+00:00\n",
            "2022-03-05 00:00:00+00:00 2022-02-27 00:00:00+00:00\n"
          ]
        }
      ]
    },
    {
      "cell_type": "markdown",
      "source": [
        "#ATTENDANCE AND DURATION TRACKING "
      ],
      "metadata": {
        "id": "NS6R-QbVbruy"
      }
    },
    {
      "cell_type": "code",
      "source": [
        "calendar_data['Attendance'] = [0]*len(calendar_data)\n",
        "calendar_data['Duration'] = [0]*len(calendar_data)\n",
        "calendar_data['User Type'] = [0]*len(calendar_data)\n",
        "calendar_data['Organization'] = [0]*len(calendar_data)\n",
        "#calendar_data['Punctuality'] = [NaN]*len(calendar_data)"
      ],
      "metadata": {
        "id": "ZWXDXlaw3DXu"
      },
      "execution_count": 105,
      "outputs": []
    },
    {
      "cell_type": "code",
      "source": [
        "from os import putenv\n",
        "for index, meeting in calendar_data.iterrows():\n",
        "  attendance = 0\n",
        "  duration = 0\n",
        "  meeting_data = google_data[(google_data['Actor'] == meeting['Participant Identifier']) & (google_data['Calendar event ID'].str.contains(meeting['Calendar event ID'])) & (google_data['String_Date'] == meeting['String_Date'])]\n",
        "\n",
        "  if (len(meeting_data) > 0):\n",
        "    attendance = 1\n",
        "    duration = sum(meeting_data['Duration (seconds)'].tolist())/60 #duration in minutes\n",
        "\n",
        "  calendar_data['Attendance'][index] = attendance\n",
        "  calendar_data['Duration'][index] = duration\n",
        "  calendar_data['User Type'][index] = mentee_identifier if meeting['Participant Identifier'] in mentee_computer_emails_list else mentor_identifier\n",
        " \n",
        "\n",
        "  #Assigning corporate partners\n",
        "  partner_name = 'Public/Chapter'\n",
        "  for i, partner in corporate_partners.iterrows():\n",
        "    if partner['Email Identifier'] in meeting['Participant Identifier']:\n",
        "      partner_name = partner['Organization']\n",
        "      break;\n",
        "\n",
        "  calendar_data['Organization'][index] = partner_name\n",
        "\n"
      ],
      "metadata": {
        "id": "PjVBygrn1xWu"
      },
      "execution_count": null,
      "outputs": []
    },
    {
      "cell_type": "code",
      "source": [
        "calendar_data['Missed_2'] = [0]*len(calendar_data)\n",
        "calendar_data['Missed_3'] = [0]*len(calendar_data)"
      ],
      "metadata": {
        "id": "PJAABO6hurip"
      },
      "execution_count": 107,
      "outputs": []
    },
    {
      "cell_type": "code",
      "source": [
        "#TODO: Write to complete list of attendance data here"
      ],
      "metadata": {
        "id": "jMsbY67Qgw-N"
      },
      "execution_count": 108,
      "outputs": []
    },
    {
      "cell_type": "markdown",
      "source": [
        "#FINDING MENTOR THAT MISSED LAST 2 OR 3 SESSIONS"
      ],
      "metadata": {
        "id": "1396xbwSukJb"
      }
    },
    {
      "cell_type": "code",
      "source": [
        "#Identify mentors that have missed 2 or 3 of their last sessions. "
      ],
      "metadata": {
        "id": "_PSURBCF6eTg"
      },
      "execution_count": 109,
      "outputs": []
    },
    {
      "cell_type": "code",
      "source": [
        "for index, meeting in calendar_data.iterrows():\n",
        "\n",
        "  #Get previous meetings regarless of id\n",
        "  #TODO: Read from complete list of attendance data here, also find how to return max 3 entires \n",
        "  previous_meetings = calendar_data[(calendar_data['Event Start UTC'] <= meeting['Event Start UTC']) & (calendar_data['Participant Identifier'] == meeting['Participant Identifier'])] # & (calendar_data['Calendar event ID'] == meeting['Calendar event ID'])]\n",
        "\n",
        "  if (len(previous_meetings)>=3):\n",
        "    last_3 = 0 if sum(previous_meetings['Attendance'].tolist()[-3:]) else 1\n",
        "    last_2 = 0 if sum(previous_meetings['Attendance'].tolist()[-2:]) else 1\n",
        "  elif (len(previous_meetings) == 2):\n",
        "    last_3 = 0\n",
        "    last_2 = 0 if sum(previous_meetings['Attendance'].tolist()) else 1\n",
        "  else:\n",
        "    last_3 = 0\n",
        "    last_2 = 0\n",
        "  \n",
        "  #updating data frame \n",
        "  calendar_data['Missed_2'][index] = last_2\n",
        "  calendar_data['Missed_3'][index] = last_3"
      ],
      "metadata": {
        "colab": {
          "base_uri": "https://localhost:8080/"
        },
        "id": "JiJZ6I0CwuKL",
        "outputId": "8d8a653c-01f3-4fcd-cc32-a23e57f0903f"
      },
      "execution_count": 110,
      "outputs": [
        {
          "output_type": "stream",
          "name": "stderr",
          "text": [
            "/usr/local/lib/python3.7/dist-packages/ipykernel_launcher.py:18: SettingWithCopyWarning: \n",
            "A value is trying to be set on a copy of a slice from a DataFrame\n",
            "\n",
            "See the caveats in the documentation: https://pandas.pydata.org/pandas-docs/stable/user_guide/indexing.html#returning-a-view-versus-a-copy\n",
            "/usr/local/lib/python3.7/dist-packages/ipykernel_launcher.py:19: SettingWithCopyWarning: \n",
            "A value is trying to be set on a copy of a slice from a DataFrame\n",
            "\n",
            "See the caveats in the documentation: https://pandas.pydata.org/pandas-docs/stable/user_guide/indexing.html#returning-a-view-versus-a-copy\n"
          ]
        }
      ]
    },
    {
      "cell_type": "code",
      "source": [
        "calendar_data.shape"
      ],
      "metadata": {
        "colab": {
          "base_uri": "https://localhost:8080/"
        },
        "id": "dD3XOTIsBN8s",
        "outputId": "5dd64fa7-5810-4c17-95ca-b9b6fd316ebb"
      },
      "execution_count": 111,
      "outputs": [
        {
          "output_type": "execute_result",
          "data": {
            "text/plain": [
              "(1074, 18)"
            ]
          },
          "metadata": {},
          "execution_count": 111
        }
      ]
    },
    {
      "cell_type": "code",
      "source": [
        "#TODO: merge actor names to calendar_data based on participant identifier\n",
        "# actor_names = google_data[['Participant Identifier', 'Actor name']].drop_duplicates(subset = ['Participant Identifier'])\n",
        "# print(actor_names.shape)\n",
        "# actor_names = calendar_data[['Participant Identifier']].drop_duplicates(subset = ['Participant Identifier'])\n",
        "# print(actor_names.shape)\n",
        "\n",
        "# #Merge actor names\n",
        "# result = calendar_data#pd.merge(calendar_data, actor_names, on='Participant Identifier')"
      ],
      "metadata": {
        "id": "VuIigK5VLXrg"
      },
      "execution_count": 112,
      "outputs": []
    },
    {
      "cell_type": "markdown",
      "source": [
        "# STORING ATTENDANCE DATA"
      ],
      "metadata": {
        "id": "szbJwZlCR-aS"
      }
    },
    {
      "cell_type": "code",
      "source": [
        "#Create data frame and store\n",
        "#TODO: write to complete list of all attendance data; over write any redundant data\n",
        "file_name = 'attendance_data_calendar_data.csv'\n",
        "calendar_data.to_csv(file_name, index = False)"
      ],
      "metadata": {
        "id": "81jJRckUR9MQ"
      },
      "execution_count": 113,
      "outputs": []
    },
    {
      "cell_type": "markdown",
      "source": [
        "#FINDING PRODUCTIVE AND ALONE MEETINGS"
      ],
      "metadata": {
        "id": "HlPj2mEn7L4w"
      }
    },
    {
      "cell_type": "code",
      "source": [
        "#XOR function\n",
        "def xor(a, b):\n",
        "  if((a and b) or (not a and not b)):\n",
        "    return False\n",
        "  else:\n",
        "    return True"
      ],
      "metadata": {
        "id": "Z95pzUxGGPMY"
      },
      "execution_count": 114,
      "outputs": []
    },
    {
      "cell_type": "code",
      "source": [
        "#Convert list to string \n",
        "def listToString(s): \n",
        "    \n",
        "    # initialize an empty string\n",
        "    str1 = \"\" \n",
        "    \n",
        "    # traverse in the string  \n",
        "    for ele in s: \n",
        "        str1 += ele + \", \"  \n",
        "    \n",
        "    # return string  \n",
        "    return str1"
      ],
      "metadata": {
        "id": "5XiA2lDKVdTW"
      },
      "execution_count": 115,
      "outputs": []
    },
    {
      "cell_type": "code",
      "source": [
        "#A productive meeting will be a meeting in which at least one mentor and one mentee attended"
      ],
      "metadata": {
        "id": "RYQXO2iEb2f3"
      },
      "execution_count": 116,
      "outputs": []
    },
    {
      "cell_type": "code",
      "source": [
        "#Get all meetings per day \n",
        "productive_meetings  = calendar_data[['String_Date', 'Calendar event ID', 'Program Name']].drop_duplicates(subset=['String_Date', 'Calendar event ID'])\n",
        "productive_meetings['Productive'] = [0]*len(productive_meetings)\n",
        "productive_meetings['Alone'] = [0]*len(productive_meetings)\n",
        "productive_meetings['Absent Type'] = [NaN]*len(productive_meetings)\n",
        "productive_meetings['Absent Identifier'] = [NaN]*len(productive_meetings)"
      ],
      "metadata": {
        "id": "kBK_1M3fFzDU"
      },
      "execution_count": 117,
      "outputs": []
    },
    {
      "cell_type": "code",
      "source": [
        "#For each meeting in each day see if the meeting was productive\n",
        "\n",
        "for index, meeting in productive_meetings.iterrows():\n",
        "  \n",
        "  mentor_attendance = sum(calendar_data[(calendar_data['String_Date'] == meeting['String_Date']) & (calendar_data['Calendar event ID'].str.contains(meeting['Calendar event ID'])) & (calendar_data['User Type'] == mentor_identifier)]['Attendance'].tolist())\n",
        "  mentee_attendance = sum(calendar_data[(calendar_data['String_Date'] == meeting['String_Date']) & (calendar_data['Calendar event ID'].str.contains(meeting['Calendar event ID'])) & (calendar_data['User Type'] == mentee_identifier)]['Attendance'].tolist())\n",
        "\n",
        "  #if session was productive\n",
        "  if(mentor_attendance and mentee_attendance):\n",
        "    productive_meetings['Productive'][index] = 1\n",
        "    productive_meetings['Absent Type'][index] = NaN\n",
        "\n",
        "  #If only one particpant showed\n",
        "  elif(xor(mentor_attendance, mentee_attendance)):\n",
        "    #if only one participant joined, record as Alone Session\n",
        "    productive_meetings['Alone'][index] = 1      \n",
        "\n",
        "    #get absentee type\n",
        "    if mentee_attendance:\n",
        "      productive_meetings['Absent Type'][index] = mentor_identifier\n",
        "      productive_meetings['Absent Identifier'][index] = listToString(calendar_data[(calendar_data['String_Date'] == meeting['String_Date']) & (calendar_data['Calendar event ID'].str.contains(meeting['Calendar event ID'])) & (calendar_data['User Type'] == mentor_identifier)]['Participant Identifier'].tolist())\n",
        "    else:\n",
        "      if mentor_attendance:\n",
        "        productive_meetings['Absent Type'][index] = mentee_identifier\n",
        "        productive_meetings['Absent Identifier'][index] = listToString(calendar_data[(calendar_data['String_Date'] == meeting['String_Date']) & (calendar_data['Calendar event ID'].str.contains(meeting['Calendar event ID'])) & (calendar_data['User Type'] == mentee_identifier)]['Participant Identifier'].tolist())\n",
        "\n",
        "  #if no one showed\n",
        "  if(not productive_meetings['Productive'][index] and not productive_meetings['Alone'][index]):\n",
        "    productive_meetings['Absent Type'][index] = NaN\n",
        "\n",
        "      \n",
        "      #productive_meetings['Absent Type'][index] = (mentor_identifier if mentee_attendance else (mentee_identifier if mentor_attendance else NaN))\n",
        "    "
      ],
      "metadata": {
        "id": "iMjBoEw_dNQL",
        "colab": {
          "base_uri": "https://localhost:8080/"
        },
        "outputId": "5b12711e-f718-443c-8b9f-66337242137b"
      },
      "execution_count": 118,
      "outputs": [
        {
          "output_type": "stream",
          "name": "stderr",
          "text": [
            "/usr/local/lib/python3.7/dist-packages/ipykernel_launcher.py:29: SettingWithCopyWarning: \n",
            "A value is trying to be set on a copy of a slice from a DataFrame\n",
            "\n",
            "See the caveats in the documentation: https://pandas.pydata.org/pandas-docs/stable/user_guide/indexing.html#returning-a-view-versus-a-copy\n",
            "/usr/local/lib/python3.7/dist-packages/ipykernel_launcher.py:16: SettingWithCopyWarning: \n",
            "A value is trying to be set on a copy of a slice from a DataFrame\n",
            "\n",
            "See the caveats in the documentation: https://pandas.pydata.org/pandas-docs/stable/user_guide/indexing.html#returning-a-view-versus-a-copy\n",
            "  app.launch_new_instance()\n",
            "/usr/local/lib/python3.7/dist-packages/ipykernel_launcher.py:24: SettingWithCopyWarning: \n",
            "A value is trying to be set on a copy of a slice from a DataFrame\n",
            "\n",
            "See the caveats in the documentation: https://pandas.pydata.org/pandas-docs/stable/user_guide/indexing.html#returning-a-view-versus-a-copy\n",
            "/usr/local/lib/python3.7/dist-packages/pandas/core/indexing.py:1732: SettingWithCopyWarning: \n",
            "A value is trying to be set on a copy of a slice from a DataFrame\n",
            "\n",
            "See the caveats in the documentation: https://pandas.pydata.org/pandas-docs/stable/user_guide/indexing.html#returning-a-view-versus-a-copy\n",
            "  self._setitem_single_block(indexer, value, name)\n",
            "/usr/local/lib/python3.7/dist-packages/ipykernel_launcher.py:25: SettingWithCopyWarning: \n",
            "A value is trying to be set on a copy of a slice from a DataFrame\n",
            "\n",
            "See the caveats in the documentation: https://pandas.pydata.org/pandas-docs/stable/user_guide/indexing.html#returning-a-view-versus-a-copy\n",
            "/usr/local/lib/python3.7/dist-packages/ipykernel_launcher.py:10: SettingWithCopyWarning: \n",
            "A value is trying to be set on a copy of a slice from a DataFrame\n",
            "\n",
            "See the caveats in the documentation: https://pandas.pydata.org/pandas-docs/stable/user_guide/indexing.html#returning-a-view-versus-a-copy\n",
            "  # Remove the CWD from sys.path while we load stuff.\n"
          ]
        }
      ]
    },
    {
      "cell_type": "markdown",
      "source": [
        "# STORING PRODUCTIVE MEETINGS"
      ],
      "metadata": {
        "id": "egp3ozWJiCqB"
      }
    },
    {
      "cell_type": "code",
      "source": [
        "#Create data frame and store\n",
        "#TODO: write to complete list of all attendance data; over write any redundant data\n",
        "file_name = 'productive_meetings.csv'\n",
        "productive_meetings.to_csv(file_name, index = False)"
      ],
      "metadata": {
        "id": "mDl-g0QyiGJx"
      },
      "execution_count": 119,
      "outputs": []
    },
    {
      "cell_type": "code",
      "source": [
        "productive_meetings.head()"
      ],
      "metadata": {
        "id": "MuzWJrd9ApZA",
        "colab": {
          "base_uri": "https://localhost:8080/",
          "height": 206
        },
        "outputId": "042b2b63-cdfc-4270-91b0-6ebe9b26112c"
      },
      "execution_count": 120,
      "outputs": [
        {
          "output_type": "execute_result",
          "data": {
            "text/plain": [
              "   String_Date           Calendar event ID               Program Name  \\\n",
              "0   03/08/2022  5erofcmm565padl4bg09i679ro  Charity Center, Zambia MP   \n",
              "6   03/08/2022  u3n096js4a4an2s10bp74er3v8  Charity Center, Zambia MP   \n",
              "12  03/08/2022  mt5g2npjvlvid0lepe7gcsm3k0  Charity Center, Zambia MP   \n",
              "19  03/08/2022  bf5ujffl3v492fao9ptt40gsvk  Charity Center, Zambia MP   \n",
              "24  03/08/2022  b577jgfuid62ep3vuenu3tuk88  Charity Center, Zambia MP   \n",
              "\n",
              "    Productive  Alone Absent Type  \\\n",
              "0            0      0         NaN   \n",
              "6            0      0         NaN   \n",
              "12           0      0         NaN   \n",
              "19           0      0         NaN   \n",
              "24           0      1     Student   \n",
              "\n",
              "                                    Absent Identifier  \n",
              "0                                                 NaN  \n",
              "6                                                 NaN  \n",
              "12                                                NaN  \n",
              "19                                                NaN  \n",
              "24  mpcharitycentre@villagebookbuilders.org, chari...  "
            ],
            "text/html": [
              "\n",
              "  <div id=\"df-8c90a50a-662c-463c-89ff-7b8c89d6c4f7\">\n",
              "    <div class=\"colab-df-container\">\n",
              "      <div>\n",
              "<style scoped>\n",
              "    .dataframe tbody tr th:only-of-type {\n",
              "        vertical-align: middle;\n",
              "    }\n",
              "\n",
              "    .dataframe tbody tr th {\n",
              "        vertical-align: top;\n",
              "    }\n",
              "\n",
              "    .dataframe thead th {\n",
              "        text-align: right;\n",
              "    }\n",
              "</style>\n",
              "<table border=\"1\" class=\"dataframe\">\n",
              "  <thead>\n",
              "    <tr style=\"text-align: right;\">\n",
              "      <th></th>\n",
              "      <th>String_Date</th>\n",
              "      <th>Calendar event ID</th>\n",
              "      <th>Program Name</th>\n",
              "      <th>Productive</th>\n",
              "      <th>Alone</th>\n",
              "      <th>Absent Type</th>\n",
              "      <th>Absent Identifier</th>\n",
              "    </tr>\n",
              "  </thead>\n",
              "  <tbody>\n",
              "    <tr>\n",
              "      <th>0</th>\n",
              "      <td>03/08/2022</td>\n",
              "      <td>5erofcmm565padl4bg09i679ro</td>\n",
              "      <td>Charity Center, Zambia MP</td>\n",
              "      <td>0</td>\n",
              "      <td>0</td>\n",
              "      <td>NaN</td>\n",
              "      <td>NaN</td>\n",
              "    </tr>\n",
              "    <tr>\n",
              "      <th>6</th>\n",
              "      <td>03/08/2022</td>\n",
              "      <td>u3n096js4a4an2s10bp74er3v8</td>\n",
              "      <td>Charity Center, Zambia MP</td>\n",
              "      <td>0</td>\n",
              "      <td>0</td>\n",
              "      <td>NaN</td>\n",
              "      <td>NaN</td>\n",
              "    </tr>\n",
              "    <tr>\n",
              "      <th>12</th>\n",
              "      <td>03/08/2022</td>\n",
              "      <td>mt5g2npjvlvid0lepe7gcsm3k0</td>\n",
              "      <td>Charity Center, Zambia MP</td>\n",
              "      <td>0</td>\n",
              "      <td>0</td>\n",
              "      <td>NaN</td>\n",
              "      <td>NaN</td>\n",
              "    </tr>\n",
              "    <tr>\n",
              "      <th>19</th>\n",
              "      <td>03/08/2022</td>\n",
              "      <td>bf5ujffl3v492fao9ptt40gsvk</td>\n",
              "      <td>Charity Center, Zambia MP</td>\n",
              "      <td>0</td>\n",
              "      <td>0</td>\n",
              "      <td>NaN</td>\n",
              "      <td>NaN</td>\n",
              "    </tr>\n",
              "    <tr>\n",
              "      <th>24</th>\n",
              "      <td>03/08/2022</td>\n",
              "      <td>b577jgfuid62ep3vuenu3tuk88</td>\n",
              "      <td>Charity Center, Zambia MP</td>\n",
              "      <td>0</td>\n",
              "      <td>1</td>\n",
              "      <td>Student</td>\n",
              "      <td>mpcharitycentre@villagebookbuilders.org, chari...</td>\n",
              "    </tr>\n",
              "  </tbody>\n",
              "</table>\n",
              "</div>\n",
              "      <button class=\"colab-df-convert\" onclick=\"convertToInteractive('df-8c90a50a-662c-463c-89ff-7b8c89d6c4f7')\"\n",
              "              title=\"Convert this dataframe to an interactive table.\"\n",
              "              style=\"display:none;\">\n",
              "        \n",
              "  <svg xmlns=\"http://www.w3.org/2000/svg\" height=\"24px\"viewBox=\"0 0 24 24\"\n",
              "       width=\"24px\">\n",
              "    <path d=\"M0 0h24v24H0V0z\" fill=\"none\"/>\n",
              "    <path d=\"M18.56 5.44l.94 2.06.94-2.06 2.06-.94-2.06-.94-.94-2.06-.94 2.06-2.06.94zm-11 1L8.5 8.5l.94-2.06 2.06-.94-2.06-.94L8.5 2.5l-.94 2.06-2.06.94zm10 10l.94 2.06.94-2.06 2.06-.94-2.06-.94-.94-2.06-.94 2.06-2.06.94z\"/><path d=\"M17.41 7.96l-1.37-1.37c-.4-.4-.92-.59-1.43-.59-.52 0-1.04.2-1.43.59L10.3 9.45l-7.72 7.72c-.78.78-.78 2.05 0 2.83L4 21.41c.39.39.9.59 1.41.59.51 0 1.02-.2 1.41-.59l7.78-7.78 2.81-2.81c.8-.78.8-2.07 0-2.86zM5.41 20L4 18.59l7.72-7.72 1.47 1.35L5.41 20z\"/>\n",
              "  </svg>\n",
              "      </button>\n",
              "      \n",
              "  <style>\n",
              "    .colab-df-container {\n",
              "      display:flex;\n",
              "      flex-wrap:wrap;\n",
              "      gap: 12px;\n",
              "    }\n",
              "\n",
              "    .colab-df-convert {\n",
              "      background-color: #E8F0FE;\n",
              "      border: none;\n",
              "      border-radius: 50%;\n",
              "      cursor: pointer;\n",
              "      display: none;\n",
              "      fill: #1967D2;\n",
              "      height: 32px;\n",
              "      padding: 0 0 0 0;\n",
              "      width: 32px;\n",
              "    }\n",
              "\n",
              "    .colab-df-convert:hover {\n",
              "      background-color: #E2EBFA;\n",
              "      box-shadow: 0px 1px 2px rgba(60, 64, 67, 0.3), 0px 1px 3px 1px rgba(60, 64, 67, 0.15);\n",
              "      fill: #174EA6;\n",
              "    }\n",
              "\n",
              "    [theme=dark] .colab-df-convert {\n",
              "      background-color: #3B4455;\n",
              "      fill: #D2E3FC;\n",
              "    }\n",
              "\n",
              "    [theme=dark] .colab-df-convert:hover {\n",
              "      background-color: #434B5C;\n",
              "      box-shadow: 0px 1px 3px 1px rgba(0, 0, 0, 0.15);\n",
              "      filter: drop-shadow(0px 1px 2px rgba(0, 0, 0, 0.3));\n",
              "      fill: #FFFFFF;\n",
              "    }\n",
              "  </style>\n",
              "\n",
              "      <script>\n",
              "        const buttonEl =\n",
              "          document.querySelector('#df-8c90a50a-662c-463c-89ff-7b8c89d6c4f7 button.colab-df-convert');\n",
              "        buttonEl.style.display =\n",
              "          google.colab.kernel.accessAllowed ? 'block' : 'none';\n",
              "\n",
              "        async function convertToInteractive(key) {\n",
              "          const element = document.querySelector('#df-8c90a50a-662c-463c-89ff-7b8c89d6c4f7');\n",
              "          const dataTable =\n",
              "            await google.colab.kernel.invokeFunction('convertToInteractive',\n",
              "                                                     [key], {});\n",
              "          if (!dataTable) return;\n",
              "\n",
              "          const docLinkHtml = 'Like what you see? Visit the ' +\n",
              "            '<a target=\"_blank\" href=https://colab.research.google.com/notebooks/data_table.ipynb>data table notebook</a>'\n",
              "            + ' to learn more about interactive tables.';\n",
              "          element.innerHTML = '';\n",
              "          dataTable['output_type'] = 'display_data';\n",
              "          await google.colab.output.renderOutput(dataTable, element);\n",
              "          const docLink = document.createElement('div');\n",
              "          docLink.innerHTML = docLinkHtml;\n",
              "          element.appendChild(docLink);\n",
              "        }\n",
              "      </script>\n",
              "    </div>\n",
              "  </div>\n",
              "  "
            ]
          },
          "metadata": {},
          "execution_count": 120
        }
      ]
    },
    {
      "cell_type": "markdown",
      "source": [
        "#SAVING DATA AS GOOGLE SHEETS"
      ],
      "metadata": {
        "id": "agtSKw1U4DBh"
      }
    },
    {
      "cell_type": "code",
      "source": [
        "#Sheet Info\n",
        "spreadsheet_key = '1zdKt4k-d9tvi5pm_nyQj5KfdLhVcJSDL5ekrXwfkR1M'\n",
        "workbook = gc.open_by_key(spreadsheet_key)\n",
        "\n",
        "#Converting datetimes to string\n",
        "calendar_data['Event Start UTC'] = calendar_data['Event Start UTC'].astype(str)\n",
        "calendar_data['Event End UTC'] = calendar_data['Event End UTC'].astype(str)\n",
        "calendar_data.fillna('', inplace=True)\n",
        "\n",
        "\n",
        "#Writing dataframe to google sheet\n",
        "workbook.values_update(\n",
        "  'sheet1!A1',\n",
        "  params={\n",
        "      'valueInputOption': 'USER_ENTERED'\n",
        "  },\n",
        "  body={\n",
        "      'values': [calendar_data.columns.values.tolist()] + calendar_data.values.tolist()\n",
        "  }\n",
        ")"
      ],
      "metadata": {
        "colab": {
          "base_uri": "https://localhost:8080/"
        },
        "id": "1Rr2SH8HB1yK",
        "outputId": "fbcc552b-87c6-4a46-9090-1f878f2e5ca1"
      },
      "execution_count": 121,
      "outputs": [
        {
          "output_type": "execute_result",
          "data": {
            "text/plain": [
              "{'spreadsheetId': '1zdKt4k-d9tvi5pm_nyQj5KfdLhVcJSDL5ekrXwfkR1M',\n",
              " 'updatedCells': 19350,\n",
              " 'updatedColumns': 18,\n",
              " 'updatedRange': 'Sheet1!A1:R1075',\n",
              " 'updatedRows': 1075}"
            ]
          },
          "metadata": {},
          "execution_count": 121
        }
      ]
    },
    {
      "cell_type": "code",
      "source": [
        "#Sheet Info\n",
        "spreadsheet_key = '1ag6astOJXNwCJRz3vVu3gkGa_aMEi4E7VaeCj5ObbSk'\n",
        "workbook = gc.open_by_key(spreadsheet_key)\n",
        "\n",
        "#Replace all NaN's with empty string\n",
        "productive_meetings.fillna('', inplace=True)\n",
        "\n",
        "#Writing to google sheet\n",
        "workbook.values_update(\n",
        "  'sheet1!A1',\n",
        "  params={\n",
        "      'valueInputOption': 'USER_ENTERED'\n",
        "  },\n",
        "  body={\n",
        "      'values': [productive_meetings.columns.values.tolist()] + productive_meetings.values.tolist()\n",
        "  }\n",
        ")"
      ],
      "metadata": {
        "colab": {
          "base_uri": "https://localhost:8080/"
        },
        "id": "7mzlbUDu4A1b",
        "outputId": "e4910ae5-d693-4bb2-e2f3-5c896d84fb52"
      },
      "execution_count": 122,
      "outputs": [
        {
          "output_type": "execute_result",
          "data": {
            "text/plain": [
              "{'spreadsheetId': '1ag6astOJXNwCJRz3vVu3gkGa_aMEi4E7VaeCj5ObbSk',\n",
              " 'updatedCells': 1862,\n",
              " 'updatedColumns': 7,\n",
              " 'updatedRange': 'Sheet1!A1:G266',\n",
              " 'updatedRows': 266}"
            ]
          },
          "metadata": {},
          "execution_count": 122
        }
      ]
    }
  ]
}